{
 "cells": [
  {
   "cell_type": "markdown",
   "metadata": {},
   "source": [
    "# How to Create a Faust\n",
    "\n",
    "### 1. Setting the Factors Manually\n",
    "\n",
    "Let's start by creating a [Faust](https://faustgrp.gitlabpages.inria.fr/faust/last-doc/html/classpyfaust_1_1Faust.html) manually, that is factor by factor.\n",
    "\n",
    "Below is a creation of a Faust containing 5 factors, alternating sparse and dense factors.\n"
   ]
  },
  {
   "cell_type": "code",
   "execution_count": 1,
   "metadata": {},
   "outputs": [],
   "source": [
    "from pyfaust import Faust\n",
    "import numpy as np\n",
    "from scipy import sparse\n",
    "factors = []\n",
    "is_sparse = False\n",
    "for i in range(0,5):\n",
    "    if(is_sparse):\n",
    "        factors += [ sparse.random(100,100, dtype=np.float64, format='csr',\n",
    "                                  density=0.1)]\n",
    "    else:\n",
    "        factors += [ np.random.rand(100, 100).astype(np.float64) ]\n",
    "    is_sparse = not is_sparse\n",
    "F = Faust(factors)"
   ]
  },
  {
   "cell_type": "markdown",
   "metadata": {},
   "source": [
    "Note that sparse factors are in csr format but you can also use csc format (other formats for sparse matrices are not supported).\n",
    "\n",
    "It can be interesting to look at the [scipy.sparse](https://docs.scipy.org/doc/scipy/reference/sparse.html) module documentation, in particular: [csr_matrix](https://docs.scipy.org/doc/scipy/reference/generated/scipy.sparse.csr_matrix.html), [csc_matrix](https://docs.scipy.org/doc/scipy/reference/generated/scipy.sparse.csc_matrix.html)."
   ]
  },
  {
   "cell_type": "code",
   "execution_count": 2,
   "metadata": {
    "scrolled": true
   },
   "outputs": [
    {
     "data": {
      "text/plain": [
       "Faust size 100x100, density 3.2, nnz_sum 32000, 5 factor(s): \n",
       "- FACTOR 0 (real) DENSE,  size 100x100, density 1, nnz 10000\n",
       "- FACTOR 1 (real) SPARSE, size 100x100, density 0.1, nnz 1000\n",
       "- FACTOR 2 (real) DENSE,  size 100x100, density 1, nnz 10000\n",
       "- FACTOR 3 (real) SPARSE, size 100x100, density 0.1, nnz 1000\n",
       "- FACTOR 4 (real) DENSE,  size 100x100, density 1, nnz 10000"
      ]
     },
     "execution_count": 2,
     "metadata": {},
     "output_type": "execute_result"
    }
   ],
   "source": [
    "F"
   ]
  },
  {
   "cell_type": "markdown",
   "metadata": {},
   "source": [
    "As you noticed, the Faust output contains the list of factors and their features but also a header describing the Faust operator itself: its size, its density, the number of nonzeros it contains (```nnz_sum```) along all its factors.\n",
    "You can also call **[F.display()](https://faustgrp.gitlabpages.inria.fr/faust/last-doc/html/classpyfaust_1_1Faust.html#a34bdc939e28dd9d1cd102ad715e6fb91)** or simply ```print(F)``` to get these informations."
   ]
  },
  {
   "cell_type": "code",
   "execution_count": 3,
   "metadata": {},
   "outputs": [
    {
     "name": "stdout",
     "output_type": "stream",
     "text": [
      "Faust size 100x100, density 3.2, nnz_sum 32000, 5 factor(s): \n",
      "- FACTOR 0 (real) DENSE,  size 100x100, density 1, nnz 10000\n",
      "- FACTOR 1 (real) SPARSE, size 100x100, density 0.1, nnz 1000\n",
      "- FACTOR 2 (real) DENSE,  size 100x100, density 1, nnz 10000\n",
      "- FACTOR 3 (real) SPARSE, size 100x100, density 0.1, nnz 1000\n",
      "- FACTOR 4 (real) DENSE,  size 100x100, density 1, nnz 10000\n",
      "\n",
      "Faust size 100x100, density 3.2, nnz_sum 32000, 5 factor(s): \n",
      "- FACTOR 0 (real) DENSE,  size 100x100, density 1, nnz 10000\n",
      "- FACTOR 1 (real) SPARSE, size 100x100, density 0.1, nnz 1000\n",
      "- FACTOR 2 (real) DENSE,  size 100x100, density 1, nnz 10000\n",
      "- FACTOR 3 (real) SPARSE, size 100x100, density 0.1, nnz 1000\n",
      "- FACTOR 4 (real) DENSE,  size 100x100, density 1, nnz 10000\n",
      "\n"
     ]
    }
   ],
   "source": [
    "F.display()\n",
    "print(F)"
   ]
  },
  {
   "cell_type": "markdown",
   "metadata": {},
   "source": [
    "### 2. Faust File Loading \n",
    "\n",
    "It's really handy to create a Faust and retrieve it from a file later. Let's see in the code below how to proceed.\n",
    "\n",
    "First save the Faust."
   ]
  },
  {
   "cell_type": "code",
   "execution_count": 4,
   "metadata": {},
   "outputs": [],
   "source": [
    "F.save('F.mat')"
   ]
  },
  {
   "cell_type": "markdown",
   "metadata": {},
   "source": [
    "Now let's get it back from file."
   ]
  },
  {
   "cell_type": "code",
   "execution_count": 5,
   "metadata": {},
   "outputs": [
    {
     "data": {
      "text/plain": [
       "Faust size 100x100, density 3.2, nnz_sum 32000, 5 factor(s): \n",
       "- FACTOR 0 (real) DENSE,  size 100x100, density 1, nnz 10000\n",
       "- FACTOR 1 (real) SPARSE, size 100x100, density 0.1, nnz 1000\n",
       "- FACTOR 2 (real) DENSE,  size 100x100, density 1, nnz 10000\n",
       "- FACTOR 3 (real) SPARSE, size 100x100, density 0.1, nnz 1000\n",
       "- FACTOR 4 (real) DENSE,  size 100x100, density 1, nnz 10000"
      ]
     },
     "execution_count": 5,
     "metadata": {},
     "output_type": "execute_result"
    }
   ],
   "source": [
    "file_F = Faust(filepath='F.mat')\n",
    "file_F"
   ]
  },
  {
   "cell_type": "markdown",
   "metadata": {},
   "source": [
    "The file storage format used is matlab v7. This format allows the compatibility between pyfaust and [matfaust](https://faustgrp.gitlabpages.inria.fr/faust/last-doc/html/namespacematfaust.html), the matlab wrapper. You can easily reload the F.mat file from matfaust."
   ]
  },
  {
   "cell_type": "markdown",
   "metadata": {},
   "source": [
    "### 3. Generating a Random Faust\n",
    "\n",
    "The pyfaust package provides functions for generating Faust objects by many manners.\n",
    "One noticeable function of this package is [rand()](https://faustgrp.gitlabpages.inria.fr/faust/last-doc/html/namespacepyfaust.html#a270bdf9e09799e86c95a21f16bc612b8). This function allows to generate a random Faust satisfying certain constraints; the number of factors, the size of these factors, the density, the scalar type, etc.\n",
    "\n",
    "Below are examples of random generations."
   ]
  },
  {
   "cell_type": "code",
   "execution_count": 9,
   "metadata": {},
   "outputs": [],
   "source": [
    "from pyfaust import rand\n",
    "F = rand(2, 10, density=.5, field='complex')\n",
    "G = rand([2, 5], [10, 20], density=.5, fac_type='dense')"
   ]
  },
  {
   "cell_type": "markdown",
   "metadata": {},
   "source": [
    "F is a complex Faust. Its rate of nonzeros, for *each factor*, is about 0.5. Since the ```fac_type``` argument is not set, each factor is randomly dense or sparse."
   ]
  },
  {
   "cell_type": "code",
   "execution_count": 10,
   "metadata": {},
   "outputs": [
    {
     "data": {
      "text/plain": [
       "Faust size 10x10, density 1, nnz_sum 100, 2 factor(s): \n",
       "- FACTOR 0 (complex) SPARSE, size 10x10, density 0.5, nnz 50\n",
       "- FACTOR 1 (complex) SPARSE, size 10x10, density 0.5, nnz 50"
      ]
     },
     "execution_count": 10,
     "metadata": {},
     "output_type": "execute_result"
    }
   ],
   "source": [
    "F"
   ]
  },
  {
   "cell_type": "markdown",
   "metadata": {},
   "source": [
    "G is a real Faust (the default scalar type). The [rand()](https://faustgrp.gitlabpages.inria.fr/faust/last-doc/html/namespacepyfaust.html#a270bdf9e09799e86c95a21f16bc612b8) call first argument (```[2, 5]```) is the bounds in which we want the number of factors to be and likewise the second argument defines the bounds in which to randomly choose the sizes of the two dimensions of each factor composing the Faust. The sizes are chosen to keep G consistent though, this is a matrix product!"
   ]
  },
  {
   "cell_type": "code",
   "execution_count": 8,
   "metadata": {},
   "outputs": [
    {
     "data": {
      "text/plain": [
       "Faust size 19x17, density 1.07121, nnz_sum 346, 3 factor(s): \n",
       "- FACTOR 0 (real) DENSE,  size 19x11, density 0.454545, nnz 95\n",
       "- FACTOR 1 (real) DENSE,  size 11x19, density 0.473684, nnz 99\n",
       "- FACTOR 2 (real) DENSE,  size 19x17, density 0.470588, nnz 152"
      ]
     },
     "execution_count": 8,
     "metadata": {},
     "output_type": "execute_result"
    }
   ],
   "source": [
    "G"
   ]
  },
  {
   "cell_type": "markdown",
   "metadata": {},
   "source": [
    "The [rand()](https://faustgrp.gitlabpages.inria.fr/faust/last-doc/html/namespacepyfaust.html#a270bdf9e09799e86c95a21f16bc612b8) function will surely be of a great help if you want to test the [Faust](https://faustgrp.gitlabpages.inria.fr/faust/last-doc/html/classpyfaust_1_1Faust.html) member functions. A second notebook might guide you in that road: [How to Manipulate a Faust](https://faustgrp.gitlabpages.inria.fr/faust/last-doc/html/Faust_manipulation.html)."
   ]
  },
  {
   "cell_type": "markdown",
   "metadata": {},
   "source": [
    "### 4. Other Ways of Creation\n",
    "\n",
    "There exist many ways to create a Faust, please look at the package [documentation](https://faustgrp.gitlabpages.inria.fr/faust/last-doc/html/namespacepyfaust.html) for more information.\n",
    "It would be the topic of another notebook! If you want, for example, to learn about Faust generation based on the FAµST's factorization algorithms, check this notebook: [Using the FAµST Factorization Wrappers](https://faustgrp.gitlabpages.inria.fr/faust/last-doc/html/Faust_factorization.html)."
   ]
  }
 ],
 "metadata": {
  "kernelspec": {
   "display_name": "Python 3",
   "language": "python",
   "name": "python3"
  },
  "language_info": {
   "codemirror_mode": {
    "name": "ipython",
    "version": 3
   },
   "file_extension": ".py",
   "mimetype": "text/x-python",
   "name": "python",
   "nbconvert_exporter": "python",
   "pygments_lexer": "ipython3",
   "version": "3.6.5"
  }
 },
 "nbformat": 4,
 "nbformat_minor": 2
}
