{
 "cells": [
  {
   "cell_type": "markdown",
   "metadata": {},
   "source": [
    "# How to Manipulate a Faust\n",
    "\n",
    "<a name=\"start\"></a>\n",
    "This notebook is intended to introduce gently the operations available to manipulate a Faust object. \n",
    "It comes after the first notebook (available [here](https://faustgrp.gitlabpages.inria.fr/faust/last-doc/html/Faust_creation.ipynb) or as a web page [here](https://faustgrp.gitlabpages.inria.fr/faust/last-doc/html/Faust_creation.html)), so it's assumed you already know how to create a Faust object from one way or another.\n",
    "\n",
    "Keep in mind that a full API doc is available [here](https://faustgrp.gitlabpages.inria.fr/faust/last-doc/html/namespacepyfaust.html) every time you need a detail and especially the Faust class is documented [here](https://faustgrp.gitlabpages.inria.fr/faust/last-doc/html/classpyfaust_1_1Faust.html).\n",
    "\n",
    "# Table of Contents:\n",
    "\n",
    "[**1. Getting Basic Information about a Faust Object**](#1.-Getting-Basic-Information-about-a-Faust-Object)<br/>\n",
    "[1.1 Obtaining Dimension and Scalar Type Information](#1.1-Obtaining-Dimension-and-Scalar-Type-Information)<br/>\n",
    "[1.2 Obtaining more Faust Specific Information](#1.2-Obtaining-more-Faust-Specific-Information)<br/>\n",
    "[1.3 Plotting a Faust](#1.3-Plotting-a-Faust)<br/>\n",
    "[1.4 About Sparsity!](#1.4-About-Sparsity!)<br/>\n",
    "\n",
    "[**2. Faust Algebra and other Operations**](#2.-Faust-Algebra-and-other-Operations)<br/>\n",
    "[2.1 Transpose, conjugate, transconjugate](#2.1-Transpose,-conjugate,-transconjugate)<br/>\n",
    "[2.2 Add, Substract and Multiply](#2.2-Add,-Substract-and-Multiply)<br/>\n",
    "[2.3 Faust Multiplication by a Vector or a Matrix](#2.3-Faust-Multiplication-by-a-Vector-or-a-Matrix)<br/>\n",
    "[2.4 Faust Norms](#2.4-Faust-Norms)<br/>\n",
    "[2.5 Faust Normalizations](#2.5-Faust-Normalizations)<br/>\n",
    "[2.6 Faust Concatenation](#2.6-Faust-Concatenation)<br/>\n",
    "[2.7 Faust Indexing and Slicing](#2.7-Faust-Indexing-and-Slicing)<br/>\n",
    "\n",
    "\n",
    "# 1. Getting Basic Information about a Faust Object\n",
    "\n",
    "First of all, given any object, you might ask yourself if it's a Faust or not (typically when you receive an object in a function, python being built on dynamic types, you can't say for sure it's a Faust). \n",
    "[Faust.isFaust()](https://faustgrp.gitlabpages.inria.fr/faust/last-doc/html/classpyfaust_1_1Faust.html#a965047e6c0161e59a1c3e08f2b60e806) is the function to verify an object is a Faust.\n",
    "It's use is straighforward as you can see in the [documentation](https://faustgrp.gitlabpages.inria.fr/faust/last-doc/html/classpyfaust_1_1Faust.html#a965047e6c0161e59a1c3e08f2b60e806).\n",
    "\n",
    "\n",
    "### 1.1 Obtaining Dimension and Scalar Type Information\n",
    "\n",
    "Firstly, let's list basic Faust informative methods/attributes you're probably used to for numpy arrays:\n",
    "\n",
    "- [shape](https://faustgrp.gitlabpages.inria.fr/faust/last-doc/html/classpyfaust_1_1Faust.html#a64b167c138d18a23bb5b9794fcb03ef1),\n",
    "- [size](https://faustgrp.gitlabpages.inria.fr/faust/last-doc/html/classpyfaust_1_1Faust.html#a6505fdc600b4868bbe77d8fc4a48b350),\n",
    "- [dtype](https://faustgrp.gitlabpages.inria.fr/faust/last-doc/html/classpyfaust_1_1Faust.html#ad0615fb9508899a95af2c7de42377e91).\n",
    "\n",
    "To keep it really clear, let's show some examples operated on a random Faust.\n"
   ]
  },
  {
   "cell_type": "code",
   "execution_count": 1,
   "metadata": {},
   "outputs": [
    {
     "name": "stdout",
     "output_type": "stream",
     "text": [
      "Faust size 10x10, density 2.5, nnz_sum 250, 5 factor(s): \n",
      "- FACTOR 0 (real) SPARSE, size 10x10, density 0.5, nnz 50\n",
      "- FACTOR 1 (real) DENSE, size 10x10, density 0.5, nnz 50\n",
      "- FACTOR 2 (real) DENSE, size 10x10, density 0.5, nnz 50\n",
      "- FACTOR 3 (real) SPARSE, size 10x10, density 0.5, nnz 50\n",
      "- FACTOR 4 (real) SPARSE, size 10x10, density 0.5, nnz 50\n",
      "\n"
     ]
    }
   ],
   "source": [
    "from pyfaust import FaustFactory as FF\n",
    "F = FF.rand(5,10)\n",
    "print(F)"
   ]
  },
  {
   "cell_type": "code",
   "execution_count": 2,
   "metadata": {
    "scrolled": true
   },
   "outputs": [
    {
     "data": {
      "text/plain": [
       "(10, 10)"
      ]
     },
     "execution_count": 2,
     "metadata": {},
     "output_type": "execute_result"
    }
   ],
   "source": [
    "F.shape"
   ]
  },
  {
   "cell_type": "code",
   "execution_count": 3,
   "metadata": {},
   "outputs": [
    {
     "data": {
      "text/plain": [
       "100"
      ]
     },
     "execution_count": 3,
     "metadata": {},
     "output_type": "execute_result"
    }
   ],
   "source": [
    "F.size"
   ]
  },
  {
   "cell_type": "code",
   "execution_count": 4,
   "metadata": {},
   "outputs": [
    {
     "data": {
      "text/plain": [
       "dtype('float64')"
      ]
     },
     "execution_count": 4,
     "metadata": {},
     "output_type": "execute_result"
    }
   ],
   "source": [
    "F.dtype"
   ]
  },
  {
   "cell_type": "markdown",
   "metadata": {},
   "source": [
    "If the attributes printed out above seem not clear to you, you're probably not a numpy user. Anyway you'll find all descriptive informations in the FAµST API documentation (see the links [above](#start)).\n",
    "\n",
    "As a complement, you can also consult the numpy API documentation:\n",
    "- [shape](https://docs.scipy.org/doc/numpy/reference/generated/numpy.ndarray.shape.html)\n",
    "- [size](https://docs.scipy.org/doc/numpy/reference/generated/numpy.ndarray.size.html)\n",
    "- [dtype](https://docs.scipy.org/doc/numpy/reference/generated/numpy.ndarray.dtype.html)\n",
    "\n",
    "About shape, it's noteworthy that contrary to what numpy is capable of, you cannot [reshape](https://docs.scipy.org/doc/numpy/reference/generated/numpy.ndarray.reshape.html) a Faust.\n"
   ]
  },
  {
   "cell_type": "markdown",
   "metadata": {},
   "source": [
    "### 1.2 Obtaining more Faust Specific Information\n",
    "\n",
    "As you've seen in this notebook and the [first one](#start), when you print a Faust object, several information appear.\n",
    "Most of them are also available independently with specific functions.\n",
    "\n",
    "For instance, if you want information about factors, nothing is more simple than calling directly the next functions:\n",
    "- [get_num_factors()](https://faustgrp.gitlabpages.inria.fr/faust/last-doc/html/classpyfaust_1_1Faust.html#a2b46d3c068ef20d74bb90e382848014e) ; which gives you the number of factors (aka layers) a Faust object is composed of.\n",
    "- [get_factor()](https://faustgrp.gitlabpages.inria.fr/faust/last-doc/html/classpyfaust_1_1Faust.html#adc91fd04c17ccaa2f32b7423955ef37d) ; which allows you to copy any of the Faust's factors givens it's index.\n",
    "\n",
    "Going back to our F object, let's call the functions:"
   ]
  },
  {
   "cell_type": "code",
   "execution_count": 5,
   "metadata": {},
   "outputs": [
    {
     "data": {
      "text/plain": [
       "5"
      ]
     },
     "execution_count": 5,
     "metadata": {},
     "output_type": "execute_result"
    }
   ],
   "source": [
    "F.get_num_factors()"
   ]
  },
  {
   "cell_type": "markdown",
   "metadata": {},
   "source": [
    "For example, try to copy the third factor:"
   ]
  },
  {
   "cell_type": "code",
   "execution_count": 6,
   "metadata": {},
   "outputs": [
    {
     "data": {
      "text/plain": [
       "array([[0.48239945, 0.        , 0.26773595, 0.        , 0.        ,\n",
       "        0.46099664, 0.        , 0.06554474, 0.        , 0.93427112],\n",
       "       [0.        , 0.38214733, 0.        , 0.76716795, 0.        ,\n",
       "        0.        , 0.27132393, 0.60929354, 0.69472198, 0.        ],\n",
       "       [0.62937039, 0.38765466, 0.        , 0.91667629, 0.        ,\n",
       "        0.        , 0.24347763, 0.        , 0.77972069, 0.        ],\n",
       "       [0.58372394, 0.        , 0.        , 0.        , 0.        ,\n",
       "        0.64809945, 0.73409109, 0.26786524, 0.        , 0.33918693],\n",
       "       [0.        , 0.        , 0.        , 0.25608194, 0.        ,\n",
       "        0.52409519, 0.20080742, 0.        , 0.06468786, 0.35858339],\n",
       "       [0.39039618, 0.        , 0.27932253, 0.        , 0.88977709,\n",
       "        0.9174178 , 0.90789959, 0.        , 0.        , 0.        ],\n",
       "       [0.07145354, 0.91120962, 0.        , 0.        , 0.1244982 ,\n",
       "        0.        , 0.37636057, 0.        , 0.        , 0.03362285],\n",
       "       [0.        , 0.        , 0.27989126, 0.        , 0.2104916 ,\n",
       "        0.        , 0.90991218, 0.93839919, 0.        , 0.04583633],\n",
       "       [0.        , 0.17331294, 0.        , 0.        , 0.00317619,\n",
       "        0.        , 0.25773872, 0.6842111 , 0.55885351, 0.        ],\n",
       "       [0.        , 0.        , 0.28078356, 0.16614777, 0.33577345,\n",
       "        0.52094795, 0.76185132, 0.        , 0.        , 0.        ]])"
      ]
     },
     "execution_count": 6,
     "metadata": {},
     "output_type": "execute_result"
    }
   ],
   "source": [
    "f3 = F.get_factor(2)\n",
    "f3"
   ]
  },
  {
   "cell_type": "markdown",
   "metadata": {},
   "source": [
    "Note that, since Faust 2.3, the function doesn't alterate the factor format. If the Faust object contains a sparse factor then you'll receive a sparse (CSR) matrix. \n"
   ]
  },
  {
   "cell_type": "markdown",
   "metadata": {},
   "source": [
    "Contrary to what the singular form of 'get_factor' indicates, it's possible (since Faust 2.3 again) to retrieve a sub-sequence of Faust factors.\n",
    "\n",
    "Go straight to the example, extracting factors from F:"
   ]
  },
  {
   "cell_type": "code",
   "execution_count": 7,
   "metadata": {},
   "outputs": [
    {
     "data": {
      "text/plain": [
       "Faust size 10x10, density 1, nnz_sum 100, 2 factor(s): \n",
       "- FACTOR 0 (real) DENSE, size 10x10, density 0.5, nnz 50\n",
       "- FACTOR 1 (real) SPARSE, size 10x10, density 0.5, nnz 50"
      ]
     },
     "execution_count": 7,
     "metadata": {},
     "output_type": "execute_result"
    }
   ],
   "source": [
    "F.get_factor(range(2,4))"
   ]
  },
  {
   "cell_type": "markdown",
   "metadata": {},
   "source": [
    "Hmm... something is different from the previous example. We indeed received a Faust as return type, great! You've just learned another way to create a Faust from another, additionally to what you've seen in the first [notebook](#start). \n",
    "\n",
    "Without this function, you'd surely have written something similar to:"
   ]
  },
  {
   "cell_type": "code",
   "execution_count": 8,
   "metadata": {},
   "outputs": [
    {
     "data": {
      "text/plain": [
       "Faust size 10x10, density 1, nnz_sum 100, 2 factor(s): \n",
       "- FACTOR 0 (real) DENSE, size 10x10, density 0.5, nnz 50\n",
       "- FACTOR 1 (real) SPARSE, size 10x10, density 0.5, nnz 50"
      ]
     },
     "execution_count": 8,
     "metadata": {},
     "output_type": "execute_result"
    }
   ],
   "source": [
    "from pyfaust import Faust\n",
    "F2 = Faust([F.get_factor(2), F.get_factor(3)])\n",
    "F2"
   ]
  },
  {
   "cell_type": "markdown",
   "metadata": {},
   "source": [
    "OK, that's not awful but I let you imagine how much complicated it is with more factors (even with a comprehension list, it's longer to write).\n",
    "\n",
    "### 1.3 Plotting a Faust\n",
    "\n",
    "It's quite useful to print a Faust as we've seen before, calling ``print(F)`` or ``F.display()`` or just ``F`` in an interactive terminal but this is wordy. \n",
    "How about plotting a Faust in a more graphical fashion ?"
   ]
  },
  {
   "cell_type": "code",
   "execution_count": 12,
   "metadata": {},
   "outputs": [
    {
     "data": {
      "image/png": "[encoded data removed]",
      "text/plain": [
       "<Figure size 432x288 with 6 Axes>"
      ]
     },
     "metadata": {},
     "output_type": "display_data"
    }
   ],
   "source": [
    "import matplotlib.pyplot as plt\n",
    "F.imshow()\n",
    "plt.show()"
   ]
  },
  {
   "cell_type": "markdown",
   "metadata": {},
   "source": [
    "What do we see above ? This is the Faust object resulting dense matrix on the left followed by the Faust's factors on the right.\n",
    "Note that you can change the default [colormap](https://matplotlib.org/tutorials/colors/colormaps.html) in matplotlib parameters.\n",
    "\n",
    "Look this another example to make it clearer."
   ]
  },
  {
   "cell_type": "code",
   "execution_count": 13,
   "metadata": {},
   "outputs": [
    {
     "data": {
      "image/png": "[encoded data removed]",
      "text/plain": [
       "<Figure size 432x288 with 3 Axes>"
      ]
     },
     "metadata": {},
     "output_type": "display_data"
    }
   ],
   "source": [
    "from pyfaust import Faust\n",
    "from numpy import eye\n",
    "Faust([eye(5,4),eye(4,10)]).imshow()"
   ]
  },
  {
   "cell_type": "markdown",
   "metadata": {},
   "source": [
    "All factors are scaled to the same size, that's why the elements of factor 0 are bigger than factor 1 elements.\n",
    "\n",
    "### 1.4 About Sparsity!\n",
    "\n",
    "Three functions of the Faust class are here to evaluate the sparsity of a Faust object.\n",
    "\n",
    "Let's call the first one:\n"
   ]
  },
  {
   "cell_type": "code",
   "execution_count": 14,
   "metadata": {},
   "outputs": [
    {
     "data": {
      "text/plain": [
       "250"
      ]
     },
     "execution_count": 14,
     "metadata": {},
     "output_type": "execute_result"
    }
   ],
   "source": [
    "F.nnz_sum()"
   ]
  },
  {
   "cell_type": "markdown",
   "metadata": {},
   "source": [
    "I'm sure you guessed exactly what the function returns, if you doubt it, here is the doc: [Faust.nnz_sum()](https://faustgrp.gitlabpages.inria.fr/faust/last-doc/html/classpyfaust_1_1Faust.html#a216c598bb384d92b4e37843b67c42255).\n",
    "\n",
    "Next comes the reciprocal function: [Faust.density()](https://faustgrp.gitlabpages.inria.fr/faust/last-doc/html/classpyfaust_1_1Faust.html#af73ecb7c5fca3c7673c665d8ba4058f6).\n",
    "\n",
    "This function along with [Faust.rcg()](https://faustgrp.gitlabpages.inria.fr/faust/last-doc/html/classpyfaust_1_1Faust.html#a6a51a05c20041504a0b8f2a73dd8d05a) can give you a big hint on how much your Faust is potentially optimized both for storage and calculation."
   ]
  },
  {
   "cell_type": "code",
   "execution_count": 15,
   "metadata": {},
   "outputs": [
    {
     "data": {
      "text/plain": [
       "2.5"
      ]
     },
     "execution_count": 15,
     "metadata": {},
     "output_type": "execute_result"
    }
   ],
   "source": [
    "F.density()"
   ]
  },
  {
   "cell_type": "code",
   "execution_count": 16,
   "metadata": {},
   "outputs": [
    {
     "data": {
      "text/plain": [
       "0.4"
      ]
     },
     "execution_count": 16,
     "metadata": {},
     "output_type": "execute_result"
    }
   ],
   "source": [
    "F.rcg()"
   ]
  },
  {
   "cell_type": "markdown",
   "metadata": {},
   "source": [
    "According to its RCG, this Faust doesn't seem to be of any help for optimization but look the graphic the next script generates: "
   ]
  },
  {
   "cell_type": "code",
   "execution_count": 17,
   "metadata": {},
   "outputs": [
    {
     "data": {
      "image/png": "[encoded data removed]",
      "text/plain": [
       "<Figure size 432x288 with 1 Axes>"
      ]
     },
     "metadata": {},
     "output_type": "display_data"
    }
   ],
   "source": [
    "from pyfaust import Faust, FaustFactory\n",
    "import numpy as np\n",
    "import os\n",
    "import matplotlib.pyplot as plt \n",
    "\n",
    "\n",
    "nfactors = 3 \n",
    "startd = 0.01\n",
    "endd = 1 \n",
    "dim_sz = 1000\n",
    "sizes = []\n",
    "rcs = []\n",
    "ntests = 10\n",
    "for i, d in zip(\n",
    "                list(range(0, ntests)),\n",
    "    np.linspace(startd, endd, ntests)):\n",
    "    F = FaustFactory.rand(nfactors, dim_sz, d, fac_type='sparse')\n",
    "    filepath = 'test_faust_size'+str(i)+'.mat'\n",
    "    F.save(filepath)\n",
    "    stat = os.stat(filepath)\n",
    "    sizes.append(stat.st_size)\n",
    "    rcs.append(F.density())\n",
    "    os.remove(filepath)\n",
    "    plt.title('File Size vs RC for Pure-Sparse Fausts \\n('+str(nfactors)+' '\n",
    "              'random factors '+str(dim_sz)+'x'+str(dim_sz)+')')\n",
    "plt.xlabel('Relative Complexity/Density')\n",
    "plt.ylabel('File Size (bytes)')\n",
    "plt.rcParams['figure.figsize'] = [8.0, 6]\n",
    "plt.tight_layout()\n",
    "plt.plot(rcs, sizes)\n",
    "plt.show()\n"
   ]
  },
  {
   "cell_type": "markdown",
   "metadata": {},
   "source": [
    "Isn't it obvious now that the smaller the density the better?! Indeed, for two Faust objects of same shape and same number of factors, a smaller density (linearly) infers a smaller file size for storage.\n",
    "This point applies also to the memory (RAM) space to work on a Faust.\n",
    "\n",
    "We'll see later how the computation can make profit of a bigger RCG (or smaller density). But let's precise right now that the sparsity is often a tradeoff with accuracy, as the following plot shows about the truncated [SVD](https://docs.scipy.org/doc/numpy/reference/generated/numpy.linalg.svd.html) of a matrix $M \\in {\\mathbb R}^{512 \\times 512}$. Note beforehand that the M's SVD (truncated or not) can be seen as a Faust which approximates M.\n",
    "```\n",
    "Faust([U,S,V.H])\n",
    "```\n",
    "<img src=\"data:image/png;base64,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\"/>"
   ]
  },
  {
   "cell_type": "markdown",
   "metadata": {},
   "source": [
    "# 2. Faust Algebra and other Operations"
   ]
  },
  {
   "cell_type": "markdown",
   "metadata": {},
   "source": [
    "In order to write some nice algorithms using Faust objects, you'll have to use the basic stable operations a Faust is capable of. Let's make a tour of them.\n",
    "\n",
    "### 2.1 Transpose, conjugate, transconjugate\n",
    "\n",
    "- [Faust.T](https://faustgrp.gitlabpages.inria.fr/faust/last-doc/html/classpyfaust_1_1Faust.html#a064a412cac321f8211098db0fae84e8e)\n",
    "- [Faust.conj](https://faustgrp.gitlabpages.inria.fr/faust/last-doc/html/classpyfaust_1_1Faust.html#abd273a0e1684a7b238798ac82cd07a61)\n",
    "- [Faust.H](https://faustgrp.gitlabpages.inria.fr/faust/last-doc/html/classpyfaust_1_1Faust.html#ac7b77cdde5f66f85b6458594aa01ad31)\n",
    "\n",
    "You must be familiar with T and H attributes/properties from numpy/scipy. Well, they are also used in Faust class."
   ]
  },
  {
   "cell_type": "code",
   "execution_count": 18,
   "metadata": {},
   "outputs": [],
   "source": [
    "G = FF.rand(5,[10,15],field='complex')"
   ]
  },
  {
   "cell_type": "code",
   "execution_count": 19,
   "metadata": {},
   "outputs": [
    {
     "data": {
      "text/plain": [
       "Faust size 14x13, density 1.78571, nnz_sum 325, 5 factor(s): \n",
       "- FACTOR 0 (complex) SPARSE, size 14x10, density 0.357143, nnz 50\n",
       "- FACTOR 1 (complex) SPARSE, size 10x13, density 0.5, nnz 65\n",
       "- FACTOR 2 (complex) DENSE, size 13x15, density 0.384615, nnz 75\n",
       "- FACTOR 3 (complex) DENSE, size 15x14, density 0.333333, nnz 70\n",
       "- FACTOR 4 (complex) SPARSE, size 14x13, density 0.357143, nnz 65"
      ]
     },
     "execution_count": 19,
     "metadata": {},
     "output_type": "execute_result"
    }
   ],
   "source": [
    "G.T"
   ]
  },
  {
   "cell_type": "code",
   "execution_count": 20,
   "metadata": {},
   "outputs": [
    {
     "data": {
      "text/plain": [
       "Faust size 13x14, density 1.78571, nnz_sum 325, 5 factor(s): \n",
       "- FACTOR 0 (complex) SPARSE, size 13x14, density 0.357143, nnz 65\n",
       "- FACTOR 1 (complex) DENSE, size 14x15, density 0.333333, nnz 70\n",
       "- FACTOR 2 (complex) DENSE, size 15x13, density 0.384615, nnz 75\n",
       "- FACTOR 3 (complex) SPARSE, size 13x10, density 0.5, nnz 65\n",
       "- FACTOR 4 (complex) SPARSE, size 10x14, density 0.357143, nnz 50"
      ]
     },
     "execution_count": 20,
     "metadata": {},
     "output_type": "execute_result"
    }
   ],
   "source": [
    "G.conj()"
   ]
  },
  {
   "cell_type": "code",
   "execution_count": 21,
   "metadata": {},
   "outputs": [
    {
     "data": {
      "text/plain": [
       "Faust size 14x13, density 1.78571, nnz_sum 325, 5 factor(s): \n",
       "- FACTOR 0 (complex) SPARSE, size 14x10, density 0.357143, nnz 50\n",
       "- FACTOR 1 (complex) SPARSE, size 10x13, density 0.5, nnz 65\n",
       "- FACTOR 2 (complex) DENSE, size 13x15, density 0.384615, nnz 75\n",
       "- FACTOR 3 (complex) DENSE, size 15x14, density 0.333333, nnz 70\n",
       "- FACTOR 4 (complex) SPARSE, size 14x13, density 0.357143, nnz 65"
      ]
     },
     "execution_count": 21,
     "metadata": {},
     "output_type": "execute_result"
    }
   ],
   "source": [
    "G.H"
   ]
  },
  {
   "cell_type": "markdown",
   "metadata": {},
   "source": [
    "What really matters here is that G.T, G.conj() and G.H results are all Faust objects, but behind the scene, there is just one memory zone allocated to the factors. Strictly speaking they are memory views shared between G, G.T and G.H. So don't hesitate to use!\n"
   ]
  },
  {
   "cell_type": "markdown",
   "metadata": {},
   "source": [
    "### 2.2 Add, Substract and Multiply"
   ]
  },
  {
   "cell_type": "code",
   "execution_count": 22,
   "metadata": {},
   "outputs": [
    {
     "data": {
      "text/plain": [
       "Faust size 1000x1000, density 3.033, nnz_sum 3033000, 8 factor(s): \n",
       "- FACTOR 0 (complex) SPARSE, size 1000x2000, density 0.001, nnz 2000\n",
       "- FACTOR 1 (complex) SPARSE, size 2000x2000, density 0.0015, nnz 6000\n",
       "- FACTOR 2 (complex) SPARSE, size 2000x2000, density 0.0015, nnz 6000\n",
       "- FACTOR 3 (complex) SPARSE, size 2000x2000, density 0.25125, nnz 1005000\n",
       "- FACTOR 4 (complex) SPARSE, size 2000x2000, density 0.25125, nnz 1005000\n",
       "- FACTOR 5 (complex) SPARSE, size 2000x2000, density 0.25125, nnz 1005000\n",
       "- FACTOR 6 (complex) SPARSE, size 2000x2000, density 0.0005, nnz 2000\n",
       "- FACTOR 7 (complex) SPARSE, size 2000x1000, density 0.001, nnz 2000"
      ]
     },
     "execution_count": 22,
     "metadata": {},
     "output_type": "execute_result"
    }
   ],
   "source": [
    "G = FF.rand(5,F.shape[0],field='complex')\n",
    "F+G"
   ]
  },
  {
   "cell_type": "markdown",
   "metadata": {},
   "source": [
    "Go ahead and verify it's accurate."
   ]
  },
  {
   "cell_type": "code",
   "execution_count": 23,
   "metadata": {},
   "outputs": [
    {
     "data": {
      "text/plain": [
       "1.4552028205771005e-11"
      ]
     },
     "execution_count": 23,
     "metadata": {},
     "output_type": "execute_result"
    }
   ],
   "source": [
    "from numpy.linalg import norm\n",
    "norm((F+G).toarray()-(F.toarray()+G.toarray()))"
   ]
  },
  {
   "cell_type": "markdown",
   "metadata": {},
   "source": [
    "Some points are noticeable here:\n",
    "- F is real (dtype float), but G is complex. Faust API is able to return the proper resulting Faust, that is a complex Faust.\n",
    "- F+G is composed of 8 factors, however F and G are both 5 factors long. It's due to the way the addition is implemented (Faust concatenation is hiding behind).\n",
    "\n",
    "Substracting is not different:"
   ]
  },
  {
   "cell_type": "code",
   "execution_count": 24,
   "metadata": {},
   "outputs": [
    {
     "data": {
      "text/plain": [
       "Faust size 1000x1000, density 3.033, nnz_sum 3033000, 8 factor(s): \n",
       "- FACTOR 0 (complex) SPARSE, size 1000x2000, density 0.001, nnz 2000\n",
       "- FACTOR 1 (complex) SPARSE, size 2000x2000, density 0.0015, nnz 6000\n",
       "- FACTOR 2 (complex) SPARSE, size 2000x2000, density 0.0015, nnz 6000\n",
       "- FACTOR 3 (complex) SPARSE, size 2000x2000, density 0.25125, nnz 1005000\n",
       "- FACTOR 4 (complex) SPARSE, size 2000x2000, density 0.25125, nnz 1005000\n",
       "- FACTOR 5 (complex) SPARSE, size 2000x2000, density 0.25125, nnz 1005000\n",
       "- FACTOR 6 (complex) SPARSE, size 2000x2000, density 0.0005, nnz 2000\n",
       "- FACTOR 7 (complex) SPARSE, size 2000x1000, density 0.001, nnz 2000"
      ]
     },
     "execution_count": 24,
     "metadata": {},
     "output_type": "execute_result"
    }
   ],
   "source": [
    "F-G"
   ]
  },
  {
   "cell_type": "markdown",
   "metadata": {},
   "source": [
    "You can also add/substract scalars to Faust objects."
   ]
  },
  {
   "cell_type": "code",
   "execution_count": 25,
   "metadata": {},
   "outputs": [
    {
     "data": {
      "text/plain": [
       "Faust size 1000x1000, density 3.009, nnz_sum 3009000, 6 factor(s): \n",
       "- FACTOR 0 (real) SPARSE, size 1000x2000, density 0.001, nnz 2000\n",
       "- FACTOR 1 (real) SPARSE, size 2000x2000, density 0.25025, nnz 1001000\n",
       "- FACTOR 2 (real) SPARSE, size 2000x1001, density 0.5, nnz 1001000\n",
       "- FACTOR 3 (real) SPARSE, size 1001x2000, density 0.5, nnz 1001000\n",
       "- FACTOR 4 (real) SPARSE, size 2000x2000, density 0.0005, nnz 2000\n",
       "- FACTOR 5 (real) SPARSE, size 2000x1000, density 0.001, nnz 2000"
      ]
     },
     "execution_count": 25,
     "metadata": {},
     "output_type": "execute_result"
    }
   ],
   "source": [
    "F+2"
   ]
  },
  {
   "cell_type": "markdown",
   "metadata": {},
   "source": [
    "Now let's multiply these Fausts!"
   ]
  },
  {
   "cell_type": "code",
   "execution_count": 26,
   "metadata": {},
   "outputs": [],
   "source": [
    "FG = F*G"
   ]
  },
  {
   "cell_type": "code",
   "execution_count": 27,
   "metadata": {
    "scrolled": true
   },
   "outputs": [
    {
     "data": {
      "text/plain": [
       "8.7452032732525735e-16"
      ]
     },
     "execution_count": 27,
     "metadata": {},
     "output_type": "execute_result"
    }
   ],
   "source": [
    "norm(FG.todense()-F.todense()*G.todense())/norm(F.todense()*G.todense())"
   ]
  },
  {
   "cell_type": "markdown",
   "metadata": {},
   "source": [
    "The relative error proves it's working.\n",
    "FG is a Faust too!"
   ]
  },
  {
   "cell_type": "code",
   "execution_count": 28,
   "metadata": {},
   "outputs": [
    {
     "data": {
      "text/plain": [
       "True"
      ]
     },
     "execution_count": 28,
     "metadata": {},
     "output_type": "execute_result"
    }
   ],
   "source": [
    "Faust.isFaust(FG)"
   ]
  },
  {
   "cell_type": "markdown",
   "metadata": {},
   "source": [
    "Faust scalar multiplication is also available and here again the result is a Faust object!"
   ]
  },
  {
   "cell_type": "code",
   "execution_count": 29,
   "metadata": {},
   "outputs": [
    {
     "data": {
      "text/plain": [
       "Faust size 1000x1000, density 3, nnz_sum 3000000, 3 factor(s): \n",
       "- FACTOR 0 (real) SPARSE, size 1000x1000, density 1, nnz 1000000\n",
       "- FACTOR 1 (real) SPARSE, size 1000x1000, density 1, nnz 1000000\n",
       "- FACTOR 2 (real) SPARSE, size 1000x1000, density 1, nnz 1000000"
      ]
     },
     "execution_count": 29,
     "metadata": {},
     "output_type": "execute_result"
    }
   ],
   "source": [
    "F*2"
   ]
  },
  {
   "cell_type": "markdown",
   "metadata": {},
   "source": [
    "### 2.3 Faust Multiplication by a Vector or a Matrix\n",
    "\n",
    "When you multiply a Faust by a vector or a matrix (which must be dense by the way -- more precisely, a ```numpy.ndarray``` with good ```ndim``` and ```shape```), you'll get respectively a vector or a matrix as result. "
   ]
  },
  {
   "cell_type": "code",
   "execution_count": 30,
   "metadata": {},
   "outputs": [
    {
     "data": {
      "text/plain": [
       "array([[61524228.27303775],\n",
       "       [62655683.70203896],\n",
       "       [63536267.35424224],\n",
       "       [61397128.12127478],\n",
       "       [62722124.45053223],\n",
       "       [62817099.50193444],\n",
       "       [61117495.36070217],\n",
       "       [62401942.46998223],\n",
       "       [62194267.54468706],\n",
       "       [61893292.13833429],\n",
       "       [62006479.05908778],\n",
       "       [59255818.47350521],\n",
       "       [60384504.01667629],\n",
       "       [65422323.31303475],\n",
       "       [62158296.6673636 ],\n",
       "       [61388479.6731163 ],\n",
       "       [61974957.12791041],\n",
       "       [63659896.20418106],\n",
       "       [60710083.23271275],\n",
       "       [63394085.20122941],\n",
       "       [63544924.24415425],\n",
       "       [61172395.93473122],\n",
       "       [61066237.31170392],\n",
       "       [62216482.19319198],\n",
       "       [63104010.31591255],\n",
       "       [64203418.11998648],\n",
       "       [63359982.30631332],\n",
       "       [62398215.27970968],\n",
       "       [62878413.85782381],\n",
       "       [62814447.74486743],\n",
       "       [62278599.46608059],\n",
       "       [62134983.37228966],\n",
       "       [62017223.75094246],\n",
       "       [63579141.39427785],\n",
       "       [63150967.92122201],\n",
       "       [63279613.07962929],\n",
       "       [61583581.52135703],\n",
       "       [59966029.0878796 ],\n",
       "       [61079528.46915975],\n",
       "       [61259530.06202641],\n",
       "       [60836490.19475744],\n",
       "       [62655145.39306118],\n",
       "       [62917197.49927636],\n",
       "       [61009023.49751139],\n",
       "       [63174788.71121949],\n",
       "       [60170019.70478439],\n",
       "       [61252137.7908529 ],\n",
       "       [61489169.5202604 ],\n",
       "       [63412598.15282422],\n",
       "       [62863936.3338976 ],\n",
       "       [62285275.21176526],\n",
       "       [59821193.25889694],\n",
       "       [62209386.17818908],\n",
       "       [62288885.40110786],\n",
       "       [61392416.79843142],\n",
       "       [61065768.21199772],\n",
       "       [61161196.55225076],\n",
       "       [62584120.88320888],\n",
       "       [59991602.41050694],\n",
       "       [62244913.08922754],\n",
       "       [63793065.97533353],\n",
       "       [65637124.29105183],\n",
       "       [62796194.62805039],\n",
       "       [62215817.92500522],\n",
       "       [62396436.23023913],\n",
       "       [61181141.4717408 ],\n",
       "       [63626820.96932256],\n",
       "       [63257153.22966267],\n",
       "       [59363919.8454741 ],\n",
       "       [61672039.93609351],\n",
       "       [62554950.51260789],\n",
       "       [60364888.54762021],\n",
       "       [60453512.09768082],\n",
       "       [63871513.05889498],\n",
       "       [60354291.7094208 ],\n",
       "       [63481254.2776057 ],\n",
       "       [60840098.82243543],\n",
       "       [62425935.5835477 ],\n",
       "       [61676379.90776216],\n",
       "       [62130831.13939708],\n",
       "       [60734586.8259525 ],\n",
       "       [65015221.41447337],\n",
       "       [61550100.79119879],\n",
       "       [63079448.32974683],\n",
       "       [61244651.36471695],\n",
       "       [63526619.49404466],\n",
       "       [62613011.64616459],\n",
       "       [63424773.88118514],\n",
       "       [63287016.13662441],\n",
       "       [61533480.63018108],\n",
       "       [61708904.92622034],\n",
       "       [62758385.77860819],\n",
       "       [62245807.1925794 ],\n",
       "       [62978010.48591858],\n",
       "       [64251236.69934857],\n",
       "       [61633272.95460504],\n",
       "       [63258735.29926537],\n",
       "       [60366523.23991731],\n",
       "       [60533265.55321633],\n",
       "       [62448761.51260718],\n",
       "       [61428107.11664271],\n",
       "       [61544162.00430782],\n",
       "       [61263270.23077664],\n",
       "       [62644568.91742394],\n",
       "       [62522403.86302757],\n",
       "       [60727844.13552395],\n",
       "       [61289854.28676084],\n",
       "       [62253414.14862885],\n",
       "       [62439661.30896241],\n",
       "       [59845109.52458531],\n",
       "       [61735570.90794421],\n",
       "       [61933152.0768346 ],\n",
       "       [60116227.97322282],\n",
       "       [62472991.68778775],\n",
       "       [61461863.03367909],\n",
       "       [61015848.6568984 ],\n",
       "       [63047728.79740213],\n",
       "       [61750044.16099917],\n",
       "       [64618459.00386649],\n",
       "       [62478115.98082007],\n",
       "       [62157347.21463326],\n",
       "       [60887730.42934091],\n",
       "       [62003811.14254931],\n",
       "       [60708116.29774753],\n",
       "       [58944818.49757251],\n",
       "       [61953200.74703696],\n",
       "       [62165139.94252063],\n",
       "       [63238913.89405287],\n",
       "       [62083343.7969637 ],\n",
       "       [63676757.79720975],\n",
       "       [61095054.01378752],\n",
       "       [60050737.43430357],\n",
       "       [62396899.57853492],\n",
       "       [61287621.10551281],\n",
       "       [60293215.32966877],\n",
       "       [60523356.40851063],\n",
       "       [62407822.35617934],\n",
       "       [61424202.63132695],\n",
       "       [62699591.67909095],\n",
       "       [63443959.02227115],\n",
       "       [63301220.43075665],\n",
       "       [60616019.32852325],\n",
       "       [61714525.58548816],\n",
       "       [65461389.81526766],\n",
       "       [62921821.61361077],\n",
       "       [62133431.64229061],\n",
       "       [59519356.29823444],\n",
       "       [63696461.20664193],\n",
       "       [62892302.37202509],\n",
       "       [61031718.52266932],\n",
       "       [60761406.61746787],\n",
       "       [62845160.85267548],\n",
       "       [64370119.24418318],\n",
       "       [62592331.42481159],\n",
       "       [62671754.37047741],\n",
       "       [61416387.50464585],\n",
       "       [62558687.4509898 ],\n",
       "       [63480936.30095603],\n",
       "       [60358853.86046848],\n",
       "       [63054785.2202758 ],\n",
       "       [60917505.17182867],\n",
       "       [62095429.931881  ],\n",
       "       [60965935.46974702],\n",
       "       [62141139.94237535],\n",
       "       [64327448.6806045 ],\n",
       "       [64212483.70653111],\n",
       "       [65035858.58242221],\n",
       "       [61855336.51323494],\n",
       "       [62715542.93082232],\n",
       "       [59440016.13685232],\n",
       "       [61240348.44134208],\n",
       "       [62667436.00432084],\n",
       "       [60672864.61930563],\n",
       "       [62088989.69256179],\n",
       "       [61348865.56863157],\n",
       "       [61883364.99145867],\n",
       "       [64641998.97110749],\n",
       "       [62691970.68460515],\n",
       "       [61766660.87900514],\n",
       "       [62079586.6978711 ],\n",
       "       [61677356.67090262],\n",
       "       [62819158.75408427],\n",
       "       [60940039.14838142],\n",
       "       [63975036.22929242],\n",
       "       [62349885.43868332],\n",
       "       [62145830.82975741],\n",
       "       [61879723.43639742],\n",
       "       [63987647.5405672 ],\n",
       "       [61113469.77835057],\n",
       "       [62219126.4542404 ],\n",
       "       [61100090.39364716],\n",
       "       [62271977.72640521],\n",
       "       [62300812.11061632],\n",
       "       [60956100.91209152],\n",
       "       [61629279.50295858],\n",
       "       [61160320.06637156],\n",
       "       [61115068.67100646],\n",
       "       [61159044.39752549],\n",
       "       [62170609.67931619],\n",
       "       [62513547.01303522],\n",
       "       [62660081.89407399],\n",
       "       [61560257.89781141],\n",
       "       [62844962.25197244],\n",
       "       [63277174.98392482],\n",
       "       [62081604.36405145],\n",
       "       [64043433.93694791],\n",
       "       [62283082.96130379],\n",
       "       [60506885.72451638],\n",
       "       [61608519.99176522],\n",
       "       [61364064.49339912],\n",
       "       [62462827.08654264],\n",
       "       [61992345.35904159],\n",
       "       [62533994.64044097],\n",
       "       [62076549.38414753],\n",
       "       [63166218.95916565],\n",
       "       [62670719.68522577],\n",
       "       [60927884.45124638],\n",
       "       [63532512.68906628],\n",
       "       [61444565.61759841],\n",
       "       [60711080.87248069],\n",
       "       [61088312.48112153],\n",
       "       [62692949.78368948],\n",
       "       [63340699.31006988],\n",
       "       [60746298.64741275],\n",
       "       [62024867.04821431],\n",
       "       [61322336.71686345],\n",
       "       [61198064.81917722],\n",
       "       [60944179.38171203],\n",
       "       [61519017.58182307],\n",
       "       [62909574.98993322],\n",
       "       [63966886.37755689],\n",
       "       [61242009.61463267],\n",
       "       [64217003.43711291],\n",
       "       [63151136.84790094],\n",
       "       [62893792.30550875],\n",
       "       [60995076.29397192],\n",
       "       [63409837.07332564],\n",
       "       [61282737.72471432],\n",
       "       [61979186.22393789],\n",
       "       [62140637.52431805],\n",
       "       [61397492.76989304],\n",
       "       [61692937.29031975],\n",
       "       [58948473.22588515],\n",
       "       [61512920.07136957],\n",
       "       [61878021.68662913],\n",
       "       [62434639.54526017],\n",
       "       [62939389.56572068],\n",
       "       [62722383.07197483],\n",
       "       [63549862.79863584],\n",
       "       [62744796.12454341],\n",
       "       [61301813.28609794],\n",
       "       [61395506.46014328],\n",
       "       [59969103.84729687],\n",
       "       [61232441.06956438],\n",
       "       [58740107.56343663],\n",
       "       [61143618.41832814],\n",
       "       [62632461.39354499],\n",
       "       [63272790.90915667],\n",
       "       [60374121.71502059],\n",
       "       [62650112.09475441],\n",
       "       [61832748.73083511],\n",
       "       [64082896.01484523],\n",
       "       [65699759.33400296],\n",
       "       [62650150.64168594],\n",
       "       [61786576.85175261],\n",
       "       [61789640.7084939 ],\n",
       "       [62281236.03465272],\n",
       "       [62721322.89222179],\n",
       "       [63080481.86395821],\n",
       "       [61501396.55631541],\n",
       "       [62477791.8920506 ],\n",
       "       [61775594.13325553],\n",
       "       [63984880.7864658 ],\n",
       "       [62685206.38889933],\n",
       "       [59735938.57605259],\n",
       "       [61045870.03380344],\n",
       "       [62399675.00625497],\n",
       "       [63676905.57469633],\n",
       "       [62528172.33931346],\n",
       "       [62598508.98679184],\n",
       "       [60901105.27394971],\n",
       "       [61547089.03300615],\n",
       "       [62127472.30366743],\n",
       "       [63069231.36768882],\n",
       "       [61374075.7608714 ],\n",
       "       [63703403.65144099],\n",
       "       [62987894.59111882],\n",
       "       [62476607.4275629 ],\n",
       "       [62916273.04071193],\n",
       "       [61829361.03001505],\n",
       "       [61327011.01162731],\n",
       "       [61237908.62871268],\n",
       "       [63615693.12844788],\n",
       "       [61687392.7524705 ],\n",
       "       [62170877.11938114],\n",
       "       [62063564.99640705],\n",
       "       [61256867.3563628 ],\n",
       "       [64232047.24018984],\n",
       "       [63200464.1938706 ],\n",
       "       [62678365.37740985],\n",
       "       [61788693.63208783],\n",
       "       [62003757.58948182],\n",
       "       [64231778.7427959 ],\n",
       "       [63409800.62968313],\n",
       "       [62077529.25664584],\n",
       "       [63230746.82649719],\n",
       "       [62147577.73546208],\n",
       "       [62622304.20289651],\n",
       "       [62678068.70713967],\n",
       "       [62430705.84891071],\n",
       "       [61871209.9891436 ],\n",
       "       [62860278.8926211 ],\n",
       "       [60341801.76860426],\n",
       "       [64441821.0409179 ],\n",
       "       [62439210.37636722],\n",
       "       [60580743.13837679],\n",
       "       [63117614.24385345],\n",
       "       [62484158.12629068],\n",
       "       [63353398.90654267],\n",
       "       [62251517.87430292],\n",
       "       [63896076.65279708],\n",
       "       [63853693.97026768],\n",
       "       [63118833.40217331],\n",
       "       [61601169.15598714],\n",
       "       [63546590.06135377],\n",
       "       [62386507.11798179],\n",
       "       [62217207.05183815],\n",
       "       [62115306.27391387],\n",
       "       [58906229.87875906],\n",
       "       [61409163.69474177],\n",
       "       [64563450.11966571],\n",
       "       [63794039.03796144],\n",
       "       [63561703.06793738],\n",
       "       [61804520.38606582],\n",
       "       [62932298.27194723],\n",
       "       [63105327.17825557],\n",
       "       [61788612.8330371 ],\n",
       "       [62743392.62190537],\n",
       "       [63895957.44753022],\n",
       "       [62663280.88714152],\n",
       "       [64640111.01382498],\n",
       "       [63328339.5657168 ],\n",
       "       [61637076.48644529],\n",
       "       [64136855.54315774],\n",
       "       [61579784.79959734],\n",
       "       [62835657.06398961],\n",
       "       [62840807.72673686],\n",
       "       [61807443.02328278],\n",
       "       [61342958.69302487],\n",
       "       [62845180.99486807],\n",
       "       [61105603.58791989],\n",
       "       [62150272.61337633],\n",
       "       [61650707.00820604],\n",
       "       [61438140.65818425],\n",
       "       [62197339.95508675],\n",
       "       [64208023.86931352],\n",
       "       [63263725.28824444],\n",
       "       [61315402.90640497],\n",
       "       [62279994.74566396],\n",
       "       [62789050.71859343],\n",
       "       [62832175.7632058 ],\n",
       "       [63832388.43507991],\n",
       "       [63074587.55536628],\n",
       "       [62007996.54814704],\n",
       "       [60972919.62450754],\n",
       "       [59995999.80676556],\n",
       "       [62820053.35134301],\n",
       "       [63027643.10911391],\n",
       "       [61520108.33770912],\n",
       "       [63511914.93757531],\n",
       "       [61229652.88224675],\n",
       "       [62714669.6597881 ],\n",
       "       [62047528.7552853 ],\n",
       "       [62338131.17335593],\n",
       "       [64624616.47069975],\n",
       "       [61456429.75059404],\n",
       "       [59492184.69760168],\n",
       "       [63502226.7071381 ],\n",
       "       [62455738.98968254],\n",
       "       [61432793.46239597],\n",
       "       [62187273.65951385],\n",
       "       [63261971.80237638],\n",
       "       [60453218.87987829],\n",
       "       [61091631.74354661],\n",
       "       [62004123.20959817],\n",
       "       [63342403.9842068 ],\n",
       "       [62225565.81850804],\n",
       "       [61496180.95020457],\n",
       "       [60446221.37923966],\n",
       "       [61011194.8330152 ],\n",
       "       [62024769.54087397],\n",
       "       [62278834.41683853],\n",
       "       [62173337.95513802],\n",
       "       [62184804.5957515 ],\n",
       "       [64454541.83786459],\n",
       "       [63701726.46520349],\n",
       "       [60940140.32037579],\n",
       "       [62230082.06127488],\n",
       "       [63469142.08167611],\n",
       "       [62045579.12990943],\n",
       "       [62242785.10046086],\n",
       "       [61170977.08854733],\n",
       "       [61045131.74154144],\n",
       "       [60965459.09110259],\n",
       "       [62195784.99468569],\n",
       "       [61042918.48136375],\n",
       "       [60345229.29878702],\n",
       "       [63481368.48200626],\n",
       "       [62053878.66010256],\n",
       "       [60553332.92129454],\n",
       "       [60682870.8453377 ],\n",
       "       [64446024.99162176],\n",
       "       [63791944.66660272],\n",
       "       [64197050.54743586],\n",
       "       [62174482.30749229],\n",
       "       [61602863.69243579],\n",
       "       [61962151.84562808],\n",
       "       [62442956.16609044],\n",
       "       [61413123.34967243],\n",
       "       [61805507.7085977 ],\n",
       "       [62152088.73877796],\n",
       "       [60306241.54212897],\n",
       "       [61495431.6190661 ],\n",
       "       [62541876.56950028],\n",
       "       [62501634.89371876],\n",
       "       [62224139.65128288],\n",
       "       [60843286.47385114],\n",
       "       [62454688.18505545],\n",
       "       [61122605.12558468],\n",
       "       [60226385.99928652],\n",
       "       [63615655.89367279],\n",
       "       [62815053.74030805],\n",
       "       [61507409.51088749],\n",
       "       [61108163.55346597],\n",
       "       [61151212.95961697],\n",
       "       [62404495.38636776],\n",
       "       [62366241.00756177],\n",
       "       [61491561.88019366],\n",
       "       [60314981.31906995],\n",
       "       [61573812.82281861],\n",
       "       [61257794.05823041],\n",
       "       [63890553.17483995],\n",
       "       [62087203.93302198],\n",
       "       [60385827.46646649],\n",
       "       [61541385.36561623],\n",
       "       [60817295.11970944],\n",
       "       [61013681.04950226],\n",
       "       [63129901.74552631],\n",
       "       [63145580.42842354],\n",
       "       [62715977.18042421],\n",
       "       [62794600.94405199],\n",
       "       [61689867.87720046],\n",
       "       [64065755.33818271],\n",
       "       [60983940.03458991],\n",
       "       [63382167.53929897],\n",
       "       [61862715.69911378],\n",
       "       [63225398.88890486],\n",
       "       [60761202.97410792],\n",
       "       [60220906.02802758],\n",
       "       [61321316.96936217],\n",
       "       [61826237.59894026],\n",
       "       [60081543.85509832],\n",
       "       [61515972.92059787],\n",
       "       [63090316.06800132],\n",
       "       [60690798.59257393],\n",
       "       [62546435.704786  ],\n",
       "       [63034818.88598789],\n",
       "       [64312055.4704634 ],\n",
       "       [62702101.17729311],\n",
       "       [61137666.32938588],\n",
       "       [59555274.68517072],\n",
       "       [61088218.04414116],\n",
       "       [62115838.21852303],\n",
       "       [60861036.32239938],\n",
       "       [61130905.66772413],\n",
       "       [60977222.68463807],\n",
       "       [58335846.93701403],\n",
       "       [60656668.79818352],\n",
       "       [60505893.78822608],\n",
       "       [60925452.51568989],\n",
       "       [60209270.70955657],\n",
       "       [62221444.89018521],\n",
       "       [61146459.34229966],\n",
       "       [62456485.33954265],\n",
       "       [58881631.76997187],\n",
       "       [61697361.54984968],\n",
       "       [62986347.42135431],\n",
       "       [63861306.97921737],\n",
       "       [60818220.54028752],\n",
       "       [60384801.63153623],\n",
       "       [61116345.83988472],\n",
       "       [60577338.78685863],\n",
       "       [62719544.29736835],\n",
       "       [61679429.10127613],\n",
       "       [61677901.58358127],\n",
       "       [63208482.43332699],\n",
       "       [62259799.077659  ],\n",
       "       [61945284.1968622 ],\n",
       "       [62653943.01624882],\n",
       "       [62480415.29064746],\n",
       "       [61127332.86845385],\n",
       "       [61804017.80608641],\n",
       "       [63291141.2865385 ],\n",
       "       [61483545.25186726],\n",
       "       [61838749.42791697],\n",
       "       [61656807.98735493],\n",
       "       [63410036.66126639],\n",
       "       [61274863.95031235],\n",
       "       [60078075.04003108],\n",
       "       [62266497.15784516],\n",
       "       [61352518.11491392],\n",
       "       [62088252.12983094],\n",
       "       [63555816.45815215],\n",
       "       [62968521.63223455],\n",
       "       [61245055.36832262],\n",
       "       [63885681.01640373],\n",
       "       [62859081.94039079],\n",
       "       [62682450.15662229],\n",
       "       [63409121.2932974 ],\n",
       "       [61055853.88349535],\n",
       "       [63680737.71039782],\n",
       "       [62457309.23435075],\n",
       "       [61431292.48949829],\n",
       "       [63246999.71727432],\n",
       "       [61479929.92338527],\n",
       "       [63133043.44911559],\n",
       "       [62476645.12313668],\n",
       "       [60683827.68222779],\n",
       "       [61555475.10482855],\n",
       "       [63487907.7339517 ],\n",
       "       [61060472.95979862],\n",
       "       [62421287.31501719],\n",
       "       [62244159.76169478],\n",
       "       [60941061.88979142],\n",
       "       [63151921.59521659],\n",
       "       [64603814.78093306],\n",
       "       [63972744.11865742],\n",
       "       [61844805.93272041],\n",
       "       [62018009.00994452],\n",
       "       [62010739.91246819],\n",
       "       [62399190.21248437],\n",
       "       [62495287.89852412],\n",
       "       [62625641.76513638],\n",
       "       [61330158.23350477],\n",
       "       [61462696.85397443],\n",
       "       [62214924.68176057],\n",
       "       [60096380.18647077],\n",
       "       [62285220.08335523],\n",
       "       [61901693.82170002],\n",
       "       [61426638.56930274],\n",
       "       [62248549.26852661],\n",
       "       [61085960.49990009],\n",
       "       [61913428.90324354],\n",
       "       [60995057.53354363],\n",
       "       [62686314.80013928],\n",
       "       [61577199.1955654 ],\n",
       "       [61727436.67077389],\n",
       "       [61732325.81225722],\n",
       "       [61991998.03956109],\n",
       "       [63277235.25836468],\n",
       "       [60814331.4199495 ],\n",
       "       [60943610.26399323],\n",
       "       [60851565.14828876],\n",
       "       [64276555.43226339],\n",
       "       [60751292.48220215],\n",
       "       [60207755.7498329 ],\n",
       "       [62513317.50084671],\n",
       "       [62894611.51613328],\n",
       "       [63201975.02123523],\n",
       "       [61874688.28180303],\n",
       "       [63443378.46886452],\n",
       "       [61629223.18519872],\n",
       "       [60853552.41064969],\n",
       "       [63222993.99656453],\n",
       "       [63948615.5057291 ],\n",
       "       [64102281.07875675],\n",
       "       [61709949.70717407],\n",
       "       [61589532.37719518],\n",
       "       [62999304.64163236],\n",
       "       [61044209.74417192],\n",
       "       [64817224.78142845],\n",
       "       [60145906.64911152],\n",
       "       [62151469.60811435],\n",
       "       [61810270.25425468],\n",
       "       [61753200.17828666],\n",
       "       [62217502.28824851],\n",
       "       [65227785.07334172],\n",
       "       [61450843.94592118],\n",
       "       [62063205.23755364],\n",
       "       [60502495.92625705],\n",
       "       [61878637.54573295],\n",
       "       [63580404.63257407],\n",
       "       [61642931.77910126],\n",
       "       [62177146.50248573],\n",
       "       [61524421.17036412],\n",
       "       [62100845.30602456],\n",
       "       [61499775.30895643],\n",
       "       [63819733.1012793 ],\n",
       "       [62090461.33231571],\n",
       "       [62164054.07766069],\n",
       "       [62366911.52096551],\n",
       "       [61544511.05201121],\n",
       "       [63470673.30672967],\n",
       "       [61016066.12802595],\n",
       "       [63856144.96240234],\n",
       "       [60570860.55317533],\n",
       "       [62195371.5802921 ],\n",
       "       [61507007.74310119],\n",
       "       [61549108.90285473],\n",
       "       [61266569.01099812],\n",
       "       [62260604.58308294],\n",
       "       [60143166.307299  ],\n",
       "       [62822290.72363618],\n",
       "       [61865315.19441193],\n",
       "       [61317131.73551242],\n",
       "       [63312737.32281566],\n",
       "       [61371419.7803438 ],\n",
       "       [62109116.87662874],\n",
       "       [61858184.2418054 ],\n",
       "       [62065336.96758937],\n",
       "       [62402063.24598002],\n",
       "       [60959430.65721697],\n",
       "       [61781858.86159074],\n",
       "       [62975033.97346473],\n",
       "       [63686506.36377709],\n",
       "       [63978562.48025772],\n",
       "       [61753258.71483006],\n",
       "       [62427828.43742257],\n",
       "       [64236930.72690497],\n",
       "       [62880026.24500059],\n",
       "       [63357378.55759881],\n",
       "       [63634412.47723676],\n",
       "       [60324078.48495735],\n",
       "       [61675457.2203816 ],\n",
       "       [63523166.32858588],\n",
       "       [61928066.17784654],\n",
       "       [61626225.20618513],\n",
       "       [60557099.45091531],\n",
       "       [61117272.32267945],\n",
       "       [62021981.1253339 ],\n",
       "       [61061755.48152483],\n",
       "       [62002520.58777256],\n",
       "       [63334653.98192581],\n",
       "       [61810242.16317346],\n",
       "       [61356585.07984688],\n",
       "       [61159065.17538382],\n",
       "       [62055424.2250611 ],\n",
       "       [61445511.38385987],\n",
       "       [61519023.41907406],\n",
       "       [62371384.35522299],\n",
       "       [60977902.48981099],\n",
       "       [62023881.0698223 ],\n",
       "       [63473158.96316551],\n",
       "       [59826982.64590749],\n",
       "       [61276432.31176696],\n",
       "       [63094500.12004676],\n",
       "       [61615795.56749428],\n",
       "       [60874014.88058317],\n",
       "       [63082123.94264515],\n",
       "       [61492827.44499   ],\n",
       "       [62631854.35099962],\n",
       "       [62505299.87471903],\n",
       "       [62601114.86993662],\n",
       "       [63773720.69548483],\n",
       "       [62256116.2204204 ],\n",
       "       [60892874.35741022],\n",
       "       [61836789.39953183],\n",
       "       [60360579.17787874],\n",
       "       [59164792.61520185],\n",
       "       [62600504.25029713],\n",
       "       [62502804.04569211],\n",
       "       [61979898.00839193],\n",
       "       [61972997.74440569],\n",
       "       [62818320.38387948],\n",
       "       [61900377.68654552],\n",
       "       [62339282.36664021],\n",
       "       [62145735.41930518],\n",
       "       [63513306.54180795],\n",
       "       [62221803.77543498],\n",
       "       [62639502.64847339],\n",
       "       [61927867.17710801],\n",
       "       [61482084.90998743],\n",
       "       [62819706.95642833],\n",
       "       [60303779.67094042],\n",
       "       [60682364.02436306],\n",
       "       [63529119.59102394],\n",
       "       [60343553.92607287],\n",
       "       [61568922.93224779],\n",
       "       [60661119.01645158],\n",
       "       [59936909.86019786],\n",
       "       [62790141.37830221],\n",
       "       [60444996.10494473],\n",
       "       [64086794.18976604],\n",
       "       [61821186.22873803],\n",
       "       [63436961.26905666],\n",
       "       [62519394.48922165],\n",
       "       [63386496.16355352],\n",
       "       [63892740.26597196],\n",
       "       [61821999.65627559],\n",
       "       [60235051.08237161],\n",
       "       [60222349.49869933],\n",
       "       [62542179.54278646],\n",
       "       [62371619.63813244],\n",
       "       [62907432.76077271],\n",
       "       [62527459.02906524],\n",
       "       [60970513.847193  ],\n",
       "       [62548171.48419074],\n",
       "       [61281393.89859994],\n",
       "       [60987588.87883165],\n",
       "       [63213230.51225033],\n",
       "       [62798533.4785871 ],\n",
       "       [62225162.5549961 ],\n",
       "       [60455397.5042973 ],\n",
       "       [61976363.92958344],\n",
       "       [61937875.66834103],\n",
       "       [62180934.65729749],\n",
       "       [62075384.87880047],\n",
       "       [61385887.50551966],\n",
       "       [64088930.14280409],\n",
       "       [61461174.46171758],\n",
       "       [61494592.79433221],\n",
       "       [59370381.04391489],\n",
       "       [61987112.64748668],\n",
       "       [62075563.14510336],\n",
       "       [63291123.26931001],\n",
       "       [60922890.76937393],\n",
       "       [61312684.27295305],\n",
       "       [62177138.38349245],\n",
       "       [64626265.02046005],\n",
       "       [62252215.14163259],\n",
       "       [62549802.57914012],\n",
       "       [61871379.49184754],\n",
       "       [61204906.92634457],\n",
       "       [62211501.59406031],\n",
       "       [63036456.82652175],\n",
       "       [62014062.09003972],\n",
       "       [62542109.9116052 ],\n",
       "       [63960949.07812329],\n",
       "       [64340453.33074493],\n",
       "       [62450028.71480905],\n",
       "       [61664549.86688018],\n",
       "       [64124879.47322205],\n",
       "       [62248651.58272095],\n",
       "       [62463897.96000075],\n",
       "       [63824725.4549102 ],\n",
       "       [61777767.12247255],\n",
       "       [62356279.99448139],\n",
       "       [61399739.19230387],\n",
       "       [61423503.79091026],\n",
       "       [62912599.62316615],\n",
       "       [63700761.50533102],\n",
       "       [62802468.74704472],\n",
       "       [61657780.27635106],\n",
       "       [63128265.41431542],\n",
       "       [64534870.95461515],\n",
       "       [61165152.27073453],\n",
       "       [59997334.51209518],\n",
       "       [60165131.52769106],\n",
       "       [61887862.03726781],\n",
       "       [63014204.78126677],\n",
       "       [60789042.6595695 ],\n",
       "       [62309512.52024492],\n",
       "       [62135481.97271431],\n",
       "       [63920100.608438  ],\n",
       "       [61594299.32109196],\n",
       "       [60138155.23970688],\n",
       "       [61080863.01759255],\n",
       "       [59964129.26146868],\n",
       "       [61016175.93320002],\n",
       "       [62957817.36242663],\n",
       "       [61494776.99188561],\n",
       "       [62477021.99894225],\n",
       "       [62762031.22400358],\n",
       "       [61786563.26677577],\n",
       "       [62518035.8219096 ],\n",
       "       [63221200.74217796],\n",
       "       [60815740.77803596],\n",
       "       [61262820.50570362],\n",
       "       [61292376.52655896],\n",
       "       [64231343.64257398],\n",
       "       [60982233.45363864],\n",
       "       [62921128.17873027],\n",
       "       [62584806.81512896],\n",
       "       [61430400.85797337],\n",
       "       [62001441.06395293],\n",
       "       [60352334.83066043],\n",
       "       [60362478.66236751],\n",
       "       [60191095.0404759 ],\n",
       "       [60294105.4498707 ],\n",
       "       [60883993.83898008],\n",
       "       [62079173.65427475],\n",
       "       [63662642.41605923],\n",
       "       [64526195.6581125 ],\n",
       "       [61005839.72117215],\n",
       "       [61709196.45547298],\n",
       "       [61485810.96060599],\n",
       "       [61583329.18142921],\n",
       "       [60970278.94840648],\n",
       "       [60946717.18700081],\n",
       "       [61011782.77765489],\n",
       "       [59888999.43703096],\n",
       "       [62596770.17715681],\n",
       "       [61437037.24353758],\n",
       "       [61301872.85005154],\n",
       "       [61155339.43270811],\n",
       "       [63377486.3850417 ],\n",
       "       [63697500.17344069],\n",
       "       [64170429.1671712 ],\n",
       "       [61029637.44721761],\n",
       "       [61532067.30469009],\n",
       "       [62328178.11176848],\n",
       "       [63782824.438926  ],\n",
       "       [64949996.02479025],\n",
       "       [61781420.28840533],\n",
       "       [63111959.0354915 ],\n",
       "       [62418876.88503964],\n",
       "       [63110646.55335663],\n",
       "       [63081073.36394858],\n",
       "       [60289780.83710405],\n",
       "       [62214650.52668222],\n",
       "       [62687054.96268611],\n",
       "       [61274629.7973238 ],\n",
       "       [61843615.73697879],\n",
       "       [62317989.5531229 ],\n",
       "       [62499039.60565618],\n",
       "       [61489600.74692638],\n",
       "       [61320266.07675419],\n",
       "       [60558932.83627761],\n",
       "       [62328601.89130778],\n",
       "       [62000151.38272221],\n",
       "       [63680524.86737622],\n",
       "       [61864420.9537195 ],\n",
       "       [61232130.61049392],\n",
       "       [62403533.31670447],\n",
       "       [61644366.46195035],\n",
       "       [63313763.32374257],\n",
       "       [64396750.07104821],\n",
       "       [63665283.02962966],\n",
       "       [60621539.3012564 ],\n",
       "       [62718386.35735112],\n",
       "       [62545663.87750996],\n",
       "       [63707520.91569563],\n",
       "       [64368864.93193869],\n",
       "       [63018839.32247803],\n",
       "       [62732137.18299014],\n",
       "       [60388579.23418281],\n",
       "       [61703840.01256502],\n",
       "       [61573886.75136974],\n",
       "       [64255681.57129358],\n",
       "       [62640093.66646095],\n",
       "       [61943135.56617393],\n",
       "       [62428007.92094377],\n",
       "       [62855297.54016079],\n",
       "       [63291870.21137464],\n",
       "       [61728667.62281302],\n",
       "       [60136120.42950038],\n",
       "       [62890515.6149274 ],\n",
       "       [62397972.51590796],\n",
       "       [61999662.31552971],\n",
       "       [62250366.37363745],\n",
       "       [62119833.69661175],\n",
       "       [63470700.56034598],\n",
       "       [63681405.62761247],\n",
       "       [60032612.3497666 ],\n",
       "       [59933719.97851632],\n",
       "       [62065096.41877145],\n",
       "       [63322690.41807574],\n",
       "       [60063065.19371588],\n",
       "       [60346471.03678677],\n",
       "       [61205233.19683855],\n",
       "       [60775980.38790911],\n",
       "       [61352425.54243635],\n",
       "       [63304702.54825496],\n",
       "       [61410141.02910919],\n",
       "       [60215579.21780203],\n",
       "       [62651478.69631938],\n",
       "       [62582523.52628878],\n",
       "       [62389541.8839175 ],\n",
       "       [60483998.93064945],\n",
       "       [62338172.16694211],\n",
       "       [62000347.82911094],\n",
       "       [62370789.06936195],\n",
       "       [62458572.94645981],\n",
       "       [61327440.86488795],\n",
       "       [61231689.9253264 ],\n",
       "       [61786006.81232519],\n",
       "       [60988439.19804176],\n",
       "       [63105402.45626402],\n",
       "       [61707892.41317216],\n",
       "       [62459747.43081637],\n",
       "       [63290804.73191895],\n",
       "       [61074206.41158659],\n",
       "       [60756914.26091231],\n",
       "       [61881302.20250849],\n",
       "       [61369233.84107485],\n",
       "       [60338277.97753033],\n",
       "       [64722688.3143637 ],\n",
       "       [59326366.22774617],\n",
       "       [60909623.63495057],\n",
       "       [60767002.58710025],\n",
       "       [62773508.3250396 ],\n",
       "       [63257837.77381643],\n",
       "       [63420339.97851223],\n",
       "       [61420138.76613861],\n",
       "       [61249099.98802153],\n",
       "       [62619814.53785577],\n",
       "       [62787787.6306636 ],\n",
       "       [60195749.53009772],\n",
       "       [62417139.55131712],\n",
       "       [63284490.52639511],\n",
       "       [62334418.219115  ],\n",
       "       [63159988.2383891 ],\n",
       "       [59868747.59550467],\n",
       "       [63095958.24326913],\n",
       "       [59417799.44452309],\n",
       "       [61980405.47555146],\n",
       "       [61564238.34800982],\n",
       "       [62007259.09120804],\n",
       "       [63425089.09732384],\n",
       "       [63168685.73552871],\n",
       "       [61798829.89735743],\n",
       "       [62182338.52607578],\n",
       "       [58661365.95451023],\n",
       "       [61275187.65426678],\n",
       "       [62952676.20898572],\n",
       "       [62508290.14057588],\n",
       "       [63749757.81099299],\n",
       "       [61949563.01180243],\n",
       "       [63240535.1956409 ],\n",
       "       [62400008.69990449],\n",
       "       [63146809.16086906],\n",
       "       [61973521.81236427],\n",
       "       [62435251.35710331],\n",
       "       [61885957.80212253],\n",
       "       [60652437.64347783],\n",
       "       [62089212.64581653],\n",
       "       [63203307.61456324],\n",
       "       [61313319.51869642],\n",
       "       [60571077.12111495],\n",
       "       [63452257.56624786],\n",
       "       [63186279.01808203],\n",
       "       [62063947.1618487 ],\n",
       "       [64188808.91254266],\n",
       "       [61551479.45873234],\n",
       "       [62308021.06261561],\n",
       "       [61911216.29862759],\n",
       "       [60869299.31245722],\n",
       "       [58696227.04700515],\n",
       "       [61682493.22339917],\n",
       "       [61966591.86576465],\n",
       "       [60433828.44090097],\n",
       "       [62253755.67701113],\n",
       "       [64356114.285088  ],\n",
       "       [63058188.03064061],\n",
       "       [62174792.28848284],\n",
       "       [61728653.22378823],\n",
       "       [60810375.13159278],\n",
       "       [64144459.42367505],\n",
       "       [60962452.06737069],\n",
       "       [63259273.87677692],\n",
       "       [61356445.0734769 ],\n",
       "       [61016961.12588639],\n",
       "       [64909188.24604767],\n",
       "       [63023360.26560229],\n",
       "       [62656380.979748  ],\n",
       "       [60781287.34535829],\n",
       "       [62574320.69787747],\n",
       "       [61841697.56915653],\n",
       "       [60825682.6636758 ],\n",
       "       [61174610.73353392],\n",
       "       [63808418.51630591],\n",
       "       [62495380.7546776 ],\n",
       "       [61445408.52847982],\n",
       "       [61487779.54086764],\n",
       "       [61365256.35484175],\n",
       "       [63067982.51001973],\n",
       "       [63614337.55455226],\n",
       "       [62243535.50831863],\n",
       "       [60992320.70023555],\n",
       "       [63128218.30903602],\n",
       "       [60368043.30552776],\n",
       "       [61109246.05347832],\n",
       "       [63360522.68260843],\n",
       "       [62421099.68301056],\n",
       "       [63874018.41411639],\n",
       "       [61354720.03314763],\n",
       "       [59476751.40626644],\n",
       "       [61897495.00985266],\n",
       "       [61208578.50116897],\n",
       "       [61180233.27424266],\n",
       "       [62028500.37233401],\n",
       "       [63993369.78481162],\n",
       "       [61780047.49149786],\n",
       "       [60611391.74136253],\n",
       "       [61395912.20451249],\n",
       "       [61144319.23362125],\n",
       "       [62082157.11990951],\n",
       "       [61287149.68010256],\n",
       "       [61844940.18057613],\n",
       "       [60769109.64140355]])"
      ]
     },
     "execution_count": 30,
     "metadata": {},
     "output_type": "execute_result"
    }
   ],
   "source": [
    "from numpy.random import rand\n",
    "vec = rand(F.shape[1],1)\n",
    "F@vec # or F.dot(vec), F*vec"
   ]
  },
  {
   "cell_type": "markdown",
   "metadata": {},
   "source": [
    "Let's launch a timer to compare the execution times of Faust-vector multiplication and Faust's dense matrix-vector multiplication\n",
    "\n",
    "Note that appliying a Faust on a ```numpy.ndarray``` or a ```numpy.matrix``` can be done with the operator @ or \\* exactly as ```numpy.matrix``` allows. Indeed, a Faust is to be seen as a ```numpy.matrix``` not a ```numpy.ndarray``` (for the latter the two operators are not the same, \\* performs an elementwise multiplication while @ is the matrix product)."
   ]
  },
  {
   "cell_type": "code",
   "execution_count": 31,
   "metadata": {},
   "outputs": [
    {
     "name": "stdout",
     "output_type": "stream",
     "text": [
      "4.83 ms ± 413 µs per loop (mean ± std. dev. of 7 runs, 100 loops each)\n"
     ]
    }
   ],
   "source": [
    "timeit F@vec"
   ]
  },
  {
   "cell_type": "code",
   "execution_count": 32,
   "metadata": {},
   "outputs": [],
   "source": [
    "FD = F.toarray()"
   ]
  },
  {
   "cell_type": "code",
   "execution_count": 33,
   "metadata": {},
   "outputs": [
    {
     "name": "stdout",
     "output_type": "stream",
     "text": [
      "1.05 ms ± 173 µs per loop (mean ± std. dev. of 7 runs, 100 loops each)\n"
     ]
    }
   ],
   "source": [
    "timeit FD@vec"
   ]
  },
  {
   "cell_type": "code",
   "execution_count": 34,
   "metadata": {},
   "outputs": [
    {
     "data": {
      "text/plain": [
       "0.3333333333333333"
      ]
     },
     "execution_count": 34,
     "metadata": {},
     "output_type": "execute_result"
    }
   ],
   "source": [
    "F.rcg()"
   ]
  },
  {
   "cell_type": "markdown",
   "metadata": {},
   "source": [
    "When the RCG is lower than 1 the Faust-vector multiplication is slower. Making a random Faust with a big RCG shows better results."
   ]
  },
  {
   "cell_type": "code",
   "execution_count": 35,
   "metadata": {},
   "outputs": [],
   "source": [
    "G = FF.rand(3, 1024, density=.001, fac_type='sparse')\n",
    "GD = G.toarray()\n",
    "vec2 = rand(1024, 1) "
   ]
  },
  {
   "cell_type": "code",
   "execution_count": 36,
   "metadata": {},
   "outputs": [
    {
     "name": "stdout",
     "output_type": "stream",
     "text": [
      "26.9 µs ± 2.27 µs per loop (mean ± std. dev. of 7 runs, 10000 loops each)\n"
     ]
    }
   ],
   "source": [
    "timeit G@vec2"
   ]
  },
  {
   "cell_type": "code",
   "execution_count": 37,
   "metadata": {},
   "outputs": [
    {
     "name": "stdout",
     "output_type": "stream",
     "text": [
      "735 µs ± 191 µs per loop (mean ± std. dev. of 7 runs, 1000 loops each)\n"
     ]
    }
   ],
   "source": [
    "timeit GD@vec2"
   ]
  },
  {
   "cell_type": "code",
   "execution_count": 38,
   "metadata": {},
   "outputs": [
    {
     "data": {
      "text/plain": [
       "341.3333333333333"
      ]
     },
     "execution_count": 38,
     "metadata": {},
     "output_type": "execute_result"
    }
   ],
   "source": [
    "G.rcg()"
   ]
  },
  {
   "cell_type": "markdown",
   "metadata": {},
   "source": [
    "It goes without saying that a big RCG gives a big speedup to the Faust-vector multiplication relatively to the corresponding (dense) matrix-vector multiplication.\n",
    "I hope the example above has finished to convince you.\n",
    "\n",
    "Just to convince you as well of the Faust-vector multiplication accuracy:"
   ]
  },
  {
   "cell_type": "code",
   "execution_count": 39,
   "metadata": {},
   "outputs": [
    {
     "data": {
      "text/plain": [
       "3.8619595561279266e-16"
      ]
     },
     "execution_count": 39,
     "metadata": {},
     "output_type": "execute_result"
    }
   ],
   "source": [
    "from numpy.linalg import norm\n",
    "norm(G@vec2 - GD@vec2)"
   ]
  },
  {
   "cell_type": "markdown",
   "metadata": {},
   "source": [
    "What applies to Faust-vector multiplication remains valid about Faust-matrix multiplication. Take a look:"
   ]
  },
  {
   "cell_type": "code",
   "execution_count": 40,
   "metadata": {},
   "outputs": [],
   "source": [
    "M = FF.rand(1,1024,density=.001,fac_type='dense').get_factor(0)"
   ]
  },
  {
   "cell_type": "code",
   "execution_count": 41,
   "metadata": {},
   "outputs": [
    {
     "name": "stdout",
     "output_type": "stream",
     "text": [
      "31.5 ms ± 2.9 ms per loop (mean ± std. dev. of 7 runs, 10 loops each)\n"
     ]
    }
   ],
   "source": [
    "timeit G@M"
   ]
  },
  {
   "cell_type": "code",
   "execution_count": 42,
   "metadata": {},
   "outputs": [
    {
     "name": "stdout",
     "output_type": "stream",
     "text": [
      "61 ms ± 11.9 ms per loop (mean ± std. dev. of 7 runs, 10 loops each)\n"
     ]
    }
   ],
   "source": [
    "timeit GD@M"
   ]
  },
  {
   "cell_type": "code",
   "execution_count": 43,
   "metadata": {},
   "outputs": [
    {
     "data": {
      "text/plain": [
       "1.2470746927830658e-16"
      ]
     },
     "execution_count": 43,
     "metadata": {},
     "output_type": "execute_result"
    }
   ],
   "source": [
    "norm(GD@M-G@M)/norm(GD@M)"
   ]
  },
  {
   "cell_type": "markdown",
   "metadata": {},
   "source": [
    "Well, what do we see? A quicker Faust-matrix multiplication than the matrix-matrix corresponding multiplication, though a good accuracy of the Faust-matrix multiplication is also clearly confirmed.\n",
    "\n",
    "These examples are somehow theoretical because we cherry-pick the Faust we know the RCG is good to accelerate the muplication, but at least it shows the potential speedup using Faust objects."
   ]
  },
  {
   "cell_type": "markdown",
   "metadata": {},
   "source": [
    "### 2.4 Faust Norms\n",
    "\n",
    "The Faust class provides a norm function which handles different types of norms. \n",
    "This function is really close to ```numpy.linalg.norm``` function.\n",
    "\n",
    "In the following example, the three of four norms available are computed."
   ]
  },
  {
   "cell_type": "code",
   "execution_count": 44,
   "metadata": {},
   "outputs": [
    {
     "data": {
      "text/plain": [
       "133068696.49985237"
      ]
     },
     "execution_count": 44,
     "metadata": {},
     "output_type": "execute_result"
    }
   ],
   "source": [
    "F.norm(1)"
   ]
  },
  {
   "cell_type": "code",
   "execution_count": 45,
   "metadata": {},
   "outputs": [
    {
     "data": {
      "text/plain": [
       "132396421.00812916"
      ]
     },
     "execution_count": 45,
     "metadata": {},
     "output_type": "execute_result"
    }
   ],
   "source": [
    "import math\n",
    "F.norm(math.inf)"
   ]
  },
  {
   "cell_type": "code",
   "execution_count": 46,
   "metadata": {},
   "outputs": [
    {
     "data": {
      "text/plain": [
       "125147917.61242588"
      ]
     },
     "execution_count": 46,
     "metadata": {},
     "output_type": "execute_result"
    }
   ],
   "source": [
    "F.norm('fro')"
   ]
  },
  {
   "cell_type": "markdown",
   "metadata": {},
   "source": [
    "Now, check the values are not far from the Faust's dense matrix."
   ]
  },
  {
   "cell_type": "code",
   "execution_count": 47,
   "metadata": {},
   "outputs": [
    {
     "data": {
      "text/plain": [
       "133068696.49985237"
      ]
     },
     "execution_count": 47,
     "metadata": {},
     "output_type": "execute_result"
    }
   ],
   "source": [
    "from numpy.linalg import norm\n",
    "norm(F.todense(),1)"
   ]
  },
  {
   "cell_type": "code",
   "execution_count": 48,
   "metadata": {},
   "outputs": [
    {
     "data": {
      "text/plain": [
       "132396421.00812908"
      ]
     },
     "execution_count": 48,
     "metadata": {},
     "output_type": "execute_result"
    }
   ],
   "source": [
    "norm(F.todense(),math.inf)"
   ]
  },
  {
   "cell_type": "code",
   "execution_count": 49,
   "metadata": {},
   "outputs": [
    {
     "data": {
      "text/plain": [
       "125147917.61242622"
      ]
     },
     "execution_count": 49,
     "metadata": {},
     "output_type": "execute_result"
    }
   ],
   "source": [
    "norm(F.todense(), 'fro')"
   ]
  },
  {
   "cell_type": "markdown",
   "metadata": {},
   "source": [
    "Perfect! But a last norm is available, this is the Faust's 2-norm. Let's see in the next small benchmark how the Faust 2-norm is being computed faster than the Faust's dense matrix 2-norm. "
   ]
  },
  {
   "cell_type": "code",
   "execution_count": 50,
   "metadata": {},
   "outputs": [
    {
     "name": "stdout",
     "output_type": "stream",
     "text": [
      "1.76 ms ± 772 µs per loop (mean ± std. dev. of 7 runs, 10 loops each)\n"
     ]
    }
   ],
   "source": [
    "timeit -n 10 G.norm(2)"
   ]
  },
  {
   "cell_type": "code",
   "execution_count": 51,
   "metadata": {},
   "outputs": [
    {
     "name": "stdout",
     "output_type": "stream",
     "text": [
      "1.02 s ± 52.5 ms per loop (mean ± std. dev. of 7 runs, 10 loops each)\n"
     ]
    }
   ],
   "source": [
    "timeit -n 10 norm(GD,2)"
   ]
  },
  {
   "cell_type": "markdown",
   "metadata": {},
   "source": [
    "The power-iteration algorithm implemented in the FAµST C++ core is faster on G and the relative error is not bad too."
   ]
  },
  {
   "cell_type": "code",
   "execution_count": 52,
   "metadata": {},
   "outputs": [
    {
     "data": {
      "text/plain": [
       "0.004258959990800589"
      ]
     },
     "execution_count": 52,
     "metadata": {},
     "output_type": "execute_result"
    }
   ],
   "source": [
    "err = abs((G.norm(2)-norm(GD,2))/norm(GD,2))\n",
    "err"
   ]
  },
  {
   "cell_type": "markdown",
   "metadata": {},
   "source": [
    "### 2.5 Faust Normalizations"
   ]
  },
  {
   "cell_type": "markdown",
   "metadata": {},
   "source": [
    "The FAµST API proposes a group of normalizations. They correspond to the norms available and discussed above.\n",
    "\n",
    "It's possible to normalize along columns or rows with any type of these norms."
   ]
  },
  {
   "cell_type": "code",
   "execution_count": 53,
   "metadata": {},
   "outputs": [],
   "source": [
    "F = FF.rand(5,10)\n",
    "NF = F.normalize()"
   ]
  },
  {
   "cell_type": "code",
   "execution_count": 54,
   "metadata": {},
   "outputs": [
    {
     "name": "stdout",
     "output_type": "stream",
     "text": [
      "Help on method normalize in module pyfaust:\n",
      "\n",
      "normalize(ord='fro', axis=1) method of pyfaust.Faust instance\n",
      "    Normalize F along the axis dimension using the ord-norm.\n",
      "    \n",
      "    Args:\n",
      "        ord: the norm order to use (see Faust.norm).\n",
      "        axis: if 1 the columns are normalized, if 0 the rows.\n",
      "    \n",
      "    Returns:\n",
      "        the normalized Faust\n",
      "    \n",
      "    <b/> See also: Faust.norm\n",
      "\n"
     ]
    }
   ],
   "source": [
    "# Consult the doc\n",
    "help(F.normalize)"
   ]
  },
  {
   "cell_type": "markdown",
   "metadata": {},
   "source": [
    "What's interesting here is the fact that ```Faust.normalize``` returns a Faust object. It's useful to rewrite algorithms like OMP upon FAµST API (as well as slicing as you'll see in next section).\n",
    "\n",
    "The normalization coded in C++ is memory optimized by not constructed the dense matrix to retrieve any column or row. In the same goal the factors composing the Faust object NF are not duplicated in memory, they're used as is with an additional factor giving the appropriate scaling."
   ]
  },
  {
   "cell_type": "code",
   "execution_count": 55,
   "metadata": {},
   "outputs": [
    {
     "data": {
      "text/plain": [
       "Faust size 10x10, density 2.5, nnz_sum 250, 5 factor(s): \n",
       "- FACTOR 0 (real) SPARSE, size 10x10, density 0.5, nnz 50\n",
       "- FACTOR 1 (real) SPARSE, size 10x10, density 0.5, nnz 50\n",
       "- FACTOR 2 (real) SPARSE, size 10x10, density 0.5, nnz 50\n",
       "- FACTOR 3 (real) SPARSE, size 10x10, density 0.5, nnz 50\n",
       "- FACTOR 4 (real) DENSE, size 10x10, density 0.5, nnz 50"
      ]
     },
     "execution_count": 55,
     "metadata": {},
     "output_type": "execute_result"
    }
   ],
   "source": [
    "F"
   ]
  },
  {
   "cell_type": "code",
   "execution_count": 56,
   "metadata": {},
   "outputs": [
    {
     "data": {
      "text/plain": [
       "Faust size 10x10, density 2.6, nnz_sum 260, 6 factor(s): \n",
       "- FACTOR 0 (real) SPARSE, size 10x10, density 0.5, nnz 50\n",
       "- FACTOR 1 (real) SPARSE, size 10x10, density 0.5, nnz 50\n",
       "- FACTOR 2 (real) SPARSE, size 10x10, density 0.5, nnz 50\n",
       "- FACTOR 3 (real) SPARSE, size 10x10, density 0.5, nnz 50\n",
       "- FACTOR 4 (real) DENSE, size 10x10, density 0.5, nnz 50\n",
       "- FACTOR 5 (real) SPARSE, size 10x10, density 0.1, nnz 10"
      ]
     },
     "execution_count": 56,
     "metadata": {},
     "output_type": "execute_result"
    }
   ],
   "source": [
    "NF"
   ]
  },
  {
   "cell_type": "code",
   "execution_count": 57,
   "metadata": {},
   "outputs": [
    {
     "data": {
      "text/plain": [
       "matrix([[0.03405575, 0.        , 0.        , 0.        , 0.        ,\n",
       "         0.        , 0.        , 0.        , 0.        , 0.        ],\n",
       "        [0.        , 0.01638412, 0.        , 0.        , 0.        ,\n",
       "         0.        , 0.        , 0.        , 0.        , 0.        ],\n",
       "        [0.        , 0.        , 0.02913597, 0.        , 0.        ,\n",
       "         0.        , 0.        , 0.        , 0.        , 0.        ],\n",
       "        [0.        , 0.        , 0.        , 0.02384695, 0.        ,\n",
       "         0.        , 0.        , 0.        , 0.        , 0.        ],\n",
       "        [0.        , 0.        , 0.        , 0.        , 0.04162042,\n",
       "         0.        , 0.        , 0.        , 0.        , 0.        ],\n",
       "        [0.        , 0.        , 0.        , 0.        , 0.        ,\n",
       "         0.03321329, 0.        , 0.        , 0.        , 0.        ],\n",
       "        [0.        , 0.        , 0.        , 0.        , 0.        ,\n",
       "         0.        , 0.01638524, 0.        , 0.        , 0.        ],\n",
       "        [0.        , 0.        , 0.        , 0.        , 0.        ,\n",
       "         0.        , 0.        , 0.01685852, 0.        , 0.        ],\n",
       "        [0.        , 0.        , 0.        , 0.        , 0.        ,\n",
       "         0.        , 0.        , 0.        , 0.02596971, 0.        ],\n",
       "        [0.        , 0.        , 0.        , 0.        , 0.        ,\n",
       "         0.        , 0.        , 0.        , 0.        , 0.01914629]])"
      ]
     },
     "execution_count": 57,
     "metadata": {},
     "output_type": "execute_result"
    }
   ],
   "source": [
    "NF.get_factor(5).todense()"
   ]
  },
  {
   "cell_type": "code",
   "execution_count": 58,
   "metadata": {},
   "outputs": [
    {
     "data": {
      "text/plain": [
       "1.7158674359353274e-15"
      ]
     },
     "execution_count": 58,
     "metadata": {},
     "output_type": "execute_result"
    }
   ],
   "source": [
    "cumerr = 0\n",
    "for i in range(0,F.shape[1]): \n",
    "    cumerr += norm(NF.todense()[:,i]-F.todense()[:,i]/norm(F.todense()[:,i]))\n",
    "cumerr"
   ]
  },
  {
   "cell_type": "markdown",
   "metadata": {},
   "source": [
    "And as you see it works!"
   ]
  },
  {
   "cell_type": "markdown",
   "metadata": {},
   "source": [
    "### 2.6 Faust Concatenation"
   ]
  },
  {
   "cell_type": "markdown",
   "metadata": {},
   "source": [
    "You're probably aware of numpy arrays concatenation otherwise look this example."
   ]
  },
  {
   "cell_type": "code",
   "execution_count": 59,
   "metadata": {},
   "outputs": [
    {
     "data": {
      "text/plain": [
       "array([[0.88463636, 0.43135241, 0.22861566, 0.93087436, 0.86707094],\n",
       "       [0.80851541, 0.27079301, 0.9083936 , 0.61039753, 0.09987786],\n",
       "       [0.86916593, 0.72082394, 0.99014506, 0.85682846, 0.88285321],\n",
       "       [0.13227015, 0.56627591, 0.3422592 , 0.98880206, 0.16016755],\n",
       "       [0.32931234, 0.92574879, 0.62457196, 0.14783016, 0.71971449],\n",
       "       [1.        , 0.        , 0.        , 0.        , 0.        ],\n",
       "       [0.        , 1.        , 0.        , 0.        , 0.        ],\n",
       "       [0.        , 0.        , 1.        , 0.        , 0.        ],\n",
       "       [0.        , 0.        , 0.        , 1.        , 0.        ],\n",
       "       [0.        , 0.        , 0.        , 0.        , 1.        ]])"
      ]
     },
     "execution_count": 59,
     "metadata": {},
     "output_type": "execute_result"
    }
   ],
   "source": [
    "from numpy.random import rand\n",
    "from numpy import eye, concatenate\n",
    "M = rand(5,5)\n",
    "I = eye(5,5)\n",
    "concatenate((M,I))"
   ]
  },
  {
   "cell_type": "code",
   "execution_count": 60,
   "metadata": {},
   "outputs": [
    {
     "data": {
      "text/plain": [
       "array([[0.88463636, 0.43135241, 0.22861566, 0.93087436, 0.86707094,\n",
       "        1.        , 0.        , 0.        , 0.        , 0.        ],\n",
       "       [0.80851541, 0.27079301, 0.9083936 , 0.61039753, 0.09987786,\n",
       "        0.        , 1.        , 0.        , 0.        , 0.        ],\n",
       "       [0.86916593, 0.72082394, 0.99014506, 0.85682846, 0.88285321,\n",
       "        0.        , 0.        , 1.        , 0.        , 0.        ],\n",
       "       [0.13227015, 0.56627591, 0.3422592 , 0.98880206, 0.16016755,\n",
       "        0.        , 0.        , 0.        , 1.        , 0.        ],\n",
       "       [0.32931234, 0.92574879, 0.62457196, 0.14783016, 0.71971449,\n",
       "        0.        , 0.        , 0.        , 0.        , 1.        ]])"
      ]
     },
     "execution_count": 60,
     "metadata": {},
     "output_type": "execute_result"
    }
   ],
   "source": [
    "# it was vertical concatenation, now let's concatenate horizontally\n",
    "concatenate((M,I), axis=1)"
   ]
  },
  {
   "cell_type": "markdown",
   "metadata": {},
   "source": [
    "As you I'm sure you guessed that likewise you can concatenate Faust objects."
   ]
  },
  {
   "cell_type": "code",
   "execution_count": 61,
   "metadata": {},
   "outputs": [
    {
     "data": {
      "text/plain": [
       "Faust size 20x10, density 2.6, nnz_sum 520, 6 factor(s): \n",
       "- FACTOR 0 (real) SPARSE, size 20x20, density 0.25, nnz 100\n",
       "- FACTOR 1 (real) SPARSE, size 20x20, density 0.25, nnz 100\n",
       "- FACTOR 2 (real) SPARSE, size 20x20, density 0.25, nnz 100\n",
       "- FACTOR 3 (real) SPARSE, size 20x20, density 0.25, nnz 100\n",
       "- FACTOR 4 (real) SPARSE, size 20x20, density 0.25, nnz 100\n",
       "- FACTOR 5 (real) SPARSE, size 20x10, density 0.1, nnz 20"
      ]
     },
     "execution_count": 61,
     "metadata": {},
     "output_type": "execute_result"
    }
   ],
   "source": [
    "F.concatenate(F)"
   ]
  },
  {
   "cell_type": "code",
   "execution_count": 62,
   "metadata": {},
   "outputs": [],
   "source": [
    "C = F.concatenate(F, axis=1)"
   ]
  },
  {
   "cell_type": "code",
   "execution_count": 63,
   "metadata": {},
   "outputs": [
    {
     "data": {
      "text/plain": [
       "matrix([[0., 0., 0., 0., 0., 0., 0., 0., 0., 0., 0., 0., 0., 0., 0., 0.,\n",
       "         0., 0., 0., 0.],\n",
       "        [0., 0., 0., 0., 0., 0., 0., 0., 0., 0., 0., 0., 0., 0., 0., 0.,\n",
       "         0., 0., 0., 0.],\n",
       "        [0., 0., 0., 0., 0., 0., 0., 0., 0., 0., 0., 0., 0., 0., 0., 0.,\n",
       "         0., 0., 0., 0.],\n",
       "        [0., 0., 0., 0., 0., 0., 0., 0., 0., 0., 0., 0., 0., 0., 0., 0.,\n",
       "         0., 0., 0., 0.],\n",
       "        [0., 0., 0., 0., 0., 0., 0., 0., 0., 0., 0., 0., 0., 0., 0., 0.,\n",
       "         0., 0., 0., 0.],\n",
       "        [0., 0., 0., 0., 0., 0., 0., 0., 0., 0., 0., 0., 0., 0., 0., 0.,\n",
       "         0., 0., 0., 0.],\n",
       "        [0., 0., 0., 0., 0., 0., 0., 0., 0., 0., 0., 0., 0., 0., 0., 0.,\n",
       "         0., 0., 0., 0.],\n",
       "        [0., 0., 0., 0., 0., 0., 0., 0., 0., 0., 0., 0., 0., 0., 0., 0.,\n",
       "         0., 0., 0., 0.],\n",
       "        [0., 0., 0., 0., 0., 0., 0., 0., 0., 0., 0., 0., 0., 0., 0., 0.,\n",
       "         0., 0., 0., 0.],\n",
       "        [0., 0., 0., 0., 0., 0., 0., 0., 0., 0., 0., 0., 0., 0., 0., 0.,\n",
       "         0., 0., 0., 0.]])"
      ]
     },
     "execution_count": 63,
     "metadata": {},
     "output_type": "execute_result"
    }
   ],
   "source": [
    "C.todense()-concatenate((F.todense(), F.todense()),axis=1)"
   ]
  },
  {
   "cell_type": "markdown",
   "metadata": {},
   "source": [
    "The difference of the two concatenations is full of zeros, so of course it works!\n",
    "\n",
    "As you noticed the Faust concatenation is stable, you give two Fausts and you get a Faust again.\n",
    "Besides, it's possible to concatenate an arbitrary number of Faust objects.\n"
   ]
  },
  {
   "cell_type": "code",
   "execution_count": 64,
   "metadata": {},
   "outputs": [
    {
     "data": {
      "text/plain": [
       "Faust size 10x70, density 2.72857, nnz_sum 1910, 9 factor(s): \n",
       "- FACTOR 0 (real) SPARSE, size 10x20, density 0.1, nnz 20\n",
       "- FACTOR 1 (real) SPARSE, size 20x30, density 0.05, nnz 30\n",
       "- FACTOR 2 (real) SPARSE, size 30x40, density 0.0333333, nnz 40\n",
       "- FACTOR 3 (real) SPARSE, size 40x70, density 0.025, nnz 70\n",
       "- FACTOR 4 (real) SPARSE, size 70x70, density 0.0714286, nnz 350\n",
       "- FACTOR 5 (real) SPARSE, size 70x70, density 0.0714286, nnz 350\n",
       "- FACTOR 6 (real) SPARSE, size 70x70, density 0.0714286, nnz 350\n",
       "- FACTOR 7 (real) SPARSE, size 70x70, density 0.0714286, nnz 350\n",
       "- FACTOR 8 (real) SPARSE, size 70x70, density 0.0714286, nnz 350"
      ]
     },
     "execution_count": 64,
     "metadata": {},
     "output_type": "execute_result"
    }
   ],
   "source": [
    "F.concatenate(F, C, C, F, axis=1)"
   ]
  },
  {
   "cell_type": "markdown",
   "metadata": {},
   "source": [
    "As an exercise, you can write the factors of the Faust ```F.concatenate(F)```, F being any Faust. \n",
    "\n",
    "**Hint**: the block-diagonal matrices are around here."
   ]
  },
  {
   "cell_type": "markdown",
   "metadata": {},
   "source": [
    "### 2.7 Faust Indexing and Slicing"
   ]
  },
  {
   "cell_type": "markdown",
   "metadata": {},
   "source": [
    "Sometimes you need to consult the Faust's dense matrix or even an element of it (by the way, take in note that it's costful).\n",
    "\n",
    "Let's access a Faust item:"
   ]
  },
  {
   "cell_type": "code",
   "execution_count": 65,
   "metadata": {},
   "outputs": [
    {
     "data": {
      "text/plain": [
       "10.111441168614146"
      ]
     },
     "execution_count": 65,
     "metadata": {},
     "output_type": "execute_result"
    }
   ],
   "source": [
    "F[2,3]"
   ]
  },
  {
   "cell_type": "raw",
   "metadata": {},
   "source": [
    "Why is costful? Because it computes the whole product to access one item."
   ]
  },
  {
   "cell_type": "code",
   "execution_count": 66,
   "metadata": {},
   "outputs": [
    {
     "name": "stdout",
     "output_type": "stream",
     "text": [
      "36.2 µs ± 5.64 µs per loop (mean ± std. dev. of 7 runs, 10000 loops each)\n"
     ]
    }
   ],
   "source": [
    "timeit F[2,3]"
   ]
  },
  {
   "cell_type": "code",
   "execution_count": 67,
   "metadata": {},
   "outputs": [
    {
     "name": "stdout",
     "output_type": "stream",
     "text": [
      "172 ns ± 7.3 ns per loop (mean ± std. dev. of 7 runs, 10000000 loops each)\n"
     ]
    }
   ],
   "source": [
    "timeit FD[2,3]"
   ]
  },
  {
   "cell_type": "markdown",
   "metadata": {},
   "source": [
    "It's totally the same syntax as numpy but much slower so use it with care. \n",
    "\n",
    "The more advanced slicing operation uses also the same syntax as numpy:"
   ]
  },
  {
   "cell_type": "code",
   "execution_count": 68,
   "metadata": {},
   "outputs": [
    {
     "data": {
      "text/plain": [
       "Faust size 3x7, density 9.52381, nnz_sum 200, 5 factor(s): \n",
       "- FACTOR 0 (real) SPARSE, size 3x10, density 0.5, nnz 15\n",
       "- FACTOR 1 (real) SPARSE, size 10x10, density 0.5, nnz 50\n",
       "- FACTOR 2 (real) SPARSE, size 10x10, density 0.5, nnz 50\n",
       "- FACTOR 3 (real) SPARSE, size 10x10, density 0.5, nnz 50\n",
       "- FACTOR 4 (real) DENSE, size 10x7, density 0.5, nnz 35"
      ]
     },
     "execution_count": 68,
     "metadata": {},
     "output_type": "execute_result"
    }
   ],
   "source": [
    "F[2:5, 3:10]"
   ]
  },
  {
   "cell_type": "markdown",
   "metadata": {},
   "source": [
    "Here again, the result is another Faust. But this is not a full copy, it makes profit of memory views implemented behind in C++. Solely the first and last factors of the sliced Faust are new in memory, the other are just referenced from the initial Faust F. So use it with no worry for a Faust with a lot of factors!\n"
   ]
  },
  {
   "cell_type": "markdown",
   "metadata": {},
   "source": [
    "The numpy's fancy indexing has also been implemented in the FAµST C++ core, let's try it:"
   ]
  },
  {
   "cell_type": "code",
   "execution_count": 69,
   "metadata": {},
   "outputs": [
    {
     "data": {
      "text/plain": [
       "True"
      ]
     },
     "execution_count": 69,
     "metadata": {},
     "output_type": "execute_result"
    }
   ],
   "source": [
    "FI = F[[1,3,2],:]\n",
    "Faust.isFaust(FI)"
   ]
  },
  {
   "cell_type": "markdown",
   "metadata": {},
   "source": [
    "Again, it's a Faust but is it really working? Verify!"
   ]
  },
  {
   "cell_type": "code",
   "execution_count": 70,
   "metadata": {},
   "outputs": [
    {
     "data": {
      "text/plain": [
       "True"
      ]
     },
     "execution_count": 70,
     "metadata": {},
     "output_type": "execute_result"
    }
   ],
   "source": [
    "(FI.todense()[0] == F.todense()[1]).all() and \\\n",
    "(FI.todense()[1] == F.todense()[3]).all() and \\\n",
    "(FI.todense()[2] == F.todense()[2]).all()"
   ]
  },
  {
   "cell_type": "markdown",
   "metadata": {},
   "source": [
    "Yes it is!"
   ]
  },
  {
   "cell_type": "markdown",
   "metadata": {},
   "source": [
    "-----"
   ]
  },
  {
   "cell_type": "markdown",
   "metadata": {},
   "source": [
    "This is the notebook's end, you have now a global view of what the Faust class is able and what kind of high-level algorithms it is ready for. You might be interested to read other notebooks, just go back to the page where you got this one."
   ]
  }
 ],
 "metadata": {
  "kernelspec": {
   "display_name": "Python 3",
   "language": "python",
   "name": "python3"
  },
  "language_info": {
   "codemirror_mode": {
    "name": "ipython",
    "version": 3
   },
   "file_extension": ".py",
   "mimetype": "text/x-python",
   "name": "python",
   "nbconvert_exporter": "python",
   "pygments_lexer": "ipython3",
   "version": "3.6.8"
  }
 },
 "nbformat": 4,
 "nbformat_minor": 2
}
