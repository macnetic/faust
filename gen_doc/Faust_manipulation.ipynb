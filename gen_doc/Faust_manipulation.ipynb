{
 "cells": [
  {
   "cell_type": "markdown",
   "metadata": {},
   "source": [
    "# How to Manipulate a Faust\n",
    "\n",
    "<a name=\"start\"></a>\n",
    "This notebook is intended to gently introduce the operations available to manipulate a Faust object. \n",
    "It comes after the first notebook (available [here](https://faustgrp.gitlabpages.inria.fr/faust/last-doc/html/Faust_creation.ipynb) or [here](https://faustgrp.gitlabpages.inria.fr/faust/last-doc/html/Faust_creation.html) as a web page), so it's assumed you already know how to create a Faust object from one way or another.\n",
    "\n",
    "Keep in mind that a full API doc is available [here](https://faustgrp.gitlabpages.inria.fr/faust/last-doc/html/namespacepyfaust.html) every time you need details. In particular the Faust class is documented [here](https://faustgrp.gitlabpages.inria.fr/faust/last-doc/html/classpyfaust_1_1Faust.html).\n",
    "\n",
    "# Table of Contents:\n",
    "\n",
    "[**1. Getting Basic Information about a Faust Object**](#1.-Getting-Basic-Information-about-a-Faust-Object)<br/>\n",
    "[1.1 Obtaining Dimension and Scalar Type Information](#1.1-Obtaining-Dimension-and-Scalar-Type-Information)<br/>\n",
    "[1.2 Obtaining Other Faust Specific Information](#1.2-Obtaining-Other-Faust-Specific-Information)<br/>\n",
    "[1.3 Plotting a Faust](#1.3-Plotting-a-Faust)<br/>\n",
    "[1.4 About Sparsity!](#1.4-About-Sparsity!)<br/>\n",
    "\n",
    "[**2. Faust Algebra and other Operations**](#2.-Faust-Algebra-and-other-Operations)<br/>\n",
    "[2.1 Transpose, conjugate, transconjugate](#2.1-Transpose,-conjugate,-transconjugate)<br/>\n",
    "[2.2 Add, Subtract and Multiply](#2.2-Add,-Subtract-and-Multiply)<br/>\n",
    "[2.3 Faust Multiplication by a Vector or a Matrix](#2.3-Faust-Multiplication-by-a-Vector-or-a-Matrix)<br/>\n",
    "[2.4 Faust Norms](#2.4-Faust-Norms)<br/>\n",
    "[2.5 Faust Normalizations](#2.5-Faust-Normalizations)<br/>\n",
    "[2.6 Faust Concatenation](#2.6-Faust-Concatenation)<br/>\n",
    "[2.7 Faust Indexing and Slicing](#2.7-Faust-Indexing-and-Slicing)<br/>\n",
    "\n",
    "\n",
    "# 1. Getting Basic Information about a Faust Object\n",
    "\n",
    "First of all, given any object, you might ask yourself if it's a Faust or not (typically when you receive an object in a function, python being built on dynamic types, you can't say for sure it's a Faust). \n",
    "[Faust.isFaust()](https://faustgrp.gitlabpages.inria.fr/faust/last-doc/html/classpyfaust_1_1Faust.html#a965047e6c0161e59a1c3e08f2b60e806) is the function to verify an object is a Faust.\n",
    "It's use is straighforward as you can see in the [documentation](https://faustgrp.gitlabpages.inria.fr/faust/last-doc/html/classpyfaust_1_1Faust.html#a965047e6c0161e59a1c3e08f2b60e806).\n",
    "\n",
    "\n",
    "### 1.1 Obtaining Dimension and Scalar Type Information\n",
    "\n",
    "Firstly, let's list basic Faust informative methods/attributes you're probably used to for numpy arrays:\n",
    "\n",
    "- [shape](https://faustgrp.gitlabpages.inria.fr/faust/last-doc/html/classpyfaust_1_1Faust.html#a64b167c138d18a23bb5b9794fcb03ef1),\n",
    "- [size](https://faustgrp.gitlabpages.inria.fr/faust/last-doc/html/classpyfaust_1_1Faust.html#a6505fdc600b4868bbe77d8fc4a48b350),\n",
    "- [dtype](https://faustgrp.gitlabpages.inria.fr/faust/last-doc/html/classpyfaust_1_1Faust.html#ad0615fb9508899a95af2c7de42377e91).\n",
    "\n",
    "To keep it really clear, let's show some examples operated on a random Faust.\n"
   ]
  },
  {
   "cell_type": "code",
   "execution_count": null,
   "metadata": {},
   "outputs": [],
   "source": [
    "from pyfaust import FaustFactory as FF\n",
    "F = FF.rand(5,10)\n",
    "print(F)"
   ]
  },
  {
   "cell_type": "code",
   "execution_count": null,
   "metadata": {
    "scrolled": true
   },
   "outputs": [],
   "source": [
    "F.shape"
   ]
  },
  {
   "cell_type": "code",
   "execution_count": null,
   "metadata": {},
   "outputs": [],
   "source": [
    "F.size"
   ]
  },
  {
   "cell_type": "code",
   "execution_count": null,
   "metadata": {},
   "outputs": [],
   "source": [
    "F.dtype"
   ]
  },
  {
   "cell_type": "markdown",
   "metadata": {},
   "source": [
    "If the attributes printed out above seem not clear to you, you're probably not a numpy user. Anyway you'll find all descriptive informations in the FAµST API documentation (see the links [above](#start)).\n",
    "\n",
    "As a complement, you can also refer to the numpy API documentation:\n",
    "- [shape](https://docs.scipy.org/doc/numpy/reference/generated/numpy.ndarray.shape.html)\n",
    "- [size](https://docs.scipy.org/doc/numpy/reference/generated/numpy.ndarray.size.html)\n",
    "- [dtype](https://docs.scipy.org/doc/numpy/reference/generated/numpy.ndarray.dtype.html)\n",
    "\n",
    "About shape, it's noteworthy that contrary to what numpy is capable of, you _cannot_ [reshape](https://docs.scipy.org/doc/numpy/reference/generated/numpy.ndarray.reshape.html) a Faust.\n"
   ]
  },
  {
   "cell_type": "markdown",
   "metadata": {},
   "source": [
    "### 1.2 Obtaining Other Faust Specific Information\n",
    "\n",
    "As you've seen in this notebook and the [first one](#start), when you print a Faust object, several pieces of information appear.\n",
    "Most of them are also available independently with specific functions.\n",
    "\n",
    "For instance, if you want information about factors, nothing is more simple than calling directly the next functions:\n",
    "- [get_num_factors()](https://faustgrp.gitlabpages.inria.fr/faust/last-doc/html/classpyfaust_1_1Faust.html#a2b46d3c068ef20d74bb90e382848014e) ; which gives you the number of factors (aka layers) a Faust object is composed of.\n",
    "- [get_factor()](https://faustgrp.gitlabpages.inria.fr/faust/last-doc/html/classpyfaust_1_1Faust.html#adc91fd04c17ccaa2f32b7423955ef37d) ; which allows you to copy any of the Faust's factors givens its index.\n",
    "\n",
    "Going back to our F object, let's call these functions:"
   ]
  },
  {
   "cell_type": "code",
   "execution_count": null,
   "metadata": {},
   "outputs": [],
   "source": [
    "F.get_num_factors()"
   ]
  },
  {
   "cell_type": "markdown",
   "metadata": {},
   "source": [
    "For example, try to copy the third factor:"
   ]
  },
  {
   "cell_type": "code",
   "execution_count": null,
   "metadata": {},
   "outputs": [],
   "source": [
    "f3 = F.get_factor(2)\n",
    "f3"
   ]
  },
  {
   "cell_type": "markdown",
   "metadata": {},
   "source": [
    "Note that, since Faust 2.3, the function doesn't alterate the factor format. If the Faust object contains a sparse factor then you'll receive a sparse (CSR) matrix. \n"
   ]
  },
  {
   "cell_type": "markdown",
   "metadata": {},
   "source": [
    "Contrary to what the singular form of 'get_factor' indicates, it's possible (since Faust 2.3 again) to retrieve a sub-sequence of Faust factors.\n",
    "\n",
    "Go straight to the example, extracting factors from F:"
   ]
  },
  {
   "cell_type": "code",
   "execution_count": null,
   "metadata": {},
   "outputs": [],
   "source": [
    "F.get_factor(range(2,4))"
   ]
  },
  {
   "cell_type": "markdown",
   "metadata": {},
   "source": [
    "Hmm... something is different from the previous example. We indeed received a Faust as return type, great! You've just learned another way to create a Faust from another, additionally to what you've seen in the first [notebook](#start). \n",
    "\n",
    "Without this function, you'd surely have written something similar to:"
   ]
  },
  {
   "cell_type": "code",
   "execution_count": null,
   "metadata": {},
   "outputs": [],
   "source": [
    "from pyfaust import Faust\n",
    "F2 = Faust([F.get_factor(2), F.get_factor(3)])\n",
    "F2"
   ]
  },
  {
   "cell_type": "markdown",
   "metadata": {},
   "source": [
    "OK, that's not awful but I let you imagine how much complicated it is with more factors (even with a list comprehension, it's longer to write).\n",
    "\n",
    "### 1.3 Plotting a Faust\n",
    "\n",
    "It's quite useful to print a Faust as we've seen before, calling ``print(F)`` or ``F.display()`` or just ``F`` in an interactive terminal but this is wordy. \n",
    "How about plotting a Faust in a more graphical fashion ?"
   ]
  },
  {
   "cell_type": "code",
   "execution_count": null,
   "metadata": {},
   "outputs": [],
   "source": [
    "import matplotlib.pyplot as plt\n",
    "%matplotlib inline\n",
    "F.imshow()\n",
    "plt.show()"
   ]
  },
  {
   "cell_type": "markdown",
   "metadata": {},
   "source": [
    "What do we see above ? On the bottom left is the dense matrix associated to F, obtained with ```F.toarray()```. On the top are the indexed factors of F.\n",
    "Note that you can change the default [colormap](https://matplotlib.org/tutorials/colors/colormaps.html) in matplotlib parameters.\n",
    "\n",
    "Another example is worth a thousand words."
   ]
  },
  {
   "cell_type": "code",
   "execution_count": null,
   "metadata": {},
   "outputs": [],
   "source": [
    "from pyfaust import Faust\n",
    "from numpy import eye\n",
    "Faust([eye(5,4),eye(4,10)]).imshow()"
   ]
  },
  {
   "cell_type": "markdown",
   "metadata": {},
   "source": [
    "The dimension ratio of the factors is respected in the figure.\n",
    "\n",
    "### 1.4 About Sparsity!\n",
    "\n",
    "Three functions of the Faust class are here to evaluate the sparsity of a Faust object.\n",
    "\n",
    "Let's call the first one:\n"
   ]
  },
  {
   "cell_type": "code",
   "execution_count": null,
   "metadata": {},
   "outputs": [],
   "source": [
    "F.nnz_sum()"
   ]
  },
  {
   "cell_type": "markdown",
   "metadata": {},
   "source": [
    "I'm sure you guessed exactly what the function returns, if you doubt it, here is the doc: [Faust.nnz_sum()](https://faustgrp.gitlabpages.inria.fr/faust/last-doc/html/classpyfaust_1_1Faust.html#a216c598bb384d92b4e37843b67c42255). The smaller ```nnz_sum```, the sparser the Faust.\n",
    "\n",
    "Next comes the function: [Faust.density()](https://faustgrp.gitlabpages.inria.fr/faust/last-doc/html/classpyfaust_1_1Faust.html#af73ecb7c5fca3c7673c665d8ba4058f6).\n",
    "\n",
    "This function along with its reciprocal [Faust.rcg()](https://faustgrp.gitlabpages.inria.fr/faust/last-doc/html/classpyfaust_1_1Faust.html#a6a51a05c20041504a0b8f2a73dd8d05a) can give you a big hint on how much your Faust is potentially optimized both for storage and calculation. The sparser the Faust, the larger the RCG!"
   ]
  },
  {
   "cell_type": "code",
   "execution_count": null,
   "metadata": {},
   "outputs": [],
   "source": [
    "F.density()"
   ]
  },
  {
   "cell_type": "code",
   "execution_count": null,
   "metadata": {},
   "outputs": [],
   "source": [
    "F.rcg()"
   ]
  },
  {
   "cell_type": "markdown",
   "metadata": {},
   "source": [
    "According to its RCG, this Faust doesn't seem to be of any help for optimization but look at the graphic the next script generates: "
   ]
  },
  {
   "cell_type": "code",
   "execution_count": null,
   "metadata": {},
   "outputs": [],
   "source": [
    "from pyfaust import Faust, FaustFactory\n",
    "import numpy as np\n",
    "import os\n",
    "import matplotlib.pyplot as plt \n",
    "\n",
    "\n",
    "nfactors = 3 \n",
    "startd = 0.01\n",
    "endd = 1 \n",
    "dim_sz = 1000\n",
    "sizes = []\n",
    "rcs = []\n",
    "ntests = 10\n",
    "for i, d in zip(\n",
    "                list(range(0, ntests)),\n",
    "    np.linspace(startd, endd, ntests)):\n",
    "    F = FaustFactory.rand(nfactors, dim_sz, d, fac_type='sparse')\n",
    "    filepath = 'test_faust_size'+str(i)+'.mat'\n",
    "    F.save(filepath)\n",
    "    stat = os.stat(filepath)\n",
    "    sizes.append(stat.st_size)\n",
    "    rcs.append(F.density())\n",
    "    os.remove(filepath)\n",
    "    plt.title('File Size vs Density for Pure-Sparse Fausts \\n('+str(nfactors)+' '\n",
    "              'random factors '+str(dim_sz)+'x'+str(dim_sz)+')')\n",
    "plt.xlabel('Density')\n",
    "plt.ylabel('File Size (bytes)')\n",
    "plt.rcParams['figure.figsize'] = [8.0, 6]\n",
    "plt.tight_layout()\n",
    "plt.plot(rcs, sizes)\n",
    "plt.show()\n"
   ]
  },
  {
   "cell_type": "markdown",
   "metadata": {},
   "source": [
    "Isn't it obvious now that the smaller the density the better?! Indeed, for two Faust objects of the same shape and the same number of factors, a smaller density (linearly) implies a smaller file size for storage.\n",
    "This point applies also to the memory (RAM) space to work on a Faust.\n",
    "\n",
    "We'll see later how the computation can benefit of a bigger RCG (or smaller density). But let's point out right now that the sparsity is often a tradeoff with accuracy, as the following plot shows about the truncated [SVD](https://docs.scipy.org/doc/numpy/reference/generated/numpy.linalg.svd.html) of a matrix $M \\in {\\mathbb R}^{512 \\times 512}$. Note beforehand that the SVD of M (truncated or not) can be seen as a Faust which approximates M.\n",
    "```\n",
    "Faust([U,S,V.H])\n",
    "```\n",
    "<img src=\"data:image/png;base64,iVBORw0KGgoAAAANSUhEUgAAAoAAAAHgCAYAAAA10dzkAAAABHNCSVQICAgIfAhkiAAAAAlwSFlz\n",
    "AAAPYQAAD2EBqD+naQAAADl0RVh0U29mdHdhcmUAbWF0cGxvdGxpYiB2ZXJzaW9uIDIuMi4zLCBo\n",
    "dHRwOi8vbWF0cGxvdGxpYi5vcmcvIxREBQAAIABJREFUeJzs3XlYVNX/B/D3gGyyibIJIiKpmLgB\n",
    "KmiElIGmuaRJJu5+1TZzq1xzC/26ZG65peLP1CLNcF9IJc2lL7kVlVamYoriEuACiPD5/UFzYxiW\n",
    "QcUZZt6v55nnYe7ce+6Zy507nznnfM5ViYiAiIiIiEyGmb4rQERERERPFgNAIiIiIhPDAJCIiIjI\n",
    "xDAAJCIiIjIxDACJiIiITAwDQCIiIiITwwCQiIiIyMQwACQiIiIyMQwAiYiIiEwMA0AiIiIiE8MA\n",
    "kIiIiMjEMAAkIiIiMjEMAImIiIhMDANAIiIiIhOjBIBr1qyBSqVSHlWqVEHNmjXx6quv4vfff3/o\n",
    "HUyZMgUqleqhtt25cyemTJlS7Gt16tRB//79H7peD6tt27Yax6nwo06dOk+8Poai6PljbW0Nd3d3\n",
    "hIeHY+bMmUhLS9N3FRUqlUrjvPrll18wZcoUXLhwQW91iouLQ6NGjWBjYwOVSoVTp05prVOnTp0S\n",
    "z73CjzVr1jz5N/CYLVy4EOvWrXvs5WZnZ0OlUuG///1vmeteuHABQ4cORb169WBjY4Pq1aujSZMm\n",
    "GDp0KFJTUwEATz/9NOrWrQsRKbGcwMBAeHh4IC8vD2fOnNH4X1lYWMDZ2RmtWrXC6NGjcebMmcf2\n",
    "XgFg9+7dCAgIgK2tLVQqFXbv3v1Yy38SgoOD0b59e31Xo9JYu3YtFi9eXK5t1OflF1988VjqsHv3\n",
    "buUcL6nM1q1bQ6VSwc/PT+dyn3nmGYwYMUJ5XvTzVPgRHx+vsW1iYiIGDRqEgIAAWFlZQaVS4erV\n",
    "q1r7+PXXXzFy5Eg0b94cjo6OcHZ2RmhoqFZ55TF27Nhi61itWjWtdefMmYOuXbvC29sbKpWqxHP/\n",
    "yy+/RFRUFOrWrQsbGxv4+Pigb9+++PPPPzXWy8nJgZeXF5YtW6ZVRpWiC2JjY+Hn54fs7GwcPnwY\n",
    "MTExOHDgAM6cOQMnJ6eHff8PZefOnfjkk0+KDQK//vprODg4PNH6qNWtWxfr16/XWm5lZaWH2hgW\n",
    "9fmTm5uLtLQ0fPfdd5g1axbmzp2LuLg4tGvXTt9VxNGjR1GrVi3l+S+//IKpU6eibdu2egnir1+/\n",
    "jj59+qB9+/ZYsmQJrKysUL9+fa31vv76a+Tk5CjPV65ciVWrVmH37t1wdHRUlvv6+j6RelekhQsX\n",
    "4qmnnkJ0dLRe9n/+/HkEBgbCzc0N7777LurVq4f09HT8/PPP+PLLL3Hx4kXUrFkTAwcOxLvvvosD\n",
    "Bw7gueee0yrnxx9/xIkTJzB27FiYm5sry0ePHo0ePXogPz8ft27dwokTJ7B69WosWrQIc+fOxfDh\n",
    "wx/5PeTm5qJnz55o1qwZtm/fDhsbGzRs2PCRyyXDtnbtWvz111946623dN6mTp06OHr0KOrVq/dY\n",
    "62Jvb49Vq1bh1Vdf1Vh+5swZHD16tFzf4XFxcTh58iS++uorrdfUn6fCGjRooPF8z549OHDgAJo1\n",
    "awY7OzscOnSo2P3s2LEDCQkJiI6ORlBQEO7fv49169ahW7dumDVrFt577z2d61zU/v37YWNjozyv\n",
    "UkUrBMOSJUtQo0YNREREYPPmzSWWNWPGDNStWxeTJ09GnTp1cPHiRXz44YcICAhAUlKS8r+0srLC\n",
    "xIkTMWnSJPTq1UvjuwLyj9jYWAEgSUlJUtjUqVMFgKxevVoexuTJk6XQbsrlzTfffOhtK0pYWJg0\n",
    "atTooba9d++e5OfnF/va3bt3H6Vaj62Mh1XS+SMicvHiRfHy8hJ7e3u5evWqHmpXuo0bNwoAOXDg\n",
    "gF72/9133wkAiYuLK9d26s/W9evXdVr/wYMHkpOT8zBVfOJ8fX0lMjLysZeblZUlAGTmzJmlrvfe\n",
    "e++JSqWSy5cvF/t6Xl6eiIhcu3ZNLCwspHfv3sWu98477wgA+e2330RE5NdffxUAsmjRIq1179y5\n",
    "I88995yoVCrZt29fed5Wsf744w8BIAsWLHjkstT0cY1p1apVhZwLxur555+XBg0a6LRuRV0Tdu3a\n",
    "JQBk8ODBYmZmJhcuXNB4fcyYMVK3bl157rnndK5r06ZNpX///hrLSvs8FaX+zIqITJ8+XQBIamqq\n",
    "1nppaWnFfk8///zz4uDgIA8ePNCpvoW9//77AkBu375drnqWdh28du2a1rILFy6ImZmZvPnmmxrL\n",
    "7927Jw4ODvLRRx9pLC9zDGBQUBAA4Nq1a1qvxcXFISQkBLa2trCzs0NkZCROnjxZVpGIi4tDREQE\n",
    "atasqfwqHTt2LO7evaus079/f3zyyScAoNFkqu6mK9wFfP36dVhaWmLSpEla+1I3ES9cuFBZdvXq\n",
    "VQwdOhS1atWCpaUlfHx8MHXqVDx48KDMuutK3SW6d+9eDBw4EC4uLqhatSpycnKUbvETJ06gR48e\n",
    "cHJy0mi12bp1K0JCQlC1alXY29vjhRdewNGjRzXKL6uMwk6fPg2VSoVVq1ZpvbZr1y6oVCps3boV\n",
    "QMGxHDJkCLy8vGBlZQUXFxe0adMG33zzzUMfi9q1a+Ojjz7C7du3sXz5co3XfvjhB3Tu3BnVq1eH\n",
    "tbU1mjdvji+//FJjHfWxPHDgAF5//XU4OzujRo0aePnll3HlyhWNdffv34+2bduiRo0asLGxQe3a\n",
    "tdG9e3fcu3dPWadwF/CaNWvwyiuvAADCw8M1ulGnT5+OKlWq4NKlS1rvaeDAgahRoways7NLfe9l\n",
    "/S/79++PZ555BgAQFRUFlUqFtm3bln5AdaA+7+fPn48pU6agTp06sLS0xJEjR7Bs2bJiuz/U3TbH\n",
    "jh1TlgUHByMoKAhHjx5F69atUbVqVTz11FP46KOPtLo9b926hREjRsDHxwdWVlZwc3NDp06dcO7c\n",
    "OWWdiRMnokWLFqhevTocHR0RFBSEtWvXapTj7u6Oc+fOYc+ePcr/o3A3UXp6OkaOHKm8Jy8vL4wZ\n",
    "MwZZWVka5fz9998YOHAgnJycYGdnh06dOml1j5Tk5s2bSvdscczMCi6drq6u6NSpEzZv3oyMjAyN\n",
    "dXJzc7F+/XqEhobq1LJia2uLVatWwczMDHPnzlWW37lzRzmu1tbWqFGjBlq2bFlsS4ja2LFj8dRT\n",
    "TwEA3nnnHa1jmJiYiPDwcNjZ2cHW1hahoaHYu3evRhnq8+TAgQPo168fnJ2dYWtrW+I+7969i5Ej\n",
    "R6JJkyZwcHBAjRo10KZNG+zYsaPM9w4AIoKYmBh4eXnB2toaQUFBJV53dDkH1N39Y8aMwerVq9Gg\n",
    "QQNUrVoVAQEBWu/16tWrGDhwIGrVqqVc90JDQ/Htt99qrLdr1y60bdsW9vb2qFq1Kp599lkcPHiw\n",
    "zPem/mxt2rQJo0aNgpubG+zs7NCtWzfcuHED6enpyjXFxcUFQ4YM0bhmAcD8+fPxzDPPwMXFBXZ2\n",
    "dmjatCnmzZun8b0VHByMffv24ezZsxrDcYDSrwlFu4Dv3buHRo0aoWHDhrhz545S/l9//QUXFxdE\n",
    "RkYiPz+/zPfdsWNHuLi4aAxLefDgAT777DMMGDBA5+FhR44cwenTp9GnTx+d1i+O+jNbFhcXl2Lr\n",
    "1bJlS2RmZiIzMxNAwTnj7u6Otm3bIi8vT1nv1KlTsLGxwX/+858Kraerq6vWMm9vb7i5uWl9Z9nY\n",
    "2KB79+5a379ltgAuXrxYAMhXX32lsTwmJkZUKpUMHDhQtm/fLps3b5aQkBCxtbWVn3/+WVmvuBbA\n",
    "6dOny8cffyw7duyQxMREWbZsmfj4+Eh4eLiyzh9//CE9evQQAHL06FHlkZ2dLSIi3t7e0q9fP2X9\n",
    "bt26iZeXl0b0LFLwS97S0lJu3LghIiKpqani5eUl3t7esnz5cvnmm29k+vTpYmVlpfXrojjqFsDc\n",
    "3FytR+F9q4+np6enDBkyRHbt2iWbNm2SBw8eKMfE29tb3n//fUlISJD4+HgREVm/fr0AkIiICImP\n",
    "j5e4uDgJDAwUS0tLOXTokNZxLa6M4jRv3lzatGmjtbxnz57i6uoqubm5IiISGRkpLi4usmLFCklM\n",
    "TJT4+Hj54IMP5Isvvij1uJTWAihS0Lphbm4uzz//vLJs//79YmlpKaGhoRIXFye7d++W/v37CwCJ\n",
    "jY3VKrtu3bry9ttvy549e2TlypXi5OSkcc6cP39erK2t5YUXXpD4+HhJTEyU9evXS58+feTvv/9W\n",
    "1gMgkydPFpGCX3szZswQAPLJJ58o51laWppcu3ZNrKysZMKECRrv5ebNm2JjYyPvvvtuqcdEl//l\n",
    "H3/8IZ988okAkBkzZsjRo0c1Pj+lKa0FUP3L2NPTU1544QX56quvZM+ePXLp0iVZunRpsb9+1b/a\n",
    "jx49qixr1aqVuLq6Sv369eXTTz+VhIQEGTx4sFaL5d9//y3169cXe3t7iYmJkb1798qmTZvkrbfe\n",
    "ku+++05ZLzo6WmJjY+Wbb76RvXv3ypQpU8TKykpmzZqlrHP8+HGpVauWBAcHK/+PU6dOiYhIZmam\n",
    "NGrUSNzc3GTBggXyzTffyEcffST29vbSvn17pYwHDx5I69atxdraWmbNmiV79+6VCRMmiI+Pj04t\n",
    "gCtXrhQA0rFjR9m7d2+pv9y3b98uAGTZsmUay7/66isBIGvWrNH6v5TWYtGsWTOxtbVVnvfr10/s\n",
    "7e1lwYIFkpiYKNu2bZOYmBit/RWWkpIiX3zxhQCQ0aNHaxzDvXv3irm5uQQHB8vGjRtl8+bNEh4e\n",
    "LmZmZvL1118rZajPk1q1asmbb74pu3fvli+//LLEfaalpcnAgQNl3bp1sn//ftm1a5eMGDFCVCqV\n",
    "Tq3b6laSoUOHyu7du2Xp0qXi4eEhrq6uGq0gup4D6tZeHx8fCQkJkU2bNsmOHTukTZs2YmVlJSkp\n",
    "Kcq6YWFhUrNmTVm5cqV8++23Eh8fLxMmTJDNmzcr66xcuVJUKpW88sorEh8fL1u3bpX27duLhYWF\n",
    "xrW5OOrPlre3t/znP/+RPXv2yOLFi8XGxkbat28vYWFhMnbsWElISJCYmBgxMzPTur68/fbbsmzZ\n",
    "Mtm9e7fs27dP5s6dK05OTvL6668r6yQnJ0uLFi3E29tb+ex8//33IlL6NUH92ueff66U9fPPP0vV\n",
    "qlXltddeExGR3NxcadOmjXh4eEhaWppO73fbtm3y7rvvSp06dZRWta+//lrMzMzk0qVLOrdWjh8/\n",
    "XiwtLSUrK0tjubrezs7OYmFhITY2NvLss8/Kzp07Sy2vtBbAkgQHB4unp6dG6+C+ffvEzMxMxo0b\n",
    "JyIF52a9evWkcePGcu/ePWU99bnt7u4uZmZm4ubmJv3795e//vqr1H2Wtyfkl19+EZVKpdSnsP/7\n",
    "v//T6I0QEdEKAI8dOya5ubly+/Zt2b17t7i7u8uzzz6rBAgiBReXKlWqyNtvv62xg9u3b4u7u7v0\n",
    "7NlTWVZWF3B+fr7k5ubKt99+KwDk9OnTymuldQEXDQC3bt0qAGTv3r3KsgcPHoiHh4d0795dWTZ0\n",
    "6FCxs7OTixcvapQ3d+5cAVDml29YWJgAKPYxaNAgZT318ezbt69WGepj8sEHH2gsz8vLEw8PD2nc\n",
    "uLFGMHn79m1xdXWV1q1bl1lGSRYuXCgA5OzZs8qyW7duiZWVlYwePVpZZmdnJyNGjNCpzMLKCgBF\n",
    "RNzc3KRhw4bKcz8/P2nevLnGuSUi0qlTJ6lZs6ZyDNRlv/HGGxrrzZ49W+NDvGnTJgGgfNGVpHAA\n",
    "KFJ6F3C/fv3E1dVVo5tk1qxZYmZmJufPny9xH+X5Xx44cEAAyMaNG0utd1G6BIANGzbU6rIobwCo\n",
    "Uqk0jml+fr489dRT0qVLF2XZ+PHjBYAcPHhQ5/rn5eVJbm6ujB8/XmrWrKnxWkkXvsmTJ0uVKlU0\n",
    "rhMiIuvWrRMAsn//fhEp+JIBIMuXL9dYb9KkSToFgHl5eTJgwABRqVQCQFQqlTRq1EhGjx6tETiI\n",
    "FFxnPD09pWXLlhrLO3bsKPb29hrdproEgF26dBEAkpGRISIiTz31lLz66qul1rc4Je2rWbNm4unp\n",
    "qfEFlZubK/Xr1xdfX19lmfo8GTJkSLn3LVJwXHJzc6V3794SEhJS6rppaWliYWEhvXr10li+b98+\n",
    "AaBxLuh6DqgDwFq1amn8D1JSUgSAfPzxxyJScD5bWFjI2LFjS6xfRkaGODg4yCuvvKKxPDc3V/z8\n",
    "/OTZZ58t9f2pP1tFtx82bJgAkPfee09jefv27cXDw6PE8tSfnRUrVoiFhYXcuXNHea2koKq0a0Jx\n",
    "AaDIv0HDsmXL5L333hNzc3NJTEws9b0Wfr/btm1Tyv7mm29EROSll15SAnVdA8Dw8HBp1qyZ1vIL\n",
    "Fy7I0KFDZdOmTXLo0CFZt26dBAUFCQD57LPPSiyvvAHgokWLir2eiBQMk1OpVLJz506JiooSOzs7\n",
    "OXPmjMY6q1atkpkzZ8quXbtk3759EhMTI9WqVRNPT89Sh0WVJwDMycmRkJAQcXJyKvZ9/fTTT1qN\n",
    "K1ptjcHBwbCwsIC9vT3at28PJycnbNmyRWOw4p49e/DgwQP07dsXDx48UB7W1tYICwtDYmJi0WI1\n",
    "/Pnnn3jttdfg7u4Oc3NzWFhYICwsDEBBBs7D6NChA9zd3REbG6tRzytXrmDgwIHKsu3btyM8PBwe\n",
    "Hh4ade/QoQMAaDX5F8fX1xdJSUlaj+K6oLt3715iOUVfO3v2LK5cuYI+ffpoNAPb2dmhe/fuOHbs\n",
    "mFa3QGnlF9a7d29YWVlpNMV//vnnyMnJwYABA5RlLVu2xJo1a/Dhhx/i2LFjyM3N1al8XUihLsM/\n",
    "/vgDZ86cQe/evQFA43/x4osvIjU1FWfPntXYvnPnzhrPmzRpAgC4ePEiAKBZs2awtLTEkCFD8H//\n",
    "9386d/eV5p133kFaWho2btwIAMjPz8fSpUvRsWPHUhNGHuZ/WRG6du2qkXzwMLy9vdG0aVPluUql\n",
    "gr+/v3LcgYKusSZNmiA0NLTUsvbs2YPnnnsODg4Oymd/xowZSE1N1epCLc727dsREBCAp59+utjP\n",
    "r/rac+DAAQDAa6+9prF90eclMTMzw+rVq3Hu3DksXrwY/fr1Q1ZWFj766CM8/fTTGt345ubm6Nev\n",
    "H/73v//h559/BlDQPbR79268+uqrqFq1qk77VJMiXestW7bEli1bMGHCBBw8eLDMYQel+fvvv3Hq\n",
    "1ClERUVpDUbv3bs3zp07p5UNr+s1BgA2bNigDAuqUqUKLCwssH79+jKv69999x1yc3OV64Hac889\n",
    "Bzc3N41lup4Dau3atdP4H3h5eaFatWrK+atSqdCiRQusWLECM2fOxPfff681HOjgwYPIzMxEv379\n",
    "NPYJAJGRkThy5IhO18pOnTppPFcn5XTs2FFreWpqqkaZSUlJ6NSpE6pXr658doYMGYLc3Fz88ccf\n",
    "Ze5brTzXhL59+2LAgAEYPnw45syZg6lTpyrf1bry8/NDSEgIVq9ejdTUVOzatUvjO1kXV65cKbHL\n",
    "c9myZejevTueeeYZ9O7dG9999x0aNWqEd999t9TsfF1t2bIFI0eORO/evTFkyBCt1ydOnIjnn38e\n",
    "L7/8MuLi4rBs2TKtBJSBAwdi7NixaN++PZ577jmMHz8e27Ztw5UrVzBv3rxHrmNeXh769u2LpKQk\n",
    "rF+/Hu7u7lrrqI/f5cuXlWVaAeDatWuRlJSE/fv3Y+jQofj111/Rq1cvjXXU4wFbtGgBCwsLjUdc\n",
    "XBxu3LhRYkXv3LmD0NBQfP/99/jwww+RmJiIpKQkJdul6DgeXVWpUgV9+vTB119/jfT0dAAF47tq\n",
    "1qyJyMhIjbpv27ZNq96NGjUCgFLrrqYen1L04e3trbVuzZo1Syyn6Gs3b94scRsPDw/k5+fj77//\n",
    "1rn8wqpXr47OnTtj7dq1yniFNWvWoGXLlsp7BwrGZ/br1w8rV65ESEgIqlevjr59+xabLl8ed+/e\n",
    "xc2bN+Hh4QHg33NozJgxWv+LN954A4D2/6JGjRoaz9VZ1+pzxtfXF9988w1cXV3x5ptvwtfXF76+\n",
    "vliwYMFD17t58+YIDQ1VxqNu374dFy5cKDPD7mH+lxVB1/OjNEWPO1Bw7At/Vq9fv66RWV2cQ4cO\n",
    "4cUXX4SlpSVWrVqFI0eOICkpCe+++y4A3T77165dw//+9z+tc0ZdR/U5c/PmTdjZ2cHOzk5j++Iu\n",
    "jKXx8fHBm2++idjYWJw7dw6fffYZ7t69i/fff19jvYEDB0KlUik/QNWfs0GDBpVrf0DBDxo7Ozsl\n",
    "Q3LZsmUYOXIkNm7ciLCwMFSvXh09evTA+fPny112Wedl4XXUdD2HNmzYgN69e6Nu3brYsGEDjh49\n",
    "iqSkJPTu3bvM/616n8X9f4ou0/UcUNPl/P3666/x2muvYenSpQgODkaNGjUwcOBAXL9+XdknUBDA\n",
    "Fd3vggUL8ODBA+V7pzTVq1fXeG5paVnichFRsv7PnTuHsLAwXL9+HYsWLcJ3332HpKQkJXgoz/dm\n",
    "ea8JAwcOxP3792FjY4M333yzXNuqDRo0CJs3b8aCBQvg6OiILl26lGv7rKwsZSxjWaysrPDKK6/g\n",
    "6tWrjzy117Zt29CzZ0+89NJLJU6vZWZmhn79+iE7Oxu1a9dGVFSUTmU/88wz8Pb21hhz/TDy8vLQ\n",
    "r18/bNq0CevXr1d+CBWlPn6FzxWtHOSGDRsqiR/h4eHIy8vDypUrsWnTJiXNWj0wetOmTcUGPaXZ\n",
    "v38/rly5gsTERI1fErp8eMoyYMAAzJkzB1988QWioqKwdetWjBgxQuPXjrOzM5o0aYKYmJhiy1Bf\n",
    "BB+X0ga5Fn1NfaFSzzFW2JUrV2BmZqY1FU955lgcMGAANm7ciISEBNSuXRtJSUlYunSpxjrOzs6Y\n",
    "P38+5s+fj5SUFGzduhVjx45FWlraI80htmPHDuTl5SkJDupzaNy4cXj55ZeL3aboryhdhIaGIjQ0\n",
    "FHl5efjhhx+waNEijBgxAm5ublpTEehq+PDheOWVV3DixAksXrwY9evXxwsvvFDqNg/zv6wIxZ0f\n",
    "6gtB4SllAN1+/JTExcUFf/31V6nrfP7557C1tVV+gKmVZ+4xZ2dnuLm5FTunFfDvr9waNWrgzp07\n",
    "uHPnjkYQ+Kg/ZKKjoxETE4Pk5GSN5b6+vggLC8Nnn32GmTNnIjY2Fo0aNUKrVq3KVf758+fx008/\n",
    "aVzE7e3tERMTg5iYGFy9ehU7duzA2LFj0a1bt2LniyxNWeclAK3EF12vMevWrYOfn5/WFFm6tFiq\n",
    "61Xc/0c92F5N13OgPFxdXbFo0SIsWrQIFy5cQHx8PMaPH49bt24hPj5eOSbLly9HQEBAsWVU5Of5\n",
    "q6++QlZWFrZs2aJxLB4meCjPd0ZmZib69++Phg0b4tKlSxgyZIhWkp4uoqKi8M4772DOnDl4++23\n",
    "lcBXV87Ozrh165bO66tb/nRNqCjOtm3b0KNHD0RGRiIuLq7YKVsA4NKlS3jnnXcQEBCA06dPY/z4\n",
    "8Zg9e7bO9XyUOubn56Nfv374/PPPsXbtWvTs2bPEddXHr/Dnu/h3VMjs2bPx1Vdf4YMPPsDLL78M\n",
    "MzMzREZGokqVKjh37ly5ugeAf0++onPmaWWnQLOFp3B3RUkaNmyIVq1aITY2Fnl5eVrdm0DBL7id\n",
    "O3fC19f3ic9rWJYGDRrA09MTGzZswJgxY5RjdffuXXz11VdKNunDioiIgKenJ2JjY1G7dm1YW1tr\n",
    "te4WVrt2bbz11lvYt28fDh8+/ND7TUlJwZgxY+Do6IihQ4cCKHiv9erVw+nTpzFjxoyHLrsk5ubm\n",
    "aNWqlfKFdOLEiRIDwKItiUV169YNtWvXxujRo/Htt9/i448/LvMiWtH/y0eh7rr+8ccfNX7AqTPB\n",
    "H0aHDh0wY8YMHD58GG3atCl2HfXEx4UveHfu3MGGDRu01i3aQqPWqVMnLFy4EO7u7qW2OIaHh2Ph\n",
    "woXYsGGDRrdNcfsqTmpqarEtJZmZmbhy5Qq8vLy0Xhs0aBD69OmDiRMn4syZM/joo4902pfa3bt3\n",
    "MXjwYIiI0ipalLu7OwYNGoQffvgBy5cvR15eXrm6+J2cnNC8eXNs3LgRM2bMUM79vLw8bNiwAb6+\n",
    "vuX+Ua+mUqm0ruuXLl3Czp07y9y2TZs2Sndx4e7Q/fv3a81Aoes58LDq1KmDESNGYM+ePThx4gQA\n",
    "ICwsDHZ2djhz5kyx3YAVTZ3RW/j4qhtniirps/MwBg0ahLS0NPzwww9ISkpCdHQ0li5ditdff71c\n",
    "5djZ2WHSpEk4evToQx0/Pz8/ZVhHWbKzs7Fx40Z4eHigdu3a5d4XUNDT06NHD7Rr1w6bNm3S+MFa\n",
    "2IMHD5ThFHv27MHy5csxadIktG3bFi+++GKp+zh48CAuXrxY6ndwaQoHf7GxsVrDJ4pSD4l6+umn\n",
    "lWVlBoBOTk4YN24c3nvvPWzYsAHR0dGoU6cOpk2bhgkTJuDPP/9Uxgqqm+ZtbW0xderUYstr3bo1\n",
    "nJycMGzYMEyePFn50J8+fVpr3caNGwMAZs2ahQ4dOsDc3BxNmjQp9dfDwIEDMXToUFy5cgWtW7fW\n",
    "akWaNm0aEhIS0Lp1awwfPhwNGjRAdnY2Lly4gJ07d2LZsmVlXlSysrJK/OUVHBxc6ralMTMzw+zZ\n",
    "s9G7d2906tQJQ4cORU5ODubMmYP09HSd7l5QGnNzc/Tt2xfz5s2Dg4MDXn75ZY1JITMyMhAeHo7X\n",
    "XnsNfn5+sLe3R1JSEnbv3l1iK11RycnJyviYtLQ0HDp0CLGxsTA3N8fXX38NFxcXZd3ly5ejQ4cO\n",
    "iIyMRP/+/eHp6Ylbt27h119/xYkTJ5Rxd7patmwZ9u/fj44dO6J27drIzs7G6tWrAaDUCaj9/f0B\n",
    "ACtWrIC9vT2sra3h4+OjtEqYm5vjzTffxPvvvw9bW1ud7kBT0f/LR9GmTRv4+PjgnXfeQVZWFuzt\n",
    "7bFx40b88MMPD13mu+++i02bNuHFF1/EuHHjEBQUhLt37+LAgQPo2bMnWrdujU6dOmHJkiXKuKLr\n",
    "169j1qxZWt20QMFnf9u2bdhGhq/0AAAgAElEQVS0aRPq1KkDGxsbZVxPfHy8ckcAf39/5OXlISUl\n",
    "Bbt378akSZPQrFkzvPTSSwgODsaIESOQkZGBZs2a4eDBg8VO4F6cSZMm4eTJk4iKikLTpk1hbW2N\n",
    "c+fOYeHChbh9+zbGjx+vtU337t3x9ttvY86cObCwsCh1yooLFy7g2LFjyM/PR3p6Oo4fP47Vq1fj\n",
    "8uXLWLRokUbvSEBAALp3747GjRujWrVqSE5OxhdffIHw8PCHGt+pvp62a9cOI0eOhJmZGRYtWoTf\n",
    "f/+91KllytKpUye88cYbGDFiBDp37owLFy5g2rRpqFWrFlJSUkrd1tXVFe+88w7mzp0LR0dHdOvW\n",
    "DefPn8e0adO0WvR0PQd0de3aNXTq1Am9evVCgwYNYGtri2PHjmH//v3KROTVqlXD/PnzMWTIEFy/\n",
    "fh1du3aFi4sL0tLScOrUKdy+ffuRhpqUJTIyEuPHj0dUVBRGjRqFu3fvYvHixcWOI27cuDF27dqF\n",
    "lStXokmTJqhSpUqJrZalWbx4MTZt2oQNGzagfv36qF+/PhITEzFy5EiEhISU6xgD0Bo2UR5t27bF\n",
    "hg0bkJKSohHUvfXWW6hSpQpCQkLg5uaGlJQUzJ8/H7/++is2bNig8UP92rVryuTP6rG627dvR7Vq\n",
    "1eDu7q5Mx7V//3706NEDtWvXxnvvvaf8CFDz9/dXrlljx45FUlISDhw4AGdnZ4wfPx4HDx5E3759\n",
    "cerUKdSqVQvZ2dlo3bo1evfuDT8/P1haWuLYsWOYO3cuateujVGjRmmU//333yvTuNy9exfXrl3D\n",
    "pk2bABTEF+r4ZOjQoVi3bh2GDRuG+vXra8QkNjY2GuO2gYLWYgsLC80f6OpskNKyOLOysqR27dpS\n",
    "r149jeyh+Ph4CQ8PFwcHB7GyshJvb2/p0aOHku0jUnwW8JEjRyQkJESqVq0qLi4uMnjwYDlx4oRW\n",
    "hkpOTo4MHjxYXFxclGw8deZl0SxgtYyMDLGxsREA8umnnxabLXP9+nUZPny4+Pj4iIWFhVSvXl0C\n",
    "AwNlwoQJGtlUxSktCxiAktFa2vEsawLf+Ph4adWqlVhbW4utra08//zzcvjw4XKVUZLffvtNqWtC\n",
    "QoLGa9nZ2TJs2DBp0qSJODg4iI2NjTRo0EAmT55c5gSw6verflhaWoqrq6uEhYXJjBkzSpw24PTp\n",
    "08pUNBYWFuLu7i7PPfecxhQXJR1LdfasOnv36NGj0q1bN/H29hYrKyupUaOGhIWFydatWzW2Q5Es\n",
    "YBGR+fPni4+Pj5ibm2udhyIF2WYAZNiwYaUeh6J0+V9WZBZwSdmmv/zyizz//PNib28vrq6uMmrU\n",
    "KCVztmgWcGBgoNb2UVFRWtl7N27ckLfeektq1aolFhYW4ubmJp07d5Zz584p6yxbtkzq1asnVlZW\n",
    "4uvrK3PmzJElS5ZoZeT98ccf8vzzz4udnZ0A0NhXZmamjBs3TurXry+Wlpbi6OgoTZo0kdGjR2sc\n",
    "i5s3b0q/fv3E0dFRbG1tpX379pKcnKxTFvDhw4fl9ddfl8aNG4uTk5NUqVJFXF1dlWlhSvL6668L\n",
    "AHn55ZeLfV39f1E/zM3NxcnJSYKCgmT06NFa2YMiIqNGjZKAgACpVq2aWFtbi6+vr4wZM0Zu3bpV\n",
    "6nso7RzYv3+/hIWFSdWqVcXGxkbatGkju3fv1lhHnQX8008/lboftfz8fJk2bZry+WvUqJGsWbNG\n",
    "3n//fbGysipz+7y8PJk2bZp4enqKpaWlNG/eXPbs2VPsRNC6nAPqLODCsxyoubm5ydChQ0WkYIqq\n",
    "IUOGiL+/v9jb20vVqlWlYcOGMn36dK1pR/bt2yft27cXJycnsbS0lFq1aslLL72kMX1OcQpnxRZW\n",
    "0jEubuLgzZs3S+PGjcXa2lpq1aol48aNky1btmh9Zq9fvy7dunUTR0dHAaAc+9LOh6JZwMePHxcr\n",
    "KyvlGKndu3dPGjduLPXq1ZPMzMxyv9+idM0CVk+9tXDhQo3ly5YtkxYtWiif0erVq0uHDh2UTPDi\n",
    "6lTco/D5pT72JT3Ux3rbtm2iUqm0riXXrl2TmjVryjPPPKNMEdezZ0/x9fWVqlWrioWFhfj4+Mhb\n",
    "b71V7GTOUVFRJe67cJa2m5tbiesVd0xbtGihlYWuEnkMaTJERm7RokUYPnw4kpOTNZJmiIio4v3n\n",
    "P//B8ePHtVrkqGw///wz/P398e233+LZZ59VljMAJCrFyZMncf78eQwdOhRt2rR5pBuCExHRw7l8\n",
    "+TIaNGiAL774Qms6HSpdr169cOfOHWzbtk1jeZljAIlMWbdu3XD16lWEhoaWmHVIREQVy9PTE+vW\n",
    "rcPt27f1XZVKJScnBw0bNlTGsxbGFkAiIiIiE/PwE9AQERERUaXEAJCIiIjIxDAAJCIiIjIxTAKp\n",
    "APn5+bhy5Qrs7e3LddsdIiIi+peI4Pbt2/Dw8Hik26aRNgaAFaCkW0URERFR+V26dKlCbv1nyhgA\n",
    "VgB7e3sABSesg4ODnmtDRERUOWVmZsLLy0v5XqXHhwFgBVB3+zo4ODAAJCIiekQcTvX4sUOdiIiI\n",
    "yMQwACQiIiIyMQwAiYiIiEwMA0AiIiIiE8MAkIiIiMjEMAAkIiIiMjEMAImIiIhMDANAIiIiIhPD\n",
    "AJCIiIjIxDAAJCIiIjIxJhEALlmyBD4+PrC2tkZgYCAOHTpU4rpr1qyBSqXSemRnZz/BGhMRERFV\n",
    "HKMPAOPi4jBixAhMmDABJ0+eRGhoKDp06ICUlJQSt3FwcEBqaqrGw9ra+gnWmoiIiKjiGH0AOG/e\n",
    "PAwaNAiDBw9Gw4YNMX/+fHh5eWHp0qUlbqNSqeDu7q7xICIiIjIWRh0A3r9/H8ePH0dERITG8oiI\n",
    "CBw5cqTE7e7cuQNvb2/UqlULnTp1wsmTJyu6qkRERERPjFEHgDdu3EBeXh7c3Nw0lru5ueHq1avF\n",
    "buPn54c1a9Zg69at+Pzzz2FtbY02bdrg999/L3E/OTk5yMzM1HgQERERGSqjDgDVVCqVxnMR0Vqm\n",
    "FhwcjOjoaDRt2hShoaH48ssvUb9+fSxatKjE8mfOnAlHR0fl4eXl9Vjrr7bu2EW0+e9+rDt2sULK\n",
    "JyIiItNg1AGgs7MzzM3NtVr70tLStFoFS2JmZoYWLVqU2gI4btw4ZGRkKI9Lly49Ur1LsjTxHC6n\n",
    "Z2HylmQGgURERPTQjDoAtLS0RGBgIBISEjSWJyQkoHXr1jqVISI4deoUatasWeI6VlZWcHBw0HhU\n",
    "hNfb+sJcBeRJQTBIRERE9DCq6LsCFW3UqFHo06cPgoKCEBISghUrViAlJQXDhg0DAPTt2xeenp6Y\n",
    "OXMmAGDq1KkIDg5GvXr1kJmZiYULF+LUqVP45JNP9Pk2AADRwd4AgLl7zuJuzgOsO3ZRWUZERESk\n",
    "K6MPAKOionDz5k1MmzYNqamp8Pf3x86dO+HtXRA4paSkwMzs34bQ9PR0DBkyBFevXoWjoyOaN2+O\n",
    "gwcPomXLlvp6Cxqig701uoLVy4iIiIh0pRIR0XcljE1mZiYcHR2RkZFRId3B645dxOQtycgTwFwF\n",
    "TO3izyCQiIiMTkV/n5oyox4DaKyig70xtYs/VCgYDzh3z1l9V4mIiIgqEQaAlVR0sDccbSz0XQ0i\n",
    "IiKqhBgAVmJjIhug2j9BIKeFISIiIl0xAKzEooO9YWtVBelZuZwbkIiIiHTGALCSKzw3IINAIiIi\n",
    "0oXRTwNj7NTZv+qsYE4NQ0RERGVhC6ARUGcF8y4hREREpAsGgEZCHQRWs7FQ7hJCREREVBwGgEZE\n",
    "3e2bnpXLuQGJiIioRAwAjVRGVi5bAYmIiKhYDACNzJjIBjBXAQJmBRMREVHxGAAaGSaEEBERUVkY\n",
    "ABohJoQQERFRaRgAGineJYSIiIhKwgDQiPEuIURERFQcBoBGTN0VrEJBEMipYYiIiAhgAGj0ooO9\n",
    "4WhjAYBTwxAREVEBBoAmoPDUMMwKJiIiIgaAJoBZwURERFQYA0ATwaxgIiIiUmMAaEKYFUxEREQA\n",
    "UEXfFaAnJzrYG0BB8KcOAgsvJyIiItPAFkATw6lhiIiIiAGgCSo8NQwRERGZHgaAJmpMZANU+ycI\n",
    "5FhAIiIi08IA0EQxK5iIiMh0MQA0YcwKJiIiMk3MAjZhzAomIiIyTQwATRyDQCIiItPDLmDi1DBE\n",
    "REQmhgEgAdCcGiYjK5fjAYmIiIwYA0BSjIlsAHMVIACWJp7Td3WIiIiogjAAJIW6K7iajQXu5jxg\n",
    "KyAREZGRYgBIGjg/IBERkfFjAEhaOD8gERGRceM0MKSFU8MQEREZN7YAUrE4NQwREZHxYgBIJeLU\n",
    "MERERMaJASCVqvDUMBwPSEREZBwYAFKp1F3B6qQQzg9IRERU+TEApDJxfkAiIiLjwgCQdML5AYmI\n",
    "iIwHA0DSGecHJCIiMg4MAElnnBqGiIjIODAApHLh1DBERESVHwNAKjdODUNERFS58VZwVG68VRwR\n",
    "EVHlxgCQHgqDQCIiosqLASA9NAaBRERElRPHANIjYWYwERFR5cMAkB4ZM4OJiIgqFwaA9FgUzgzm\n",
    "/YKJiIgMGwNAeix4v2AiIqLKgwEgPTa8XzAREVHlwACQHiveL5iIiMjwcRoYeqw4NQwREZHhYwsg\n",
    "PXacGoaIiMiwMQCkCsGpYYiIiAwXA0CqMIWnhuF4QCIiIsNhEgHgkiVL4OPjA2trawQGBuLQoUM6\n",
    "bffFF19ApVKha9euFVxD46TuCmZSCBERkWEx+gAwLi4OI0aMwIQJE3Dy5EmEhoaiQ4cOSElJKXW7\n",
    "ixcvYsyYMQgNDX1CNTVODAKJiIgMj9EHgPPmzcOgQYMwePBgNGzYEPPnz4eXlxeWLl1a4jZ5eXno\n",
    "3bs3pk6dirp16z7B2honBoFERESGxagDwPv37+P48eOIiIjQWB4REYEjR46UuN20adPg4uKCQYMG\n",
    "VXQVTQYzg4mIiAyHUQeAN27cQF5eHtzc3DSWu7m54erVq8Vuc/jwYaxatQqffvqpzvvJyclBZmam\n",
    "xoO0MTOYiIjIMBh1AKimUqk0nouI1jIAuH37NqKjo/Hpp5/C2dlZ5/JnzpwJR0dH5eHl5fXIdTZW\n",
    "zAwmIiLSP6O+E4izszPMzc21WvvS0tK0WgUB4Ny5c7hw4QJeeuklZVl+fj4AoEqVKjh79ix8fX21\n",
    "ths3bhxGjRqlPM/MzGQQWALeKYSIiEj/jDoAtLS0RGBgIBISEtCtWzdleUJCArp06aK1vp+fH376\n",
    "6SeNZRMnTsTt27exYMGCEoM6KysrWFlZPd7KGzEGgURERPpl1AEgAIwaNQp9+vRBUFAQQkJCsGLF\n",
    "CqSkpGDYsGEAgL59+8LT0xMzZ86EtbU1/P39NbavVq0aAGgtp0fDIJCIiEh/jD4AjIqKws2bNzFt\n",
    "2jSkpqbC398fO3fuhLd3QaCRkpICMzOTGAppcNTB3qT4ZCUzmAEgERFRxVOJiOi7EsYmMzMTjo6O\n",
    "yMjIgIODg76rY/CaTd2L9KxcqABM7+rPIJCIiADw+7QisemL9I6ZwURERE+W0XcBk+HjeEAiIqIn\n",
    "iy2AZBCK3i5uaeI5fVeJiIjIaDEAJIOhDgKr2Vjgbs4DdgUTERFVEAaAZFCig71ha1UF6Vm5HA9I\n",
    "RERUQRgAksF5va0vVIAyNQwRERE9XgwAyeBEB3vD0cYCAJCRlctWQCIioseMASAZJE4NQ0REVHE4\n",
    "DQwZJE4NQ0REVHEYAJLBYhBIRERUMRgAkkFjEEhERPT4cQwgGTz1/IDMDCYiIno8GABSpcDMYCIi\n",
    "oseHASBVGswMJiIiejw4BpAqDY4HJCIiejwYAFKlwiCQiIjo0TEApEqHQSAREdGjYQBIlZI62JsU\n",
    "XxAETopnEEhERKQrJoFQpVU4M5iJIURERLpjAEiV2pjIBqhmY6HMEcggkIiIqGwMAKlSiw72xqnJ\n",
    "EZje1R/mKgaBREREuuAYQDIKTAwhIiLSHVsAyWjwlnFERES6YQBIRoW3jCMiIiobA0AyOrxlHBER\n",
    "Uek4BpCMDscDEhERlY4BIBklBoFEREQlYxcwGS0mhRARERWPASAZNSaFEBERaWMASEaPSSFERESa\n",
    "OAaQjB7HAxIREWliAEgmgUEgERHRvxgAkslgEEhERFSAYwDJpDAzmIiIiAEgmSBmBhMRkaljAEgm\n",
    "iZnBRERkyjgGkEwSxwMSEZEpYwBIJotBIBERmSoGgGTSGAQSEZEp4hhAMnnMDCYiIlPDAJAIzAwm\n",
    "IiLTwgCQ6B+FM4MnxSej2dS9DASJiMgocQwg0T+KjgdMz8rlmEAiIjJKDACJClEHenP3nEVGVi4T\n",
    "Q4iIyCixC5ioiOhgb5yaHIHpXZkYQkRExokBIFEJmBhCRETGigEgUSl4yzgiIjJGHANIVApOFE1E\n",
    "RMaIASBRGRgEEhGRsWEASKQDBoFERGRMOAaQSEe8ZRwRERkLBoBE5cDMYCIiMgYGFwDm5uYiPDwc\n",
    "v/32m76rQlQs3jKOiIgqO4MbA2hhYYHk5GSoVCp9V4WoWLxlHBERVXYG1wIIAH379sWqVav0XQ2i\n",
    "EqnHA1azsVDGBHKeQCIiqiwMrgUQAO7fv4+VK1ciISEBQUFBsLW11Xh93rx5eqoZ0b+ig70RHeyN\n",
    "dccuYlJ8spIYwlZAIiIydAYZACYnJyMgIAAAtMYCsmuYDE10sDfm7jmL9KxcJTGEQSARERkygwwA\n",
    "Dxw4oO8qEJXLmMgGnCOQiIgqDYMMAAv766+/oFKp4Onpqe+qEJWIE0UTEVFlYpBJIPn5+Zg2bRoc\n",
    "HR3h7e2N2rVro1q1apg+fTry8/PLXd6SJUvg4+MDa2trBAYG4tChQyWuu3nzZgQFBaFatWqwtbVF\n",
    "s2bN8Nlnnz3K2yEToU4MMVcxKYSIiAybQbYATpgwAatWrcJ///tftGnTBiKCw4cPY8qUKcjOzkZM\n",
    "TIzOZcXFxWHEiBFYsmQJ2rRpg+XLl6NDhw745ZdfULt2ba31q1evjgkTJsDPzw+WlpbYvn07BgwY\n",
    "AFdXV0RGRj7Ot0lGqGhL4MT4ZPzv/C0s7NVczzUjIiL6l0pERN+VKMrDwwPLli1D586dNZZv2bIF\n",
    "b7zxBi5fvqxzWa1atUJAQACWLl2qLGvYsCG6du2KmTNn6lRGQEAAOnbsiOnTp+u0fmZmJhwdHZGR\n",
    "kQEHBwed60rGY92xi5gYn6w8/7CrP7uDiYjKid+nFccgu4Bv3boFPz8/reV+fn64deuWzuXcv38f\n",
    "x48fR0REhMbyiIgIHDlypMztRQT79u3D2bNn8eyzz+q8X6LoYG90buqhPGd3MBERGRKDDACbNm2K\n",
    "xYsXay1fvHgxmjZtqnM5N27cQF5eHtzc3DSWu7m54erVqyVul5GRATs7O1haWqJjx45YtGgRXnjh\n",
    "hRLXz8nJQWZmpsaDaGGv5viwK8cEEhGR4THIMYCzZ89Gx44d8c033yAkJAQqlQpHjhzBpUuXsHPn\n",
    "znKXV3TuQBEpdT5Be3t7nDp1Cnfu3MG+ffswatQo1K1bF23bti12/ZkzZ2Lq1KnlrhcZP2YHExGR\n",
    "ITLIFsCwsDD89ttv6NatG9LT03Hr1i28/PLLOHv2LEJDQ3Uux9nZGebm5lqtfWlpaVqtgoWZmZnh\n",
    "qaeeQrNmzTB69Gj06NGj1PGC48aNQ0ZGhvK4dOmSznUk48fsYCIiMjQG1wL44MEDxMTEYODAgeXK\n",
    "9i2OpaUlAgMDkZCQgG7duinLExIS0KVLF53LERHk5OSU+LqVlRWsrKweqa5k3NQtfrxlHBERGQKD\n",
    "awGsUqUK5syZg7y8vMdS3qhRo7By5UqsXr0av/76K0aOHImUlBQMGzYMANC3b1+MGzdOWX/mzJlI\n",
    "SEjAn3/+iTNnzmDevHlYu3YtoqOjH0t9yHRFB3vD0cYCAJRbxhEREemDwbUAAkC7du2QmJiI/v37\n",
    "P3JZUVFRuHnzJqZNm4bU1FT4+/tj586d8PYuaH1JSUmBmdm/cfDdu3fxxhtv4K+//oKNjQ38/Pyw\n",
    "bt06REVFPXJdiArfMm5SfDLm7jmLMZEN2BpIRERPlEHOA7h8+XJMmTIFvXv3RmBgIGxtbTVeLzo/\n",
    "oKHhvEVUmnXHLipBIACYq4CpXThPIBFRUfw+rTgGGQAWbpErSqVSPbbu4YrCE5bKsu7YRczdcxYZ\n",
    "WbkQMAgkIioOv08rjsGNAQQK7gVc0sPQgz8iXUQHe+PU5AhM7+oPFaAkhhARET0JBhcA5ubmIjw8\n",
    "HL/99pu+q0JU4ZgYQkRE+mBwAaCFhQWSk5NLnaiZyJiMiWwAcxUg4ByBRET0ZBhcAAgUTM2yatUq\n",
    "fVeD6IkoOlH0pPhkNJu6l4EgERFVGIOcBub+/ftYuXIlEhISEBQUpJUFPG/ePD3VjKhiFL1lXHpW\n",
    "Lm8bR0REFcYgA8Dk5GQEBAQAgNZYQHYNk7FSB3pz95xFelYu7xhCREQVxiCngansmLZOj6rZ1L1I\n",
    "z8qFCsD0rpwehohME79PK45BjgEsTVpamr6rQFThmBhCREQVyaACwKpVq+L69evK8/bt2yM1NVV5\n",
    "fu3aNdSsWVMfVSN6ooomhjAIJCKix8mgAsDs7GwU7pE+fPgwsrKyNNZhjzWZCmYHExFRRTGoAFAX\n",
    "TAIhU1I4CBQUZAfzjiFERPSoKl0ASGRq1EGg+qcP7xhCRESPyqACQJVKpdHCV/Q5kamKDvbG9K7+\n",
    "TAwhIqLHwqDmARQR1K9fXwn67ty5g+bNm8PMzEx5nchUFZ0smhNFExHRwzKoADA2NlbfVSAyaAwC\n",
    "iYjoceBE0BWAE1dSRVt37KISBAJA56YeWNiruX4rRUT0mPH7tOIY1BhAItKNOjFEbevpKxwTSERE\n",
    "OmMASFRJRQd7o3NTD+U5E0OIiEhXDACJKrGFvZrjw668YwgREZWPQSWBEFH5MTGEiIjKy6BbAO/f\n",
    "v4+zZ8/iwYMH+q4KkUEretu4ifHJGP75SX1Xi4iIDJRBBoD37t3DoEGDULVqVTRq1AgpKSkAgOHD\n",
    "h+O///2vnmtHZJiYGEJERLoyyABw3LhxOH36NBITE2Ftba0sb9euHeLi4vRYMyLDxsQQIiLShUEG\n",
    "gPHx8Vi8eDGeeeYZjVvBPf300zh37pwea0Zk+JgYQkREZTHIJJDr16/D1dVVa/ndu3d5b2AiHTAx\n",
    "hIiISmOQLYAtWrTAjh07lOfqoO/TTz9FSEiIvqpFVKkwMYSIiEpikC2AM2fORPv27fHLL7/gwYMH\n",
    "WLBgAX7++WccPXoU3377rb6rR1RpqFv8JsYXtABuPX0FLX2qsyWQiMjEGWQLYOvWrXH48GHcu3cP\n",
    "vr6+2Lt3L9zc3HD06FEEBgbqu3pElQoTQ4iIqCiViIi+K2FsePNqMkTrjl1UxgSaq4CpXfzZEkhE\n",
    "Bo3fpxXHIFsAw8PDsWrVKmRkZOi7KkRGo+iYwEnxyWg2dS9bA4mITJBBBoCNGzfGxIkT4e7uju7d\n",
    "uyM+Ph7379/Xd7WIKr3CQaAASM/Kxdw9Z/VdLSIiesIMMgBcuHAhLl++jC1btsDe3h79+vWDu7s7\n",
    "hgwZwiQQokekDgLVEyplZOWyFZCIyMRUijGA2dnZ2LZtG2JiYvDTTz8hLy9P31UqFccsUGXAMYFE\n",
    "ZOj4fVpxDLIFsLCrV69i2bJlmDVrFn788UcEBQXpu0pERoFjAomITJdBBoCZmZmIjY3FCy+8AC8v\n",
    "LyxduhQvvfQSfvvtN3z//ff6rh6R0ShuTCCniSEiMn4GORG0m5sbnJyc0LNnT8yYMQMtWrTQd5WI\n",
    "jJa623funrNIz8pFnhT8ze5gIiLjZZAB4JYtW9CuXTuYmRlkAyWR0YkO9kZ0sDeaTd2L9KxcJTGE\n",
    "QSARkXEyyAgrIiKCwR+RHoyJbKB0B3NMIBGR8TKYFsCAgADs27cPTk5OaN68OVQqVYnrnjhx4gnW\n",
    "jMh0qFv81NnB6jGBhV8jIqLKz2ACwC5dusDKykr5u7QAkIgqTuExgRn/jAlkEEhEZFwqxTyAlQ3n\n",
    "LSJjse7YRUyKT4YAqGZjgVOTI/RdJSIyIfw+rTgGOdCubt26uHnzptby9PR01K1bVw81IjJN0cHe\n",
    "cLSxAFDQHcwxgURExsEgA8ALFy4Ue7ePnJwc/PXXX3qoEZHpUieGAJwnkIjIWBjMGEAA2Lp1q/L3\n",
    "nj174OjoqDzPy8vDvn374OPjo4+qEZksjgkkIjI+BjUGUD31i0qlQtFqWVhYoE6dOvjoo4/QqVMn\n",
    "fVRPZxyzQMaK9w8moieJ36cVx6BaAPPz8wEAPj4+SEpKgrOzs55rRESFqYO9SfHJyv2DCy8nIqLK\n",
    "wSDHAJ4/f57BH5GBKpwYIgDHBBIRVUIG1QJY2N27d/Htt98iJSUF9+/f13ht+PDheqoVEQEFiSEc\n",
    "E0hEVHkZ1BhAtZMnT+LFF1/EvXv3cPfuXVSvXh03btxA1apV4erqij///FPfVSwVxyyQqSg8JhAA\n",
    "Ojf1wMJezfVbKSIyGvw+rTgG2QU8cuRIvPTSS7h16xZsbGxw7NgxXLx4EYGBgZg7d66+q0dE/4gO\n",
    "9sbULv7K862nr7A7mIioEjDIAPDUqVMYPXo0zM3NYW5ujpycHHh5eWH27NkYP368vqtHRIVEB3uj\n",
    "c1MP5TnHBBIRGT6DDAAtLCyUewG7ubkhJSUFAODo6Kj8TUSGY2Gv5viwqz/MVVDGBDIIJCIyXAYZ\n",
    "ADZv3hw//PADACA8PBwffPAB1q9fjxEjRqBx48Z6rh0RFUfdHawOAifFJ/PWcUREBsogA8AZM2ag\n",
    "Zs2aAIDp06ejRo0aeP3115GWloYVK1bouXZEVJLCQaCg4NZxc/ec1Xe1iIioCIPMAq7smLVEpm7d\n",
    "sYuYFJ8MAaACML0r7xhCROXH79OKY5AtgERUuUUHe2N6139bAtkdTERkWAxmIujmzZsriR9lOXHi\n",
    "RAXXhogelbrFTz1PYHpWLieMJiIyEAYTAHbt2lXfVSCix0wd6PGuIUREhsUkxgAuWbIEc+bMQWpq\n",
    "Kho1aoT58+cjNDS02M2c0jEAACAASURBVHU//fRTrF27FsnJBV9SgYGBmDFjBlq2bKnz/jhmgUgb\n",
    "xwUSUXnx+7TiGOwYwPT0dKxcuRLjxo3DrVu3ABR0/V6+fLlc5cTFxWHEiBGYMGECTp48idDQUHTo\n",
    "0KHE+QQTExPRq1cvHDhwAEePHkXt2rURERFR7v0SkaboYG842lgAKBgXyLkCiYj0xyBbAH/88Ue0\n",
    "a9cOjo6OuHDhAs6ePYu6deti0qRJuHjxItauXatzWa1atUJAQACWLl2qLGvYsCG6du2KmTNnlrl9\n",
    "Xl4enJycsHjxYvTt21enffIXC1Hx1h27qHQHCwBzFTC1C1sCiah4/D6tOAbZAjhq1Cj0798fv//+\n",
    "O6ytrZXlHTp0wMGDB3Uu5/79+zh+/DgiIiI0lkdERODIkSM6lXHv3j3k5uaievXqOu+XiIoXHeyN\n",
    "U5MjlAxhThhNRKQfBhkAJiUlYejQoVrLPT09cfXqVZ3LuXHjBvLy8uDm5qax3M3NTedyxo4dC09P\n",
    "T7Rr167EdXJycpCZmanxIKKSccJoIiL9MsgA0Nrautgg6uzZs3BxcSl3eUWnlxERnaacmT17Nj7/\n",
    "/HNs3rxZoyWyqJkzZ8LR0VF5eHl5lbuORKZGHQSqP4kZWblsBSQiekIMMgDs0qULpk2bhtzcXAAF\n",
    "AVxKSgrGjh2L7t2761yOs7MzzM3NtVr70tLStFoFi5o7dy5mzJiBvXv3okmTJqWuO27cOGRkZCiP\n",
    "S5cu6VxHIlPGCaOJiPTDIAPAuXPn4vr163B1dUVWVhbCwsLw1FNPwd7eHjExMTqXY2lpicDAQCQk\n",
    "JGgsT0hIQOvWrUvcbs6cOZg+fTp2796NoKCgMvdjZWUFBwcHjQcR6aa47mBmCBMRVSyDmQi6MAcH\n",
    "B3z33XfYv38/Tpw4gfz8fAQEBJQ6Dq8ko0aNQp8+fRAUFISQkBCsWLECKSkpGDZsGACgb9++8PT0\n",
    "VDKCZ8+ejUmTJmHDhg2oU6eO0npoZ2cHOzu7x/cmiUjBCaOJiJ4sg5wGpjSXL1+Gp6dnubZZsmQJ\n",
    "Zs+ejdTUVPj7++Pjjz/Gs88+CwBo27Yt6tSpgzVr1gAA6tSpg4sXtVseJk+ejClTpui0P6atEz08\n",
    "ThhNRGr8Pq04lSYAvHr1KmJiYrBy5UpkZWXpuzql4glL9GiaTd2L9KyCMcCcK5DIdPH7tOIY1BjA\n",
    "9PR09O7dGy4uLvDw8MDChQuRn5+PDz74AHXr1sWxY8ewevVqfVeTiCrYmMgGqGZjARU4VyARUUUw\n",
    "qBbAN954A9u2bUNUVBR2796NX3/9FZGRkcjOzsbkyZMRFham7yrqhL9YiB6PdccuYvKWZOT9c5Vi\n",
    "ayCRaeH3acUxqBbAHTt2IDY2FnPnzsXWrVshIqhfvz72799faYI/Inp81BnC1f65h3CegBNGExE9\n",
    "BgYVAF65cgVPP/00AKBu3bqwtrbG4MGD9VwrItIn9e3j1EFgelYuu4OJiB6RQQWA+fn5sLCwUJ6b\n",
    "m5vD1tZWjzUiIkMxJrIBzP+5bQjnCiQiejQGNQ+giKB///6wsrICAGRnZ2PYsGFaQeDmzZv1UT0i\n",
    "0iPOFUhE9PgYVBLIgAEDdFovNja2gmvyaDholahiFU0O6dzUAwt7NddvpYjoseP3acUxqBZAQw/s\n",
    "iMgwqFv8JsYXtABuPX0FLX2qsyWQiEhHBjUGkIhIV9HB3ujc1EN5zrkCiYh0xwCQiCqthb2a48Ou\n",
    "/jBXAQImhxAR6cqguoCJiMqLySFEROXHFkAiqvTUcwVO7+qvcfs4tgQSERWPASARGY3oYG84/jNh\n",
    "tADsDiYiKgEDQCIyKmMiG6CajYVGSyCTQ4iINDEAJCKjUrg7mMkhRETFYwBIREYpOtgbU7v4K/cQ\n",
    "zpOCRBEiImIASERGTN0aqA4C07Ny2R1MRAQGgERkAsZENoC5quBvdgcTETEAJCITULg7mMkhREQM\n",
    "AInIRJSUHMJxgURkihgAEpFJUbcG/tMjzHGBRGSSGAASkcmJDvZWWgIBjgskItPDAJCITBLHBRKR\n",
    "KWMASEQmi+MCichUMQAkIpPHcYFEZGoYABIRgeMCici0MAAkIvoHxwUSkalgAEhEVAjHBRKRKWAA\n",
    "SERUDI4LJCJjxgCQiKgEHBdI9P/t3Xt01MX9//HX5o4IARWScEsiagChFIJCwAAKBBCsKT0aOIcI\n",
    "4qW2tRrQ0wOCgl/7LZeiCCpYlYstGlEgwE8BSTUJKhctJ1AilCoCoZKUYpVE0CSQ+f3hd9cs2Vw2\n",
    "2U/29nyckwM7mf3sTGZ2570zn898EKgIAAGgHpwXCCAQEQACQAM4LxBAoCEABIBG4rxAAIGCABAA\n",
    "3MB5gQACAQEgALiJ8wIB+DsCQABoAs4LBODPCAABoBk4LxCAPyIABIBm4rxAAP6GABAAPIDzAgH4\n",
    "EwJAAPAQzgsE4C8IAAHAwzgvEICvIwAEAAu4Oi+QJWEAviLM2wUAgEA1eVC8JGnxu0d09rsqx5Lw\n",
    "3M1FTr8HgJbGDCAAWKjmeYHtWoVL+vECEWYCAXgLASAAtAB7IGgPAo3EVjEAvIYAEABa0KOjk9gq\n",
    "BoDX2YwxxtuFCDRlZWWKjo7W2bNn1bZtW28XB4APWrvnhOZuLtLFGp/AP+vbScsm9fNeoQAfw3hq\n",
    "HWYAAcALam4cbbflwClmAgG0CGYALcA3FgDueCi7UFsOnJIk2SRFtwrXo6OTuEoYQY/x1DrMAAKA\n",
    "ly2b1E+/v+TuIVwgAsBKBIAA4ANc3Ut4zqYiPZRd6O2iAQhALAFbgClrAM2xds8JzdlU5HjcjiVh\n",
    "BCnGU+swAwgAPmbyoHj9rG8nx2OWhAF4GgEgAPgg+3mB7BkIwAoEgADgo2reRq7mBSLcRg5Ac4V5\n",
    "uwAAgPrZz/17fFORjH68jVzN3wGAO5gBBAA/MHlQvJ5iSRiAhxAAAoCfYEkYgKewBAwAfoYlYQDN\n",
    "xQwgAPghloQBNEdQBIDLly9XYmKioqKilJycrA8++KDOvJ9++ql+8YtfKCEhQTabTc8++2wLlhQA\n",
    "Gq+uJWHuIAKgIQEfAK5bt05ZWVmaPXu2CgsLlZqaqrFjx6q4uNhl/vPnz+vqq6/WggULFBsb28Kl\n",
    "BQD31byNnN2WA6eYCQRQp4C/FdzAgQPVv39/rVixwpHWs2dPpaena/78+fU+NyEhQVlZWcrKynLr\n",
    "Nbl1DQBveSi7UFsOnJIk2SRFcxs5+DHGU+sE9AxgZWWl9u3bp7S0NKf0tLQ07dq1y2OvU1FRobKy\n",
    "MqcfAPAG+x1ELr1KmHMDAdQU0AHgmTNndPHiRcXExDilx8TEqLS01GOvM3/+fEVHRzt+unbt6rFj\n",
    "A4C7ai4J28R2MQBqC+gA0M5mszk9NsbUSmuOWbNm6ezZs46fkydPeuzYANAUNS8QsX/aGXGlMIAf\n",
    "BPQ+gFdddZVCQ0NrzfadPn261qxgc0RGRioyMtJjxwMAT7Gf+7f43SM6+12VYzaQfQOB4BbQM4AR\n",
    "ERFKTk5Wbm6uU3pubq4GDx7spVIBQMuqORtYc99AtosBgldAB4CSNGPGDL3yyitatWqVDh8+rOnT\n",
    "p6u4uFgPPPCAJOmuu+7SrFmzHPkrKyu1f/9+7d+/X5WVlfryyy+1f/9+ff75596qAgB4RM1A0G7L\n",
    "gVMsCQNBKOC3gZF+2Ah60aJFKikpUe/evbVkyRINHTpUkjR8+HAlJCRozZo1kqTjx48rMTGx1jGG\n",
    "DRum/Pz8Rr0el60D8HU1t4uR2DIGvonx1DpBEQC2NDosAH+wds8Jp3MDJSnUJj15e2+CQPgExlPr\n",
    "BPwSMADAtUvPDZR+vKcwS8JAYGMG0AJ8YwHgj3765A59812VJJaE4RsYT63DDCAAQJL06Ogkl5tH\n",
    "c5EIEHgIAAEAklxvF8NdRIDAxBKwBZiyBhAI1u45occ3FTkuEGFZGC2N8dQ6AX0nEABA03EXESBw\n",
    "MQNoAb6xAAg0rraM+VnfTlo2qZ9Xy4XAxnhqHQJAC9BhAQSqtXtOaM6mIsfjdiwJw0KMp9bhIhAA\n",
    "QKNNHhSvn/Xt5HjMlcKAfyIABAC4Zdmkfvq9iyuF52wq0kPZhd4uHoBGYAnYAkxZAwgW9nMD7RtI\n",
    "SywLw3MYT61DAGgBOiyAYPNQdqG2HDjleMyWMfAExlPrsAQMAGg2loUB/8IMoAX4xgIgmLEsDE9h\n",
    "PLUOAaAF6LAAwLIwmo/x1DosAQMALMGyMOC7mAG0AN9YAMAZy8JoCsZT6xAAWoAOCwCusSwMdzCe\n",
    "WoclYABAi2FZGPANzABagG8sANAwloXREMZT6xAAWoAOCwCNx7Iw6sJ4ah2WgAEAXsWyMNDymAG0\n",
    "AN9YAKBpWBZGTYyn1iEAtAAdFgCah2VhSIynViIAtAAdFgCazz4bePa7KtUcqFqFh2r2uJ4EgkGA\n",
    "8dQ6BIAWoMMCgOe4WhZmRjA4MJ5ahwDQAnRYAPC8h7IL9f8OnHKaDSQQDGyMp9bhKmAAgF9YNqmf\n",
    "ji0Y5/KK4cc3FWntnhPeLiLgN5gBtADfWADAemv3nNDjm4ocM4LMBgYexlPrEABagA4LAC2jrgtF\n",
    "bJJu69tJyyb181bR4AGMp9YhALQAHRYAWlZdgSB7CPo3xlPrEABagA4LAN6xds8J/e87h/RdVbUj\n",
    "jaVh/8V4ah0CQAvQYQHAu9hDMDAwnlqHANACdFgA8A3sIejfGE+tQwBoATosAPgW9hD0T4yn1iEA\n",
    "tAAdFgB8ExeL+BfGU+sQAFqADgsAvu3SPQQlZgR9EeOpdbgTCAAg6EweFK+n/u+OIq3CQ5zuKjJn\n",
    "U5F6Pr6dO4sgoDEDaAG+sQCAf+FiEd/EeGodAkAL0GEBwD+5ulhEYvsYb2E8tQ4BoAXosADg35gR\n",
    "9A2Mp9YhALQAHRYAAkNdM4Lca7hlMJ5ahwDQAnRYAAgsdd9ZJESRYaHMClqE8dQ6BIAWoMMCQGBy\n",
    "da9hieVhqzCeWocA0AJ0WAAIbPYZwYoLF/V9VTWbSluE8dQ6BIAWoMMCQPCoa1PpKJaHm43x1Dps\n",
    "BA0AQDPUtan0d1XVjo2lf/rkDjaWhk9hBtACfGMBgODlagsZiVnBpmA8tQ4zgAAAeNDkQfHaPzdN\n",
    "v69nVvDxTUXMCMKrmAG0AN9YAAA11bWxNDOC9WM8tQ4BoAXosAAAV+raT1CSwkNsah0ZRjBYA+Op\n",
    "dQgALUCHBQDUp+Y2Mq72FGRm8AeMp9YhALQAHRYA0Fj2282Fhdh0odrUmhkM5n0FGU+tQwBoATos\n",
    "AKApuILYGeOpdQgALUCHBQA0R313GpGC5x7EjKfWIQC0AB0WAOApdc0K1tQqPFSzx/UMuGCQ8dQ6\n",
    "BIAWoMMCADyt5qygpFozg/ZlYkkBMzvIeGodAkAL0GEBAFZbu+eE/vedQ7WuIq7J35eKGU+tQwBo\n",
    "ATosAKAl1betTE3+ttcg46l1guJWcMuXL1diYqKioqKUnJysDz74oN78GzZsUK9evRQZGalevXop\n",
    "JyenhUoKAID77LefO/zUWKdb0NlvQ2dXVW0ct6K79rGtSpj5jno+vp3b0gWhgJ8BXLdunTIzM7V8\n",
    "+XINGTJEf/rTn/TKK6/o0KFD6tatW638u3fvVmpqqp566in9/Oc/V05Ojp544gl9+OGHGjhwYKNe\n",
    "k28sAABfUXOpOLyOvQbt5w9euGhUVW185qISxlPrBHwAOHDgQPXv318rVqxwpPXs2VPp6emaP39+\n",
    "rfwZGRkqKyvTtm3bHGljxoxR+/btlZ2d3ajXpMMCAHyVfbn4XMUFVVXXHQJcGhR6Y/mY8dQ6Yd4u\n",
    "gJUqKyu1b98+zZw50yk9LS1Nu3btcvmc3bt3a/r06U5po0eP1rPPPlvn61RUVKiiosLxuKysrBml\n",
    "dm3tnhNakX9Uvxre3evfyAAA/mvyoHincaTm+YP2YE+SjOR0PmHN5eMnt3zqCArDQn9cZPbnC06C\n",
    "TUAHgGfOnNHFixcVExPjlB4TE6PS0lKXzyktLXUrvyTNnz9fTz75ZPMLXI8V+Uf15TffaUX+Ud5Y\n",
    "AACPuTQglFwHhTWXj+1BYlW1cZpF/K6qmnHKTwR0AGhns9mcHhtjaqU1J/+sWbM0Y8YMx+OysjJ1\n",
    "7dq1iaV17VfDuztmAAEAsJKroFCqvXzsagaQcco/BHQAeNVVVyk0NLTW7N3p06drzfLZxcbGupVf\n",
    "kiIjIxUZGdn8AtejrjcjAAAthbEocAT0NjARERFKTk5Wbm6uU3pubq4GDx7s8jkpKSm18u/YsaPO\n",
    "/AAAAP4moGcAJWnGjBnKzMzUgAEDlJKSopdeeknFxcV64IEHJEl33XWXOnfu7Lgi+OGHH9bQoUO1\n",
    "cOFC3X777dq8ebP++te/6sMPP/RmNQAAADwm4APAjIwMffXVV/qf//kflZSUqHfv3tq6davi43+Y\n",
    "wi4uLlZIyI8ToYMHD9Ybb7yhOXPm6PHHH1f37t21bt26Ru8BCAAA4OsCfh9Ab2DfIgAAmo/x1DoB\n",
    "fQ4gAAAAaiMABAAACDIEgAAAAEGGABAAACDIEAACAAAEGQJAAACAIEMACAAAEGQIAAEAAIIMASAA\n",
    "AECQIQAEAAAIMgSAAAAAQSbM2wUIRPbbK5eVlXm5JAAA+C/7OGofV+E5BIAWKC8vlyR17drVyyUB\n",
    "AMD/lZeXKzo62tvFCCg2Q1jtcdXV1Tp16pTatGkjm83mkWOWlZWpa9euOnnypNq2beuRY/qCQKwX\n",
    "dfIPgVgnKTDrRZ38gxV1MsaovLxcnTp1UkgIZ615EjOAFggJCVGXLl0sOXbbtm0D5sOipkCsF3Xy\n",
    "D4FYJykw60Wd/IOn68TMnzUIpwEAAIIMASAAAECQCZ03b948bxcCjRMaGqrhw4crLCywVu4DsV7U\n",
    "yT8EYp2kwKwXdfIPgVinQMVFIAAAAEGGJWAAAIAgQwAIAAAQZAgAAQAAggwBoBctX75ciYmJioqK\n",
    "UnJysj744IN682/YsEG9evVSZGSkevXqpZycHKffG2M0b948derUSa1atdLw4cP16aefWlmFWtyp\n",
    "08svv6zU1FS1b99e7du318iRI/Xxxx875Zk6dapsNpvTz6BBg6yuhhN36rRmzZpa5bXZbPr++++b\n",
    "fEyruFOG4cOHu6zXuHHjHHm83VY7d+7Ubbfdpk6dOslms2nTpk0NPqegoEDJycmKiorS1VdfrRdf\n",
    "fLFWHm+2lbt12rhxo0aNGqUOHTqobdu2SklJ0bvvvuuUZ968ebXaKTY21spqOHG3Tvn5+S773j/+\n",
    "8Q+nfA19PlrJ3Tq5eq/YbDZdf/31jjzebqf58+frhhtuUJs2bdSxY0elp6fryJEjDT7PH8Yp/IAA\n",
    "0EvWrVunrKwszZ49W4WFhUpNTdXYsWNVXFzsMv/u3buVkZGhzMxMHThwQJmZmbrzzju1d+9eR55F\n",
    "ixbpmWee0fPPP69PPvlEsbGxGjVqlOPWdL5Wp/z8fE2aNEl5eXnavXu3unXrprS0NH355ZdO+caM\n",
    "GaOSkhLHz9atW1uiOpLcr5P0wyaoNctbUlKiqKioZh3T09wtw8aNG53qU1RUpNDQUN1xxx1O+bzZ\n",
    "VufOnVPfvn31/PPPNyr/sWPHdOuttyo1NVWFhYV67LHH9NBDD2nDhg2OPN5uK3frtHPnTo0aNUpb\n",
    "t27Vvn37dPPNN+u2225TYWGhU77rr7/eqZ0OHjxoRfFdcrdOdkeOHHEq87XXXuv4XWM+H63kbp2W\n",
    "Ll3qVJeTJ0/qiiuuqPV+8mY7FRQU6De/+Y327Nmj3NxcXbhwQWlpaTp37lydz/GHcQo1GHjFjTfe\n",
    "aB544AGntB49epiZM2e6zH/nnXeaMWPGOKWNHj3aTJw40RhjTHV1tYmNjTULFixw/P7777830dHR\n",
    "5sUXX/Rw6V1zt06XunDhgmnTpo159dVXHWlTpkwxt99+u0fL6Q5367R69WoTHR3t0WNaobllWLJk\n",
    "iWnTpo359ttvHWnebquaJJmcnJx68/zud78zPXr0cEr75S9/aQYNGuR47AttZdeYOrnSq1cv8+ST\n",
    "Tzoez5071/Tt29eTRWuyxtQpLy/PSDJff/11nXka+nxsSU1pp5ycHGOz2czx48cdab7UTsYYc/r0\n",
    "aSPJFBQU1JnHH8Yp/IgZQC+orKzUvn37lJaW5pSelpamXbt2uXzO7t27a+UfPXq0I/+xY8dUWlrq\n",
    "lCcyMlLDhg2r85ie1JQ6Xer8+fOqqqrSFVdc4ZSen5+vjh076rrrrtN9992n06dPe6zc9Wlqnb79\n",
    "9lvFx8erS5cuGj9+vNPsiyf+Ts3liTKsXLlSEydOVOvWrZ3SvdVWTVHXe+pvf/ubqqqqfKKtmqu6\n",
    "ulrl5eW13lOfffaZOnXqpMTERE2cOFFffPGFl0rYeP369VNcXJxGjBihvLw8p9819Pno61auXKmR\n",
    "I0cqPj7eKd2X2uns2bOSVKsv1eTr4xScEQB6wZkzZ3Tx4kXFxMQ4pcfExKi0tNTlc0pLS+vNb//X\n",
    "nWN6UlPqdKmZM2eqc+fOGjlypCNt7Nixeu211/T+++/r6aef1ieffKJbbrlFFRUVHi2/K02pU48e\n",
    "PbRmzRpt2bJF2dnZioqK0pAhQ/TZZ581+Zie1twyfPzxxyoqKtK9997rlO7NtmqKut5TFy5c0Jkz\n",
    "Z3yirZrr6aef1rlz53TnnXc60gYOHKg///nPevfdd/Xyyy+rtLRUgwcP1ldffeXFktYtLi5OL730\n",
    "kjZs2KCNGzcqKSlJI0aM0M6dOx15Gvp89GUlJSXatm1brfeTL7WTMUYzZszQTTfdpN69e9eZz9fH\n",
    "KThjq24vstlsTo+NMbXS3M3v7jE9ramvv2jRImVnZys/P9/pfLmMjAzH/3v37q0BAwYoPj5e77zz\n",
    "jiZMmOC5gtfDnToNGjTI6cKHIUOGqH///nruuee0bNmyJh3TKk0tw8qVK9W7d2/deOONTum+0Fbu\n",
    "cvU3sKfX/P+leVq6rZoiOztb8+bN0+bNm9WxY0dH+tixYx3/79Onj1JSUtS9e3e9+uqrmjFjhjeK\n",
    "Wq+kpCQlJSU5HqekpOjkyZNavHixhg4d6kj313Zas2aN2rVrp/T0dKd0X2qnBx98UH//+9/14Ycf\n",
    "NpjXH8Yp/IAZQC+46qqrFBoaWusbz+nTp2t9M7KLjY2tN7/96jB3julJTamT3eLFi/WHP/xBO3bs\n",
    "0E9+8pN688bFxSk+Pt4xo2al5tTJLiQkRDfccIOjvJ44ZnM1pwznz5/XG2+8UWu2wpWWbKumqOs9\n",
    "FRYWpiuvvNIn2qqp1q1bp3vuuUdvvvmm04y6K61bt1afPn18tp1cGTRokFN5G/p89FXGGK1atUqZ\n",
    "mZmKiIioN6+32um3v/2ttmzZory8PHXp0qXevL4+TsEZAaAXREREKDk5Wbm5uU7pubm5Gjx4sMvn\n",
    "pKSk1Mq/Y8cOR/7ExETFxsY65amsrFRBQUGdx/SkptRJkv74xz/qqaee0vbt2zVgwIAGX+err77S\n",
    "yZMnFRcX1+wyN6SpdarJGKP9+/c7yuuJYzZXc8rw5ptvqqKiQpMnT27wdVqyrZqirvfUgAEDFB4e\n",
    "7hNt1RTZ2dmaOnWqXn/9dadteupSUVGhw4cP+2w7uVJYWOhU3oY+H31VQUGBPv/8c91zzz0N5m3p\n",
    "djLG6MEHH9TGjRv1/vvvKzExscHn+Po4hUu0+GUnMMYY88Ybb5jw8HCzcuVKc+jQIZOVlWVat27t\n",
    "uAosMzPT6UrDjz76yISGhpoFCxaYw4cPmwULFpiwsDCzZ88eR54FCxaY6Ohos3HjRnPw4EEzadIk\n",
    "ExcXZ8rKynyyTgsXLjQRERFm/fr1pqSkxPFTXl5ujDGmvLzcPPLII2bXrl3m2LFjJi8vz6SkpJjO\n",
    "nTv7bJ3mzZtntm/fbo4ePWoKCwvN3XffbcLCwszevXsbfUxfrJfdTTfdZDIyMmql+0JblZeXm8LC\n",
    "QlNYWGgkmWeeecYUFhaaEydOGGOMmTlzpsnMzHTk/+KLL8xll11mpk+fbg4dOmRWrlxpwsPDzfr1\n",
    "6x15vN1W7tbp9ddfN2FhYeaFF15wek998803jjyPPPKIyc/PN1988YXZs2ePGT9+vGnTpo3P1mnJ\n",
    "kiUmJyfH/POf/zRFRUVm5syZRpLZsGGDI09jPh99qU52kydPNgMHDnR5TG+3069+9SsTHR1t8vPz\n",
    "nfrS+fPnHXn8cZzCjwgAveiFF14w8fHxJiIiwvTv39/p8vphw4aZKVOmOOV/6623TFJSkgkPDzc9\n",
    "evRw+gA05odL7OfOnWtiY2NNZGSkGTp0qDl48GBLVMXBnTrFx8cbSbV+5s6da4wx5vz58yYtLc10\n",
    "6NDBhIeHm27dupkpU6aY4uJin61TVlaW6datm4mIiDAdOnQwaWlpZteuXW4ds6W42/+OHDliJJkd\n",
    "O3bUOpYvtJV9u5BLf+z1mDJlihk2bJjTc/Lz802/fv1MRESESUhIMCtWrKh1XG+2lbt1GjZsWL35\n",
    "jTEmIyPDxMXFmfDwcNOpUyczYcIE8+mnn/psnRYuXGi6d+9uoqKiTPv27c1NN91k3nnnnVrHbejz\n",
    "0UpN6XvffPONadWqlXnppZdcHtPb7eSqPpLM6tWrHXn8dZzCD2zG/N+ZzgAAAAgKnAMIAAAQZAgA\n",
    "AQAAggwBIAAAQJAhAAQAAAgyBIAAAABBhgAQAAAgyBAAAgAABBkCQAAAgCBDAAgA9Zg6darS09O9\n",
    "XQwA8CgCQAA+aerUqbLZbLLZbAoPD1dMTIxGjRqlVatWqbq6usXKsXTpUq1Zs8bxePjw4crKymqx\n",
    "1wcAKxAAAvBZY8aMUUlJiY4fP65t27bp5ptv1sMPP6zx48frwoULLVKG6OhotWvXrkVeCwBaCgEg\n",
    "AJ8VGRmp2NhYde7cWf3799djjz2mzZs3a9u2bY5ZubNnz+r+++9Xx44d1bZtW91yyy06cOCA4xjz\n",
    "5s3TT3/6U/3lL39RQkKCoqOjNXHiRJWXlzvyrF+/Xn369FGrVq105ZVXauTIkTp37pwk5yXgqVOn\n",
    "qqCgQEuXLnXM65EyBgAABDlJREFUTh47dkzXXHONFi9e7FT2oqIihYSE6OjRoxb/lQDAfQSAAPzK\n",
    "Lbfcor59+2rjxo0yxmjcuHEqLS3V1q1btW/fPvXv318jRozQf//7X8dzjh49qk2bNuntt9/W22+/\n",
    "rYKCAi1YsECSVFJSokmTJmnatGk6fPiw8vPzNWHCBBljar320qVLlZKSovvuu08lJSUqKSlRt27d\n",
    "NG3aNK1evdop76pVq5Samqru3btb+wcBgCYgAATgd3r06KHjx48rLy9PBw8e1FtvvaUBAwbo2muv\n",
    "1eLFi9WuXTutX7/ekb+6ulpr1qxR7969lZqaqszMTL333nuSfggAL1y4oAkTJighIUF9+vTRr3/9\n",
    "a11++eW1Xjc6OloRERG67LLLFBsbq9jYWIWGhuruu+/WkSNH9PHHH0uSqqqqtHbtWk2bNq1l/iAA\n",
    "4CYCQAB+xxgjm82mffv26dtvv9WVV16pyy+/3PFz7Ngxp6XXhIQEtWnTxvE4Li5Op0+fliT17dtX\n",
    "I0aMUJ8+fXTHHXfo5Zdf1tdff+1WeeLi4jRu3DitWrVKkvT222/r+++/1x133OGB2gKA54V5uwAA\n",
    "4K7Dhw8rMTFR1dXViouLU35+fq08NS/cCA8Pd/qdzWZzXEkcGhqq3Nxc7dq1Szt27NBzzz2n2bNn\n",
    "a+/evUpMTGx0me69915lZmZqyZIlWr16tTIyMnTZZZc1rYIAYDECQAB+5f3339fBgwc1ffp0denS\n",
    "RaWlpQoLC1NCQkKTj2mz2TRkyBANGTJETzzxhOLj45WTk6MZM2bUyhsREaGLFy/WSr/11lvVunVr\n",
    "rVixQtu2bdPOnTubXB4AsBoBIACfVVFRodLSUl28eFH//ve/tX37ds2fP1/jx4/XXXfdpZCQEKWk\n",
    "pCg9PV0LFy5UUlKSTp06pa1btyo9PV0DBgxo8DX27t2r9957T2lpaerYsaP27t2r//znP+rZs6fL\n",
    "/AkJCdq7d6+OHz+uyy+/XFdccYVCQkIUGhqqqVOnatasWbrmmmuUkpLi6T8HAHgM5wAC8Fnbt29X\n",
    "XFycEhISNGbMGOXl5WnZsmXavHmzQkNDZbPZtHXrVg0dOlTTpk3Tddddp4kTJ+r48eOKiYlp1Gu0\n",
    "bdtWO3fu1K233qrrrrtOc+bM0dNPP62xY8e6zP/oo48qNDRUvXr1UocOHVRcXOz43T333KPKykou\n",
    "/gDg82zG1V4HAAC3ffTRRxo+fLj+9a9/NToABQBvIAAEgGaqqKjQyZMndf/99ysuLk6vvfaat4sE\n",
    "APViCRgAmik7O1tJSUk6e/asFi1a5O3iAECDmAEEAAAIMswAAgAABBkCQAAAgCBDAAgAABBkCAAB\n",
    "AACCDAEgAABAkCEABAAACDIEgAAAAEGGABAAACDIEAACAAAEGQJAAACAIEMACAAAEGQIAAEAAIIM\n",
    "ASAAAECQIQAEAAAIMv8fomx0rLQsLooAAAAASUVORK5CYII=\n",
    "\"/>"
   ]
  },
  {
   "cell_type": "markdown",
   "metadata": {},
   "source": [
    "# 2. Faust Algebra and other Operations"
   ]
  },
  {
   "cell_type": "markdown",
   "metadata": {},
   "source": [
    "In order to write some nice algorithms using Faust objects, you'll have to use the basic \"stable\" operations a Faust is capable of. Let's make a tour of them.\n",
    "\n",
    "### 2.1 Transpose, conjugate, transconjugate\n",
    "\n",
    "- [Faust.T](https://faustgrp.gitlabpages.inria.fr/faust/last-doc/html/classpyfaust_1_1Faust.html#a064a412cac321f8211098db0fae84e8e)\n",
    "- [Faust.conj](https://faustgrp.gitlabpages.inria.fr/faust/last-doc/html/classpyfaust_1_1Faust.html#abd273a0e1684a7b238798ac82cd07a61)\n",
    "- [Faust.H](https://faustgrp.gitlabpages.inria.fr/faust/last-doc/html/classpyfaust_1_1Faust.html#ac7b77cdde5f66f85b6458594aa01ad31)\n",
    "\n",
    "You are probably familiar with [T](https://docs.scipy.org/doc/numpy/reference/generated/numpy.matrix.T.html) and [H](https://docs.scipy.org/doc/numpy/reference/generated/numpy.matrix.H.html) attributes/properties from numpy/scipy. Well, they are also used in the Faust class."
   ]
  },
  {
   "cell_type": "code",
   "execution_count": null,
   "metadata": {},
   "outputs": [],
   "source": [
    "G = FF.rand(5,[10,15],field='complex')"
   ]
  },
  {
   "cell_type": "code",
   "execution_count": null,
   "metadata": {},
   "outputs": [],
   "source": [
    "G.T"
   ]
  },
  {
   "cell_type": "code",
   "execution_count": null,
   "metadata": {},
   "outputs": [],
   "source": [
    "G.conj()"
   ]
  },
  {
   "cell_type": "code",
   "execution_count": null,
   "metadata": {},
   "outputs": [],
   "source": [
    "G.H"
   ]
  },
  {
   "cell_type": "markdown",
   "metadata": {},
   "source": [
    "What really matters here is that the results of G.T, G.conj() and G.H are all Faust objects. Behind the scene, there is just one memory zone allocated to the factors. Strictly speaking they are memory views shared between G, G.T and G.H. So don't hesitate to use!\n"
   ]
  },
  {
   "cell_type": "markdown",
   "metadata": {},
   "source": [
    "### 2.2 Add, Subtract and Multiply\n"
   ]
  },
  {
   "cell_type": "code",
   "execution_count": null,
   "metadata": {},
   "outputs": [],
   "source": [
    "F = FF.rand(5,G.shape[0])\n",
    "G = FF.rand(5,G.shape[0])\n",
    "F+G"
   ]
  },
  {
   "cell_type": "markdown",
   "metadata": {},
   "source": [
    "Go ahead and verify it's accurate."
   ]
  },
  {
   "cell_type": "code",
   "execution_count": null,
   "metadata": {},
   "outputs": [],
   "source": [
    "from numpy.linalg import norm\n",
    "norm((F+G).toarray()-(F.toarray()+G.toarray()))"
   ]
  },
  {
   "cell_type": "markdown",
   "metadata": {},
   "source": [
    "Some points are noticeable here:\n",
    "- F is real (dtype float), but G is complex. The Faust API is able to return the proper type for the resulting Faust, that is a complex Faust.\n",
    "- F+G is composed of 8 factors, however F and G are both 5 factors long. It's due to the way the addition is implemented (Faust concatenation is hiding behind).\n",
    "\n",
    "Subtracting is not different:"
   ]
  },
  {
   "cell_type": "code",
   "execution_count": null,
   "metadata": {},
   "outputs": [],
   "source": [
    "F-G"
   ]
  },
  {
   "cell_type": "markdown",
   "metadata": {},
   "source": [
    "You can also add/subtract scalars to Faust objects."
   ]
  },
  {
   "cell_type": "code",
   "execution_count": null,
   "metadata": {},
   "outputs": [],
   "source": [
    "F+2"
   ]
  },
  {
   "cell_type": "markdown",
   "metadata": {},
   "source": [
    "Now let's multiply these Fausts!"
   ]
  },
  {
   "cell_type": "code",
   "execution_count": null,
   "metadata": {},
   "outputs": [],
   "source": [
    "FG = F*G"
   ]
  },
  {
   "cell_type": "code",
   "execution_count": null,
   "metadata": {
    "scrolled": true
   },
   "outputs": [],
   "source": [
    "norm(FG.todense()-F.todense()*G.todense())/norm(F.todense()*G.todense())"
   ]
  },
  {
   "cell_type": "markdown",
   "metadata": {},
   "source": [
    "The relative error proves it's working.\n",
    "FG is a Faust too!"
   ]
  },
  {
   "cell_type": "code",
   "execution_count": null,
   "metadata": {},
   "outputs": [],
   "source": [
    "Faust.isFaust(FG)"
   ]
  },
  {
   "cell_type": "markdown",
   "metadata": {},
   "source": [
    "Faust scalar multiplication is also available and here again the result is a Faust object!"
   ]
  },
  {
   "cell_type": "code",
   "execution_count": null,
   "metadata": {},
   "outputs": [],
   "source": [
    "F*2"
   ]
  },
  {
   "cell_type": "markdown",
   "metadata": {},
   "source": [
    "### 2.3 Faust Multiplication by a Vector or a Matrix\n",
    "\n",
    "When you multiply a Faust by a vector or a matrix (which must be dense by the way -- more precisely, a ```numpy.ndarray``` with good ```ndim``` and ```shape```), you'll get respectively a vector or a matrix as result. "
   ]
  },
  {
   "cell_type": "code",
   "execution_count": null,
   "metadata": {},
   "outputs": [],
   "source": [
    "from numpy.random import rand\n",
    "vec = rand(F.shape[1],1)\n",
    "F@vec # or F.dot(vec), F*vec"
   ]
  },
  {
   "cell_type": "markdown",
   "metadata": {},
   "source": [
    "Let's launch a timer to compare the execution times of Faust-vector multiplication and Faust's dense matrix-vector multiplication\n",
    "\n",
    "Note that appliying a Faust on a ```numpy.ndarray``` or a ```numpy.matrix``` can be done with the operator @ or \\* exactly as ```numpy.matrix``` allows. Indeed, a Faust is to be seen as a ```numpy.matrix``` not a ```numpy.ndarray``` (for the latter the two operators are not the same, \\* performs an elementwise multiplication while @ is the matrix product)."
   ]
  },
  {
   "cell_type": "code",
   "execution_count": null,
   "metadata": {},
   "outputs": [],
   "source": [
    "timeit F@vec"
   ]
  },
  {
   "cell_type": "code",
   "execution_count": null,
   "metadata": {},
   "outputs": [],
   "source": [
    "FD = F.toarray()"
   ]
  },
  {
   "cell_type": "code",
   "execution_count": null,
   "metadata": {},
   "outputs": [],
   "source": [
    "timeit FD@vec"
   ]
  },
  {
   "cell_type": "code",
   "execution_count": null,
   "metadata": {},
   "outputs": [],
   "source": [
    "F.rcg()"
   ]
  },
  {
   "cell_type": "markdown",
   "metadata": {},
   "source": [
    "When the RCG is lower than 1 the Faust-vector multiplication is slower. Making a random Faust with a large RCG (small density) shows better results."
   ]
  },
  {
   "cell_type": "code",
   "execution_count": null,
   "metadata": {},
   "outputs": [],
   "source": [
    "G = FF.rand(3, 1024, density=.001, fac_type='sparse')\n",
    "GD = G.toarray()\n",
    "vec2 = rand(1024, 1) "
   ]
  },
  {
   "cell_type": "code",
   "execution_count": null,
   "metadata": {},
   "outputs": [],
   "source": [
    "timeit G@vec2"
   ]
  },
  {
   "cell_type": "code",
   "execution_count": null,
   "metadata": {},
   "outputs": [],
   "source": [
    "timeit GD@vec2"
   ]
  },
  {
   "cell_type": "code",
   "execution_count": null,
   "metadata": {},
   "outputs": [],
   "source": [
    "G.rcg()"
   ]
  },
  {
   "cell_type": "markdown",
   "metadata": {},
   "source": [
    "It goes without saying that a big RCG gives a big speedup to the Faust-vector multiplication relatively to the corresponding (dense) matrix-vector multiplication.\n",
    "I hope the example above has finished to convince you.\n",
    "\n",
    "Just to convince you as well of the Faust-vector multiplication accuracy:"
   ]
  },
  {
   "cell_type": "code",
   "execution_count": null,
   "metadata": {},
   "outputs": [],
   "source": [
    "from numpy.linalg import norm\n",
    "norm(G@vec2 - GD@vec2)"
   ]
  },
  {
   "cell_type": "markdown",
   "metadata": {},
   "source": [
    "What applies to Faust-vector multiplication remains valid about Faust-matrix multiplication. Take a look:"
   ]
  },
  {
   "cell_type": "code",
   "execution_count": null,
   "metadata": {},
   "outputs": [],
   "source": [
    "M = FF.rand(1,1024,density=.001,fac_type='dense').get_factor(0)"
   ]
  },
  {
   "cell_type": "code",
   "execution_count": null,
   "metadata": {},
   "outputs": [],
   "source": [
    "timeit G@M"
   ]
  },
  {
   "cell_type": "code",
   "execution_count": null,
   "metadata": {},
   "outputs": [],
   "source": [
    "timeit GD@M"
   ]
  },
  {
   "cell_type": "code",
   "execution_count": null,
   "metadata": {},
   "outputs": [],
   "source": [
    "norm(GD@M-G@M)/norm(GD@M)"
   ]
  },
  {
   "cell_type": "markdown",
   "metadata": {},
   "source": [
    "Well, what do we see? A quicker Faust-matrix multiplication than the matrix-matrix corresponding multiplication, though a good accuracy of the Faust-matrix multiplication is also clearly confirmed.\n",
    "\n",
    "These examples are somehow theoretical because we cherry-pick the Faust to ensure that the RCG is good to accelerate the muplication, but at least it shows the potential speedup using Faust objects."
   ]
  },
  {
   "cell_type": "markdown",
   "metadata": {},
   "source": [
    "### 2.4 Faust Norms\n",
    "\n",
    "The Faust class provides a norm function which handles different types of norms. \n",
    "This function is really close to ```numpy.linalg.norm``` function.\n",
    "\n",
    "In the following example, three of four norms available are computed."
   ]
  },
  {
   "cell_type": "code",
   "execution_count": null,
   "metadata": {},
   "outputs": [],
   "source": [
    "F.norm(1)"
   ]
  },
  {
   "cell_type": "code",
   "execution_count": null,
   "metadata": {},
   "outputs": [],
   "source": [
    "F.norm(np.inf)"
   ]
  },
  {
   "cell_type": "code",
   "execution_count": null,
   "metadata": {},
   "outputs": [],
   "source": [
    "F.norm('fro')"
   ]
  },
  {
   "cell_type": "markdown",
   "metadata": {},
   "source": [
    "Now, check the values are not far from the Faust's dense matrix."
   ]
  },
  {
   "cell_type": "code",
   "execution_count": null,
   "metadata": {},
   "outputs": [],
   "source": [
    "from numpy.linalg import norm\n",
    "norm(F.todense(),1)"
   ]
  },
  {
   "cell_type": "code",
   "execution_count": null,
   "metadata": {},
   "outputs": [],
   "source": [
    "norm(F.todense(), np.inf)"
   ]
  },
  {
   "cell_type": "code",
   "execution_count": null,
   "metadata": {},
   "outputs": [],
   "source": [
    "norm(F.todense(), 'fro')"
   ]
  },
  {
   "cell_type": "markdown",
   "metadata": {},
   "source": [
    "Perfect! But a last norm is available, this is the Faust's 2-norm. Let's see in the next small benchmark how the Faust 2-norm is being computed faster than the Faust's dense matrix 2-norm. "
   ]
  },
  {
   "cell_type": "code",
   "execution_count": null,
   "metadata": {},
   "outputs": [],
   "source": [
    "timeit -n 10 G.norm(2)"
   ]
  },
  {
   "cell_type": "code",
   "execution_count": null,
   "metadata": {},
   "outputs": [],
   "source": [
    "timeit -n 10 norm(GD,2) # sorry, it could be slow"
   ]
  },
  {
   "cell_type": "markdown",
   "metadata": {},
   "source": [
    "The power-iteration algorithm implemented in the FAµST C++ core is faster on G and the relative error is not bad too. The norm computation is faster as it benefits from faster Faust-vector multiplication"
   ]
  },
  {
   "cell_type": "code",
   "execution_count": null,
   "metadata": {},
   "outputs": [],
   "source": [
    "err = abs((G.norm(2)-norm(GD,2))/norm(GD,2))\n",
    "err"
   ]
  },
  {
   "cell_type": "markdown",
   "metadata": {},
   "source": [
    "### 2.5 Faust Normalizations"
   ]
  },
  {
   "cell_type": "markdown",
   "metadata": {},
   "source": [
    "The FAµST API proposes a group of normalizations. They correspond to the norms available and discussed above.\n",
    "\n",
    "It's possible to normalize along columns or rows with any type of these norms."
   ]
  },
  {
   "cell_type": "code",
   "execution_count": null,
   "metadata": {},
   "outputs": [],
   "source": [
    "F = FF.rand(5,10)\n",
    "NF = F.normalize()"
   ]
  },
  {
   "cell_type": "markdown",
   "metadata": {},
   "source": [
    "The API doc is [here](https://faustgrp.gitlabpages.inria.fr/faust/last-doc/html/classpyfaust_1_1Faust.html#ae93af25bb48c768fd0d08e71631e9dac)."
   ]
  },
  {
   "cell_type": "markdown",
   "metadata": {},
   "source": [
    "What's interesting here is the fact that ```Faust.normalize``` returns a Faust object. Combined with slicing (that you will see soon), ```normalize``` is useful to write algorithms such as Orthonormal Matching Pursuit (OMP), which require matrices with L2-normalized columns, in a way that makes them able to leverage the acceleration offered by the FAµST API. \n",
    "\n",
    "The normalization coded in C++ is memory optimized (it nevers builds the dense matrix ```F.toarray()``` to compute the norms of the columns/rows). In the same goal the factors composing the Faust object NF are not duplicated in memory from same factors F, they're used as is with an additional factor giving the appropriate scaling."
   ]
  },
  {
   "cell_type": "code",
   "execution_count": null,
   "metadata": {},
   "outputs": [],
   "source": [
    "F"
   ]
  },
  {
   "cell_type": "code",
   "execution_count": null,
   "metadata": {},
   "outputs": [],
   "source": [
    "NF"
   ]
  },
  {
   "cell_type": "code",
   "execution_count": null,
   "metadata": {},
   "outputs": [],
   "source": [
    "NF.get_factor(5).todense()"
   ]
  },
  {
   "cell_type": "code",
   "execution_count": null,
   "metadata": {},
   "outputs": [],
   "source": [
    "cumerr = 0\n",
    "for i in range(0,F.shape[1]): \n",
    "    cumerr += norm(NF.todense()[:,i]-F.todense()[:,i]/norm(F.todense()[:,i]))\n",
    "cumerr"
   ]
  },
  {
   "cell_type": "markdown",
   "metadata": {},
   "source": [
    "And as you see it works!"
   ]
  },
  {
   "cell_type": "markdown",
   "metadata": {},
   "source": [
    "### 2.6 Faust Concatenation"
   ]
  },
  {
   "cell_type": "markdown",
   "metadata": {},
   "source": [
    "You're probably aware of numpy arrays concatenation otherwise look this example."
   ]
  },
  {
   "cell_type": "code",
   "execution_count": null,
   "metadata": {},
   "outputs": [],
   "source": [
    "from numpy.random import rand\n",
    "from numpy import eye, concatenate\n",
    "M = rand(5,5)\n",
    "I = eye(5,5)\n",
    "concatenate((M,I))"
   ]
  },
  {
   "cell_type": "code",
   "execution_count": null,
   "metadata": {},
   "outputs": [],
   "source": [
    "# it was vertical concatenation, now let's concatenate horizontally\n",
    "concatenate((M,I), axis=1)"
   ]
  },
  {
   "cell_type": "markdown",
   "metadata": {},
   "source": [
    "As you I'm sure you guessed that likewise you can concatenate Faust objects."
   ]
  },
  {
   "cell_type": "code",
   "execution_count": null,
   "metadata": {},
   "outputs": [],
   "source": [
    "F.concatenate(F)"
   ]
  },
  {
   "cell_type": "code",
   "execution_count": null,
   "metadata": {},
   "outputs": [],
   "source": [
    "C = F.concatenate(F, axis=1)"
   ]
  },
  {
   "cell_type": "code",
   "execution_count": null,
   "metadata": {},
   "outputs": [],
   "source": [
    "C.todense()-concatenate((F.todense(), F.todense()),axis=1)"
   ]
  },
  {
   "cell_type": "markdown",
   "metadata": {},
   "source": [
    "The difference of the two concatenations is full of zeros, so of course it works!\n",
    "\n",
    "As you noticed the Faust concatenation is stable, you give two Fausts and you get a Faust again.\n",
    "Besides, it's possible to concatenate an arbitrary number of Faust objects.\n"
   ]
  },
  {
   "cell_type": "code",
   "execution_count": null,
   "metadata": {},
   "outputs": [],
   "source": [
    "F.concatenate(F, C, C, F, axis=1)"
   ]
  },
  {
   "cell_type": "markdown",
   "metadata": {},
   "source": [
    "As an exercise, you can write the factors of the Faust ```F.concatenate(F)```, F being any Faust. \n",
    "\n",
    "**Hint**: the block-diagonal matrices are around here."
   ]
  },
  {
   "cell_type": "markdown",
   "metadata": {},
   "source": [
    "### 2.7 Faust Indexing and Slicing"
   ]
  },
  {
   "cell_type": "markdown",
   "metadata": {},
   "source": [
    "Sometimes you need to acces the dense matrix corresponding to a Faust or an element of it (by the way, note that it's costly).\n",
    "\n",
    "Let's access a Faust item:"
   ]
  },
  {
   "cell_type": "code",
   "execution_count": null,
   "metadata": {},
   "outputs": [],
   "source": [
    "F[2,3]"
   ]
  },
  {
   "cell_type": "markdown",
   "metadata": {},
   "source": [
    "Why is it costly? Because it essentially converts the Faust to its dense form (modulo some optimizations) to just access one item."
   ]
  },
  {
   "cell_type": "code",
   "execution_count": null,
   "metadata": {},
   "outputs": [],
   "source": [
    "timeit F[2,3]"
   ]
  },
  {
   "cell_type": "code",
   "execution_count": null,
   "metadata": {},
   "outputs": [],
   "source": [
    "timeit FD[2,3]"
   ]
  },
  {
   "cell_type": "markdown",
   "metadata": {},
   "source": [
    "It's totally the same syntax as numpy but much slower so use it with care. \n",
    "\n",
    "The more advanced slicing operation uses also the same syntax as numpy:"
   ]
  },
  {
   "cell_type": "code",
   "execution_count": null,
   "metadata": {},
   "outputs": [],
   "source": [
    "F[2:5, 3:10]"
   ]
  },
  {
   "cell_type": "markdown",
   "metadata": {},
   "source": [
    "Here again, the result is another Faust. But this is not a full copy, it makes profit of memory views implemented behind in C++. Solely the first and last factors of the sliced Faust are new in memory, the other are just referenced from the initial Faust F. So use it with no worry for a Faust with a lot of factors!\n"
   ]
  },
  {
   "cell_type": "markdown",
   "metadata": {},
   "source": [
    "The numpy's fancy indexing has also been implemented in the FAµST C++ core, let's try it:"
   ]
  },
  {
   "cell_type": "code",
   "execution_count": null,
   "metadata": {},
   "outputs": [],
   "source": [
    "FI = F[[1,3,2],:]\n",
    "Faust.isFaust(FI)"
   ]
  },
  {
   "cell_type": "markdown",
   "metadata": {},
   "source": [
    "Again, it's a Faust but is it really working? Verify!"
   ]
  },
  {
   "cell_type": "code",
   "execution_count": null,
   "metadata": {},
   "outputs": [],
   "source": [
    "(FI.todense()[0] == F.todense()[1]).all() and \\\n",
    "(FI.todense()[1] == F.todense()[3]).all() and \\\n",
    "(FI.todense()[2] == F.todense()[2]).all()"
   ]
  },
  {
   "cell_type": "markdown",
   "metadata": {},
   "source": [
    "Yes it is!"
   ]
  },
  {
   "cell_type": "markdown",
   "metadata": {},
   "source": [
    "-----"
   ]
  },
  {
   "cell_type": "markdown",
   "metadata": {},
   "source": [
    "This is the notebook's end, you have now a global view of what the Faust class is able and what kind of high-level algorithms it is ready for. You might be interested to read other notebooks, just go back to the [page](https://faustgrp.gitlabpages.inria.fr/faust/last-doc/html/index.html) where you got this one."
   ]
  }
 ],
 "metadata": {
  "kernelspec": {
   "display_name": "Python 3",
   "language": "python",
   "name": "python3"
  },
  "language_info": {
   "codemirror_mode": {
    "name": "ipython",
    "version": 3
   },
   "file_extension": ".py",
   "mimetype": "text/x-python",
   "name": "python",
   "nbconvert_exporter": "python",
   "pygments_lexer": "ipython3",
   "version": "3.6.8"
  }
 },
 "nbformat": 4,
 "nbformat_minor": 2
}
