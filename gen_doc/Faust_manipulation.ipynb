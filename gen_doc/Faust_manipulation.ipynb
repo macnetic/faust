{
 "cells": [
  {
   "cell_type": "markdown",
   "metadata": {},
   "source": [
    "# How to Manipulate a Faust\n",
    "\n",
    "<a name=\"start\"></a>\n",
    "This notebook is intended to introduce gently the operations available to manipulate a Faust object. \n",
    "It comes after the first notebook (available [here](https://faustgrp.gitlabpages.inria.fr/faust/last-doc/html/Faust_creation.ipynb) or as a web page [here](https://faustgrp.gitlabpages.inria.fr/faust/last-doc/html/Faust_creation.html)), so it's assumed you already know how to create a Faust object from one way or another.\n",
    "\n",
    "Keep in mind that a full API doc is available [here](https://faustgrp.gitlabpages.inria.fr/faust/last-doc/html/namespacepyfaust.html) every time you need a detail and especially the Faust class is documented [here](https://faustgrp.gitlabpages.inria.fr/faust/last-doc/html/classpyfaust_1_1Faust.html).\n",
    "\n",
    "# Table of Contents:\n",
    "\n",
    "[**1. Getting Basic Information about a Faust Object**](#1.-Getting-Basic-Information-about-a-Faust-Object)<br/>\n",
    "[1.1 Obtaining Dimension and Scalar Type Information](#1.1-Obtaining-Dimension-and-Scalar-Type-Information)<br/>\n",
    "[1.2 Obtaining more Faust Specific Information](#1.2-Obtaining-more-Faust-Specific-Information)<br/>\n",
    "[1.3 Plotting a Faust](#1.3-Plotting-a-Faust)<br/>\n",
    "[1.4 About Sparsity!](#1.4-About-Sparsity!)<br/>\n",
    "\n",
    "[**2. Faust Algebra and other Operations**](#2.-Faust-Algebra-and-other-Operations)<br/>\n",
    "[2.1 Transpose, conjugate, transconjugate](#2.1-Transpose,-conjugate,-transconjugate)<br/>\n",
    "[2.2 Add, Substract and Multiply](#2.2-Add,-Substract-and-Multiply)<br/>\n",
    "[2.3 Faust Multiplication by a Vector or a Matrix](#2.3-Faust-Multiplication-by-a-Vector-or-a-Matrix)<br/>\n",
    "[2.4 Faust Norms](#2.4-Faust-Norms)<br/>\n",
    "[2.5 Faust Normalizations](#2.5-Faust-Normalizations)<br/>\n",
    "[2.6 Faust Concatenation](#2.6-Faust-Concatenation)<br/>\n",
    "[2.7 Faust Indexing and Slicing](#2.7-Faust-Indexing-and-Slicing)<br/>\n",
    "\n",
    "\n",
    "# 1. Getting Basic Information about a Faust Object\n",
    "\n",
    "First of all, given any object, you might ask yourself if it's a Faust or not (typically when you receive an object in a function, python being built on dynamic types, you can't say for sure it's a Faust). \n",
    "[Faust.isFaust()](https://faustgrp.gitlabpages.inria.fr/faust/last-doc/html/classpyfaust_1_1Faust.html#a965047e6c0161e59a1c3e08f2b60e806) is the function to verify an object is a Faust.\n",
    "It's use is straighforward as you can see in the [documentation](https://faustgrp.gitlabpages.inria.fr/faust/last-doc/html/classpyfaust_1_1Faust.html#a965047e6c0161e59a1c3e08f2b60e806).\n",
    "\n",
    "\n",
    "### 1.1 Obtaining Dimension and Scalar Type Information\n",
    "\n",
    "Firstly, let's list basic Faust informative methods/attributes you're probably used to for numpy arrays:\n",
    "\n",
    "- [shape](https://faustgrp.gitlabpages.inria.fr/faust/last-doc/html/classpyfaust_1_1Faust.html#a64b167c138d18a23bb5b9794fcb03ef1),\n",
    "- [size](https://faustgrp.gitlabpages.inria.fr/faust/last-doc/html/classpyfaust_1_1Faust.html#a6505fdc600b4868bbe77d8fc4a48b350),\n",
    "- [dtype](https://faustgrp.gitlabpages.inria.fr/faust/last-doc/html/classpyfaust_1_1Faust.html#ad0615fb9508899a95af2c7de42377e91).\n",
    "\n",
    "To keep it really clear, let's show some examples operated on a random Faust.\n"
   ]
  },
  {
   "cell_type": "code",
   "execution_count": 120,
   "metadata": {},
   "outputs": [
    {
     "name": "stdout",
     "output_type": "stream",
     "text": [
      "Faust size 10x10, density 2.5, nnz_sum 250, 5 factor(s): \n",
      "- FACTOR 0 (real) SPARSE, size 10x10, density 0.5, nnz 50\n",
      "- FACTOR 1 (real) SPARSE, size 10x10, density 0.5, nnz 50\n",
      "- FACTOR 2 (real) SPARSE, size 10x10, density 0.5, nnz 50\n",
      "- FACTOR 3 (real) DENSE, size 10x10, density 0.5, nnz 50\n",
      "- FACTOR 4 (real) DENSE, size 10x10, density 0.5, nnz 50\n",
      "\n"
     ]
    }
   ],
   "source": [
    "from pyfaust import FaustFactory as FF\n",
    "F = FF.rand(5,10)\n",
    "print(F)"
   ]
  },
  {
   "cell_type": "code",
   "execution_count": 3,
   "metadata": {
    "scrolled": true
   },
   "outputs": [
    {
     "data": {
      "text/plain": [
       "(10, 10)"
      ]
     },
     "execution_count": 3,
     "metadata": {},
     "output_type": "execute_result"
    }
   ],
   "source": [
    "F.shape"
   ]
  },
  {
   "cell_type": "code",
   "execution_count": 93,
   "metadata": {},
   "outputs": [
    {
     "data": {
      "text/plain": [
       "100"
      ]
     },
     "execution_count": 93,
     "metadata": {},
     "output_type": "execute_result"
    }
   ],
   "source": [
    "F.size"
   ]
  },
  {
   "cell_type": "code",
   "execution_count": 94,
   "metadata": {},
   "outputs": [
    {
     "data": {
      "text/plain": [
       "dtype('float64')"
      ]
     },
     "execution_count": 94,
     "metadata": {},
     "output_type": "execute_result"
    }
   ],
   "source": [
    "F.dtype"
   ]
  },
  {
   "cell_type": "markdown",
   "metadata": {},
   "source": [
    "If the attributes printed out above seem not clear to you, you're probably not a numpy user. Anyway you'll find all descriptive informations in the FAµST API documentation (see the links [above](#start)).\n",
    "\n",
    "As a complement, you can also consult the numpy API documentation:\n",
    "- [shape](https://docs.scipy.org/doc/numpy/reference/generated/numpy.ndarray.shape.html)\n",
    "- [size](https://docs.scipy.org/doc/numpy/reference/generated/numpy.ndarray.size.html)\n",
    "- [dtype](https://docs.scipy.org/doc/numpy/reference/generated/numpy.ndarray.dtype.html)\n",
    "\n",
    "About shape, it's noteworthy that contrary to what numpy is capable of, you cannot [reshape](https://docs.scipy.org/doc/numpy/reference/generated/numpy.ndarray.reshape.html) a Faust.\n"
   ]
  },
  {
   "cell_type": "markdown",
   "metadata": {},
   "source": [
    "### 1.2 Obtaining more Faust Specific Information\n",
    "\n",
    "As you've seen in this notebook and the [first one](#start), when you print a Faust object, several information appear.\n",
    "Most of them are also available independently with specific functions.\n",
    "\n",
    "For instance, if you want information about factors, nothing is more simple than calling directly the next functions:\n",
    "- [get_num_factors()](https://faustgrp.gitlabpages.inria.fr/faust/last-doc/html/classpyfaust_1_1Faust.html#a2b46d3c068ef20d74bb90e382848014e) ; which gives you the number of factors (aka layers) a Faust object is composed of.\n",
    "- [get_factor()](https://faustgrp.gitlabpages.inria.fr/faust/last-doc/html/classpyfaust_1_1Faust.html#adc91fd04c17ccaa2f32b7423955ef37d) ; which allows you to copy any of the Faust's factors givens it's index.\n",
    "\n",
    "Going back to our F object, let's call the functions:"
   ]
  },
  {
   "cell_type": "code",
   "execution_count": 95,
   "metadata": {},
   "outputs": [
    {
     "data": {
      "text/plain": [
       "5"
      ]
     },
     "execution_count": 95,
     "metadata": {},
     "output_type": "execute_result"
    }
   ],
   "source": [
    "F.get_num_factors()"
   ]
  },
  {
   "cell_type": "markdown",
   "metadata": {},
   "source": [
    "For example, try to copy the third factor:"
   ]
  },
  {
   "cell_type": "code",
   "execution_count": 98,
   "metadata": {},
   "outputs": [
    {
     "data": {
      "text/plain": [
       "<10x10 sparse matrix of type '<class 'numpy.float64'>'\n",
       "\twith 50 stored elements in Compressed Sparse Row format>"
      ]
     },
     "execution_count": 98,
     "metadata": {},
     "output_type": "execute_result"
    }
   ],
   "source": [
    "f3 = F.get_factor(2)\n",
    "f3"
   ]
  },
  {
   "cell_type": "markdown",
   "metadata": {},
   "source": [
    "Note that, since Faust 2.3, the function doesn't alterate the factor format. If the Faust object contains a sparse factor then you'll receive a sparse (CSR) matrix. \n"
   ]
  },
  {
   "cell_type": "markdown",
   "metadata": {},
   "source": [
    "Contrary to what the singular form of 'get_factor' indicates, it's possible (since Faust 2.3 again) to retrieve a sub-sequence of Faust factors.\n",
    "\n",
    "Go straight to the example, extracting factors from F:"
   ]
  },
  {
   "cell_type": "code",
   "execution_count": 99,
   "metadata": {},
   "outputs": [
    {
     "data": {
      "text/plain": [
       "Faust size 10x10, density 1, nnz_sum 100, 2 factor(s): \n",
       "- FACTOR 0 (real) SPARSE, size 10x10, density 0.5, nnz 50\n",
       "- FACTOR 1 (real) DENSE, size 10x10, density 0.5, nnz 50"
      ]
     },
     "execution_count": 99,
     "metadata": {},
     "output_type": "execute_result"
    }
   ],
   "source": [
    "F.get_factor(range(2,4))"
   ]
  },
  {
   "cell_type": "markdown",
   "metadata": {},
   "source": [
    "Hmm... something is different from the previous example. We indeed received a Faust as return type, great! You've just learned another way to create a Faust from another, additionally to what you've seen in the first [notebook](#start). \n",
    "\n",
    "Without this function, you'd surely have written something similar to:"
   ]
  },
  {
   "cell_type": "code",
   "execution_count": 100,
   "metadata": {},
   "outputs": [
    {
     "data": {
      "text/plain": [
       "Faust size 10x10, density 1, nnz_sum 100, 2 factor(s): \n",
       "- FACTOR 0 (real) SPARSE, size 10x10, density 0.5, nnz 50\n",
       "- FACTOR 1 (real) DENSE, size 10x10, density 0.5, nnz 50"
      ]
     },
     "execution_count": 100,
     "metadata": {},
     "output_type": "execute_result"
    }
   ],
   "source": [
    "from pyfaust import Faust\n",
    "F2 = Faust([F.get_factor(2), F.get_factor(3)])\n",
    "F2"
   ]
  },
  {
   "cell_type": "markdown",
   "metadata": {},
   "source": [
    "OK, that's not awful but I let you imagine how much complicated it is with more factors (even with a comprehension list, it's longer to write).\n",
    "\n",
    "### 1.3 Plotting a Faust\n",
    "\n",
    "It's quite useful to print a Faust as we've seen before, calling``print(F)``or``F.display()``or just``F``in an interactive terminal but this is wordy. \n",
    "How about plotting a Faust in a more graphical fashion ?"
   ]
  },
  {
   "cell_type": "code",
   "execution_count": 101,
   "metadata": {},
   "outputs": [
    {
     "data": {
      "image/png": "[encoded data removed]",
      "text/plain": [
       "<Figure size 432x288 with 6 Axes>"
      ]
     },
     "metadata": {},
     "output_type": "display_data"
    }
   ],
   "source": [
    "F.imshow()"
   ]
  },
  {
   "cell_type": "markdown",
   "metadata": {},
   "source": [
    "What do we see above ? This is the Faust object resulting dense matrix on the left followed by the Faust's factors on the right.\n",
    "Note that you can change the default [colormap](https://matplotlib.org/tutorials/colors/colormaps.html) in matplotlib parameters.\n",
    "\n",
    "Look this another example to make it clearer."
   ]
  },
  {
   "cell_type": "code",
   "execution_count": 102,
   "metadata": {},
   "outputs": [
    {
     "data": {
      "image/png": "[encoded data removed]",
      "text/plain": [
       "<Figure size 432x288 with 3 Axes>"
      ]
     },
     "metadata": {},
     "output_type": "display_data"
    }
   ],
   "source": [
    "from pyfaust import Faust\n",
    "from numpy import eye\n",
    "Faust([eye(5,4),eye(4,10)]).imshow()"
   ]
  },
  {
   "cell_type": "markdown",
   "metadata": {},
   "source": [
    "All factors are scaled to the same size, that's why the elements of factor 0 are bigger than factor 1 elements.\n",
    "\n",
    "### 1.4 About Sparsity!\n",
    "\n",
    "Three functions of the Faust class are here to evaluate the sparsity of a Faust object.\n",
    "\n",
    "Let's call the first one:\n"
   ]
  },
  {
   "cell_type": "code",
   "execution_count": 103,
   "metadata": {},
   "outputs": [
    {
     "data": {
      "text/plain": [
       "250"
      ]
     },
     "execution_count": 103,
     "metadata": {},
     "output_type": "execute_result"
    }
   ],
   "source": [
    "F.nnz_sum()"
   ]
  },
  {
   "cell_type": "markdown",
   "metadata": {},
   "source": [
    "I'm sure you guessed exactly what the function returns, if you doubt it, here is the doc: [Faust.nnz_sum()](https://faustgrp.gitlabpages.inria.fr/faust/last-doc/html/classpyfaust_1_1Faust.html#a216c598bb384d92b4e37843b67c42255).\n",
    "\n",
    "Next comes the reciprocal function: [Faust.density()](https://faustgrp.gitlabpages.inria.fr/faust/last-doc/html/classpyfaust_1_1Faust.html#af73ecb7c5fca3c7673c665d8ba4058f6).\n",
    "\n",
    "This function along with [Faust.rcg()](https://faustgrp.gitlabpages.inria.fr/faust/last-doc/html/classpyfaust_1_1Faust.html#a6a51a05c20041504a0b8f2a73dd8d05a) can give you a big hint on how much your Faust is potentially optimized both for storage and calculation."
   ]
  },
  {
   "cell_type": "code",
   "execution_count": 104,
   "metadata": {},
   "outputs": [
    {
     "data": {
      "text/plain": [
       "2.5"
      ]
     },
     "execution_count": 104,
     "metadata": {},
     "output_type": "execute_result"
    }
   ],
   "source": [
    "F.density()"
   ]
  },
  {
   "cell_type": "code",
   "execution_count": 105,
   "metadata": {},
   "outputs": [
    {
     "data": {
      "text/plain": [
       "0.4"
      ]
     },
     "execution_count": 105,
     "metadata": {},
     "output_type": "execute_result"
    }
   ],
   "source": [
    "F.rcg()"
   ]
  },
  {
   "cell_type": "markdown",
   "metadata": {},
   "source": [
    "According to its RCG, this Faust doesn't seem to be of any help for optimization but look the graphic the next script generates: "
   ]
  },
  {
   "cell_type": "code",
   "execution_count": 107,
   "metadata": {},
   "outputs": [
    {
     "data": {
      "image/png": "[encoded data removed]",
      "text/plain": [
       "<Figure size 432x288 with 1 Axes>"
      ]
     },
     "metadata": {},
     "output_type": "display_data"
    }
   ],
   "source": [
    "from pyfaust import Faust, FaustFactory\n",
    "import numpy as np\n",
    "import os\n",
    "import matplotlib.pyplot as plt \n",
    "\n",
    "\n",
    "nfactors = 3 \n",
    "startd = 0.01\n",
    "endd = 1 \n",
    "dim_sz = 1000\n",
    "sizes = []\n",
    "rcs = []\n",
    "ntests = 10\n",
    "for i, d in zip(\n",
    "                list(range(0, ntests)),\n",
    "    np.linspace(startd, endd, ntests)):\n",
    "    F = FaustFactory.rand(nfactors, dim_sz, d, fac_type='sparse')\n",
    "    filepath = 'test_faust_size'+str(i)+'.mat'\n",
    "    F.save(filepath)\n",
    "    stat = os.stat(filepath)\n",
    "    sizes.append(stat.st_size)\n",
    "    rcs.append(F.density())\n",
    "    os.remove(filepath)\n",
    "    plt.title('File Size vs RC for Pure-Sparse Fausts \\n('+str(nfactors)+' '\n",
    "              'random factors '+str(dim_sz)+'x'+str(dim_sz)+')')\n",
    "plt.xlabel('Relative Complexity/Density')\n",
    "plt.ylabel('File Size (bytes)')\n",
    "plt.rcParams['figure.figsize'] = [8.0, 6]\n",
    "plt.tight_layout()\n",
    "plt.plot(rcs, sizes)\n",
    "plt.show()\n"
   ]
  },
  {
   "cell_type": "markdown",
   "metadata": {},
   "source": [
    "Isn't it obvious now that the smaller the density the better?! Indeed, for two Faust objects of same shape and same number of factors, a smaller density (linearly) infers a smaller file size for storage.\n",
    "This point applies also to the memory (RAM) space to work on a Faust.\n",
    "\n",
    "We'll see later how the computation can make profit of a bigger RCG (or smaller density). But let's precise right now that the sparsity is often a tradeoff with accuracy, as the following plot shows about the truncated [SVD](https://docs.scipy.org/doc/numpy/reference/generated/numpy.linalg.svd.html) of a matrix $M \\in {\\mathbb R}^{512 \\times 512}$. Note beforehand that the M's SVD (truncated or not) can be seen as a Faust which approximates M.\n",
    "```\n",
    "Faust([U,S,V.H])\n",
    "```\n",
    "<img src=\"data:image/png;base64,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\"/>"
   ]
  },
  {
   "cell_type": "markdown",
   "metadata": {},
   "source": [
    "# 2. Faust Algebra and other Operations"
   ]
  },
  {
   "cell_type": "markdown",
   "metadata": {},
   "source": [
    "In order to write some nice algorithms using Faust objects, you'll have to use the basic stable operations a Faust is capable of. Let's make a tour of them.\n",
    "\n",
    "### 2.1 Transpose, conjugate, transconjugate\n",
    "\n",
    "- [Faust.T](https://faustgrp.gitlabpages.inria.fr/faust/last-doc/html/classpyfaust_1_1Faust.html#a064a412cac321f8211098db0fae84e8e)\n",
    "- [Faust.conj](https://faustgrp.gitlabpages.inria.fr/faust/last-doc/html/classpyfaust_1_1Faust.html#abd273a0e1684a7b238798ac82cd07a61)\n",
    "- [Faust.H](https://faustgrp.gitlabpages.inria.fr/faust/last-doc/html/classpyfaust_1_1Faust.html#ac7b77cdde5f66f85b6458594aa01ad31)\n",
    "\n",
    "You must be familiar with T and H attributes/properties from numpy/scipy. Well, they are also used in Faust class."
   ]
  },
  {
   "cell_type": "code",
   "execution_count": 112,
   "metadata": {},
   "outputs": [],
   "source": [
    "G = FF.rand(5,[10,15],field='complex')"
   ]
  },
  {
   "cell_type": "code",
   "execution_count": 113,
   "metadata": {},
   "outputs": [
    {
     "data": {
      "text/plain": [
       "Faust size 11x12, density 2.34848, nnz_sum 310, 5 factor(s): \n",
       "- FACTOR 0 (complex) SPARSE, size 11x13, density 0.454545, nnz 65\n",
       "- FACTOR 1 (complex) DENSE, size 13x11, density 0.384615, nnz 55\n",
       "- FACTOR 2 (complex) SPARSE, size 11x15, density 0.454545, nnz 75\n",
       "- FACTOR 3 (complex) DENSE, size 15x11, density 0.333333, nnz 55\n",
       "- FACTOR 4 (complex) SPARSE, size 11x12, density 0.454545, nnz 60"
      ]
     },
     "execution_count": 113,
     "metadata": {},
     "output_type": "execute_result"
    }
   ],
   "source": [
    "G.T"
   ]
  },
  {
   "cell_type": "code",
   "execution_count": 114,
   "metadata": {},
   "outputs": [
    {
     "data": {
      "text/plain": [
       "Faust size 12x11, density 2.34848, nnz_sum 310, 5 factor(s): \n",
       "- FACTOR 0 (complex) SPARSE, size 12x11, density 0.454545, nnz 60\n",
       "- FACTOR 1 (complex) DENSE, size 11x15, density 0.333333, nnz 55\n",
       "- FACTOR 2 (complex) SPARSE, size 15x11, density 0.454545, nnz 75\n",
       "- FACTOR 3 (complex) DENSE, size 11x13, density 0.384615, nnz 55\n",
       "- FACTOR 4 (complex) SPARSE, size 13x11, density 0.454545, nnz 65"
      ]
     },
     "execution_count": 114,
     "metadata": {},
     "output_type": "execute_result"
    }
   ],
   "source": [
    "G.conj()"
   ]
  },
  {
   "cell_type": "code",
   "execution_count": 115,
   "metadata": {},
   "outputs": [
    {
     "data": {
      "text/plain": [
       "Faust size 11x12, density 2.34848, nnz_sum 310, 5 factor(s): \n",
       "- FACTOR 0 (complex) SPARSE, size 11x13, density 0.454545, nnz 65\n",
       "- FACTOR 1 (complex) DENSE, size 13x11, density 0.384615, nnz 55\n",
       "- FACTOR 2 (complex) SPARSE, size 11x15, density 0.454545, nnz 75\n",
       "- FACTOR 3 (complex) DENSE, size 15x11, density 0.333333, nnz 55\n",
       "- FACTOR 4 (complex) SPARSE, size 11x12, density 0.454545, nnz 60"
      ]
     },
     "execution_count": 115,
     "metadata": {},
     "output_type": "execute_result"
    }
   ],
   "source": [
    "G.H"
   ]
  },
  {
   "cell_type": "markdown",
   "metadata": {},
   "source": [
    "What really matters here is that G.T, G.conj() and G.H results are all Faust objects, but behind the scene, there is just one memory zone allocated to the factors. Strictly speaking they are memory views shared between G, G.T and G.H. So don't hesitate to use!\n"
   ]
  },
  {
   "cell_type": "markdown",
   "metadata": {},
   "source": [
    "### 2.2 Add, Substract and Multiply"
   ]
  },
  {
   "cell_type": "code",
   "execution_count": 121,
   "metadata": {},
   "outputs": [
    {
     "data": {
      "text/plain": [
       "Faust size 10x10, density 5.6, nnz_sum 560, 8 factor(s): \n",
       "- FACTOR 0 (complex) SPARSE, size 10x20, density 0.1, nnz 20\n",
       "- FACTOR 1 (complex) SPARSE, size 20x20, density 0.25, nnz 100\n",
       "- FACTOR 2 (complex) SPARSE, size 20x20, density 0.25, nnz 100\n",
       "- FACTOR 3 (complex) SPARSE, size 20x20, density 0.25, nnz 100\n",
       "- FACTOR 4 (complex) SPARSE, size 20x20, density 0.25, nnz 100\n",
       "- FACTOR 5 (complex) SPARSE, size 20x20, density 0.25, nnz 100\n",
       "- FACTOR 6 (complex) SPARSE, size 20x20, density 0.05, nnz 20\n",
       "- FACTOR 7 (complex) SPARSE, size 20x10, density 0.1, nnz 20"
      ]
     },
     "execution_count": 121,
     "metadata": {},
     "output_type": "execute_result"
    }
   ],
   "source": [
    "G = FF.rand(5,10,field='complex')\n",
    "F+G"
   ]
  },
  {
   "cell_type": "markdown",
   "metadata": {},
   "source": [
    "Go ahead and verify it's accurate."
   ]
  },
  {
   "cell_type": "code",
   "execution_count": 122,
   "metadata": {},
   "outputs": [
    {
     "data": {
      "text/plain": [
       "8.244764654184774e-14"
      ]
     },
     "execution_count": 122,
     "metadata": {},
     "output_type": "execute_result"
    }
   ],
   "source": [
    "from numpy.linalg import norm\n",
    "norm((F+G).toarray()-(F.toarray()+G.toarray()))"
   ]
  },
  {
   "cell_type": "markdown",
   "metadata": {},
   "source": [
    "Some points are noticeable here:\n",
    "- F is real (dtype float), but G is complex. Faust API is able to return the proper resulting Faust, that is a complex Faust.\n",
    "- F+G is composed of 8 factors, however F and G are both 5 factors long. It's due to the way the addition is implemented (Faust concatenation is hiding behind).\n",
    "\n",
    "Substracting is not different:"
   ]
  },
  {
   "cell_type": "code",
   "execution_count": 123,
   "metadata": {},
   "outputs": [
    {
     "data": {
      "text/plain": [
       "Faust size 10x10, density 5.6, nnz_sum 560, 8 factor(s): \n",
       "- FACTOR 0 (complex) SPARSE, size 10x20, density 0.1, nnz 20\n",
       "- FACTOR 1 (complex) SPARSE, size 20x20, density 0.25, nnz 100\n",
       "- FACTOR 2 (complex) SPARSE, size 20x20, density 0.25, nnz 100\n",
       "- FACTOR 3 (complex) SPARSE, size 20x20, density 0.25, nnz 100\n",
       "- FACTOR 4 (complex) SPARSE, size 20x20, density 0.25, nnz 100\n",
       "- FACTOR 5 (complex) SPARSE, size 20x20, density 0.25, nnz 100\n",
       "- FACTOR 6 (complex) SPARSE, size 20x20, density 0.05, nnz 20\n",
       "- FACTOR 7 (complex) SPARSE, size 20x10, density 0.1, nnz 20"
      ]
     },
     "execution_count": 123,
     "metadata": {},
     "output_type": "execute_result"
    }
   ],
   "source": [
    "F-G"
   ]
  },
  {
   "cell_type": "markdown",
   "metadata": {},
   "source": [
    "You can also add/substract scalars to Faust objects."
   ]
  },
  {
   "cell_type": "code",
   "execution_count": 124,
   "metadata": {},
   "outputs": [
    {
     "data": {
      "text/plain": [
       "Faust size 10x10, density 3.6, nnz_sum 360, 8 factor(s): \n",
       "- FACTOR 0 (real) SPARSE, size 10x20, density 0.1, nnz 20\n",
       "- FACTOR 1 (real) SPARSE, size 20x20, density 0.15, nnz 60\n",
       "- FACTOR 2 (real) SPARSE, size 20x20, density 0.15, nnz 60\n",
       "- FACTOR 3 (real) SPARSE, size 20x20, density 0.15, nnz 60\n",
       "- FACTOR 4 (real) SPARSE, size 20x11, density 0.272727, nnz 60\n",
       "- FACTOR 5 (real) SPARSE, size 11x20, density 0.272727, nnz 60\n",
       "- FACTOR 6 (real) SPARSE, size 20x20, density 0.05, nnz 20\n",
       "- FACTOR 7 (real) SPARSE, size 20x10, density 0.1, nnz 20"
      ]
     },
     "execution_count": 124,
     "metadata": {},
     "output_type": "execute_result"
    }
   ],
   "source": [
    "F+2"
   ]
  },
  {
   "cell_type": "markdown",
   "metadata": {},
   "source": [
    "Now let's multiply these Fausts!"
   ]
  },
  {
   "cell_type": "code",
   "execution_count": 126,
   "metadata": {},
   "outputs": [],
   "source": [
    "FG = F*G"
   ]
  },
  {
   "cell_type": "code",
   "execution_count": 127,
   "metadata": {
    "scrolled": true
   },
   "outputs": [
    {
     "data": {
      "text/plain": [
       "1.30251953925445e-16"
      ]
     },
     "execution_count": 127,
     "metadata": {},
     "output_type": "execute_result"
    }
   ],
   "source": [
    "norm(FG.todense()-F.todense()*G.todense())/norm(F.todense()*G.todense())"
   ]
  },
  {
   "cell_type": "markdown",
   "metadata": {},
   "source": [
    "The relative error proves it's working.\n",
    "FG is a Faust too!"
   ]
  },
  {
   "cell_type": "code",
   "execution_count": 128,
   "metadata": {},
   "outputs": [
    {
     "data": {
      "text/plain": [
       "True"
      ]
     },
     "execution_count": 128,
     "metadata": {},
     "output_type": "execute_result"
    }
   ],
   "source": [
    "Faust.isFaust(FG)"
   ]
  },
  {
   "cell_type": "markdown",
   "metadata": {},
   "source": [
    "Faust scalar multiplication is also available and here again the result is a Faust object!"
   ]
  },
  {
   "cell_type": "code",
   "execution_count": 129,
   "metadata": {},
   "outputs": [
    {
     "data": {
      "text/plain": [
       "Faust size 10x10, density 2.5, nnz_sum 250, 5 factor(s): \n",
       "- FACTOR 0 (real) SPARSE, size 10x10, density 0.5, nnz 50\n",
       "- FACTOR 1 (real) SPARSE, size 10x10, density 0.5, nnz 50\n",
       "- FACTOR 2 (real) SPARSE, size 10x10, density 0.5, nnz 50\n",
       "- FACTOR 3 (real) DENSE, size 10x10, density 0.5, nnz 50\n",
       "- FACTOR 4 (real) DENSE, size 10x10, density 0.5, nnz 50"
      ]
     },
     "execution_count": 129,
     "metadata": {},
     "output_type": "execute_result"
    }
   ],
   "source": [
    "F*2"
   ]
  },
  {
   "cell_type": "markdown",
   "metadata": {},
   "source": [
    "### 2.3 Faust Multiplication by a Vector or a Matrix\n",
    "\n",
    "When you multiply a Faust by a vector or a matrix (which must be dense by the way -- more precisely, a```numpy.ndarray```with good```ndim```and```shape```), you'll get respectively a vector or a matrix as result. "
   ]
  },
  {
   "cell_type": "code",
   "execution_count": 130,
   "metadata": {},
   "outputs": [
    {
     "data": {
      "text/plain": [
       "array([[42.86434167],\n",
       "       [46.24220646],\n",
       "       [30.54030378],\n",
       "       [61.25950378],\n",
       "       [45.57087078],\n",
       "       [46.8509549 ],\n",
       "       [35.29349722],\n",
       "       [40.44420906],\n",
       "       [57.3297004 ],\n",
       "       [38.24297252]])"
      ]
     },
     "execution_count": 130,
     "metadata": {},
     "output_type": "execute_result"
    }
   ],
   "source": [
    "from numpy.random import rand\n",
    "vec = rand(F.shape[1],1)\n",
    "F*vec"
   ]
  },
  {
   "cell_type": "markdown",
   "metadata": {},
   "source": [
    "Let's launch a timer to compare the execution times of Faust-vector multiplication and Faust's dense matrix-vector multiplication."
   ]
  },
  {
   "cell_type": "code",
   "execution_count": 134,
   "metadata": {},
   "outputs": [
    {
     "name": "stdout",
     "output_type": "stream",
     "text": [
      "13 µs ± 598 ns per loop (mean ± std. dev. of 7 runs, 100000 loops each)\n"
     ]
    }
   ],
   "source": [
    "timeit F*vec"
   ]
  },
  {
   "cell_type": "code",
   "execution_count": 160,
   "metadata": {},
   "outputs": [],
   "source": [
    "FD = F.toarray()"
   ]
  },
  {
   "cell_type": "code",
   "execution_count": 162,
   "metadata": {},
   "outputs": [
    {
     "name": "stdout",
     "output_type": "stream",
     "text": [
      "987 ns ± 76.1 ns per loop (mean ± std. dev. of 7 runs, 1000000 loops each)\n"
     ]
    }
   ],
   "source": [
    "timeit FD@vec"
   ]
  },
  {
   "cell_type": "code",
   "execution_count": 163,
   "metadata": {},
   "outputs": [
    {
     "data": {
      "text/plain": [
       "0.4"
      ]
     },
     "execution_count": 163,
     "metadata": {},
     "output_type": "execute_result"
    }
   ],
   "source": [
    "F.rcg()"
   ]
  },
  {
   "cell_type": "markdown",
   "metadata": {},
   "source": [
    "When the RCG is lower than 1 the Faust multiplication is slower. Making a random Faust with a big RCG shows better results."
   ]
  },
  {
   "cell_type": "code",
   "execution_count": 218,
   "metadata": {},
   "outputs": [],
   "source": [
    "G = FF.rand(3, 1024, density=.001, fac_type='sparse')\n",
    "GD = G.toarray()\n",
    "vec2 = rand(1024, 1) "
   ]
  },
  {
   "cell_type": "code",
   "execution_count": 209,
   "metadata": {},
   "outputs": [
    {
     "name": "stdout",
     "output_type": "stream",
     "text": [
      "34.4 µs ± 1.86 µs per loop (mean ± std. dev. of 7 runs, 10000 loops each)\n"
     ]
    }
   ],
   "source": [
    "timeit G*vec2"
   ]
  },
  {
   "cell_type": "code",
   "execution_count": 210,
   "metadata": {},
   "outputs": [
    {
     "name": "stdout",
     "output_type": "stream",
     "text": [
      "766 µs ± 133 µs per loop (mean ± std. dev. of 7 runs, 1000 loops each)\n"
     ]
    }
   ],
   "source": [
    "timeit GD@vec2"
   ]
  },
  {
   "cell_type": "code",
   "execution_count": 211,
   "metadata": {},
   "outputs": [
    {
     "data": {
      "text/plain": [
       "204.8"
      ]
     },
     "execution_count": 211,
     "metadata": {},
     "output_type": "execute_result"
    }
   ],
   "source": [
    "G.rcg()"
   ]
  },
  {
   "cell_type": "markdown",
   "metadata": {},
   "source": [
    "It goes without saying that a big RCG gives a big speedup to the Faust-vector multiplication relatively to the corresponding (dense) matrix-vector multiplication.\n",
    "I hope the example above has finished to convince you.\n",
    "\n",
    "Just to convince you as well of the Faust-vector multiplication accuracy:"
   ]
  },
  {
   "cell_type": "code",
   "execution_count": 204,
   "metadata": {},
   "outputs": [
    {
     "data": {
      "text/plain": [
       "1.593447492600467e-16"
      ]
     },
     "execution_count": 204,
     "metadata": {},
     "output_type": "execute_result"
    }
   ],
   "source": [
    "from numpy.linalg import norm\n",
    "norm(G*vec2 - G.toarray()@vec2)"
   ]
  },
  {
   "cell_type": "markdown",
   "metadata": {},
   "source": [
    "What applies to Faust-vector multiplication remains valid about Faust-matrix multiplication. Take a look:"
   ]
  },
  {
   "cell_type": "code",
   "execution_count": 219,
   "metadata": {},
   "outputs": [],
   "source": [
    "M = FF.rand(1,1024,density=.001,fac_type='dense').get_factor(0)"
   ]
  },
  {
   "cell_type": "code",
   "execution_count": 220,
   "metadata": {},
   "outputs": [
    {
     "name": "stdout",
     "output_type": "stream",
     "text": [
      "49 ms ± 2.67 ms per loop (mean ± std. dev. of 7 runs, 10 loops each)\n"
     ]
    }
   ],
   "source": [
    "timeit G*M"
   ]
  },
  {
   "cell_type": "code",
   "execution_count": 221,
   "metadata": {},
   "outputs": [
    {
     "name": "stdout",
     "output_type": "stream",
     "text": [
      "59.6 ms ± 5.22 ms per loop (mean ± std. dev. of 7 runs, 10 loops each)\n"
     ]
    }
   ],
   "source": [
    "timeit GD@M"
   ]
  },
  {
   "cell_type": "code",
   "execution_count": 222,
   "metadata": {},
   "outputs": [
    {
     "data": {
      "text/plain": [
       "1.048330215162471e-16"
      ]
     },
     "execution_count": 222,
     "metadata": {},
     "output_type": "execute_result"
    }
   ],
   "source": [
    "norm(G.toarray()@M-G*M)/norm(G.toarray()@M)"
   ]
  },
  {
   "cell_type": "markdown",
   "metadata": {},
   "source": [
    "Well, what do we see? A quicker Faust-matrix multiplication than the matrix-matrix corresponding multiplication, though a good accuracy of the Faust-matrix multiplication is also clearly confirmed.\n",
    "\n",
    "These examples are somehow theoretical because we cherry-pick the Faust we know the RCG is good to accelerate the muplication, but at least it shows the potential speedup using Faust objects."
   ]
  },
  {
   "cell_type": "markdown",
   "metadata": {},
   "source": [
    "### 2.4 Faust Norms\n",
    "\n",
    "The Faust class provides a norm function which handles different types of norms. \n",
    "This function is really close to```numpy.linalg.norm```function.\n",
    "\n",
    "In the following example, the three of four norms available are computed."
   ]
  },
  {
   "cell_type": "code",
   "execution_count": 223,
   "metadata": {},
   "outputs": [
    {
     "data": {
      "text/plain": [
       "149.9249886324194"
      ]
     },
     "execution_count": 223,
     "metadata": {},
     "output_type": "execute_result"
    }
   ],
   "source": [
    "F.norm(1)"
   ]
  },
  {
   "cell_type": "code",
   "execution_count": 224,
   "metadata": {},
   "outputs": [
    {
     "data": {
      "text/plain": [
       "123.66217139381416"
      ]
     },
     "execution_count": 224,
     "metadata": {},
     "output_type": "execute_result"
    }
   ],
   "source": [
    "import math\n",
    "F.norm(math.inf)"
   ]
  },
  {
   "cell_type": "code",
   "execution_count": 225,
   "metadata": {},
   "outputs": [
    {
     "data": {
      "text/plain": [
       "98.0194847633197"
      ]
     },
     "execution_count": 225,
     "metadata": {},
     "output_type": "execute_result"
    }
   ],
   "source": [
    "F.norm('fro')"
   ]
  },
  {
   "cell_type": "markdown",
   "metadata": {},
   "source": [
    "Now, check the values are not far from the Faust's dense matrix."
   ]
  },
  {
   "cell_type": "code",
   "execution_count": 226,
   "metadata": {},
   "outputs": [
    {
     "data": {
      "text/plain": [
       "149.9249886324194"
      ]
     },
     "execution_count": 226,
     "metadata": {},
     "output_type": "execute_result"
    }
   ],
   "source": [
    "from numpy.linalg import norm\n",
    "norm(F.todense(),1)"
   ]
  },
  {
   "cell_type": "code",
   "execution_count": 227,
   "metadata": {},
   "outputs": [
    {
     "data": {
      "text/plain": [
       "123.66217139381415"
      ]
     },
     "execution_count": 227,
     "metadata": {},
     "output_type": "execute_result"
    }
   ],
   "source": [
    "norm(F.todense(),math.inf)"
   ]
  },
  {
   "cell_type": "code",
   "execution_count": 228,
   "metadata": {},
   "outputs": [
    {
     "data": {
      "text/plain": [
       "98.01948476331971"
      ]
     },
     "execution_count": 228,
     "metadata": {},
     "output_type": "execute_result"
    }
   ],
   "source": [
    "norm(F.todense(), 'fro')"
   ]
  },
  {
   "cell_type": "markdown",
   "metadata": {},
   "source": [
    "Perfect! But a last norm is available, this is the Faust's 2-norm. Let's see in the next small benchmark how the Faust 2-norm is being computed faster than the Faust's dense matrix 2-norm. "
   ]
  },
  {
   "cell_type": "code",
   "execution_count": 230,
   "metadata": {},
   "outputs": [
    {
     "name": "stdout",
     "output_type": "stream",
     "text": [
      "13.1 µs ± 1.52 µs per loop (mean ± std. dev. of 7 runs, 10000 loops each)\n"
     ]
    }
   ],
   "source": [
    "timeit -n 10000 F.norm(2)"
   ]
  },
  {
   "cell_type": "code",
   "execution_count": 231,
   "metadata": {},
   "outputs": [
    {
     "name": "stdout",
     "output_type": "stream",
     "text": [
      "59.8 µs ± 4.92 µs per loop (mean ± std. dev. of 7 runs, 10000 loops each)\n"
     ]
    }
   ],
   "source": [
    "timeit -n 10000 norm(FD,2)"
   ]
  },
  {
   "cell_type": "markdown",
   "metadata": {},
   "source": [
    "The power-iteration algorithm implemented in the FAµST C++ core is faster and the relative error is good too."
   ]
  },
  {
   "cell_type": "code",
   "execution_count": 236,
   "metadata": {},
   "outputs": [
    {
     "data": {
      "text/plain": [
       "2.900969891447302e-16"
      ]
     },
     "execution_count": 236,
     "metadata": {},
     "output_type": "execute_result"
    }
   ],
   "source": [
    "err = abs((F.norm(2)-norm(FD,2))/norm(FD,2))\n",
    "err"
   ]
  },
  {
   "cell_type": "markdown",
   "metadata": {},
   "source": [
    "### 2.5 Faust Normalizations"
   ]
  },
  {
   "cell_type": "markdown",
   "metadata": {},
   "source": [
    "The FAµST API proposes a group of normalizations. They correspond to the norms available and discussed above.\n",
    "\n",
    "It's possible to normalize along columns or rows with any type of these norms."
   ]
  },
  {
   "cell_type": "code",
   "execution_count": 237,
   "metadata": {},
   "outputs": [],
   "source": [
    "NF = F.normalize()"
   ]
  },
  {
   "cell_type": "code",
   "execution_count": 239,
   "metadata": {},
   "outputs": [
    {
     "name": "stdout",
     "output_type": "stream",
     "text": [
      "Help on method normalize in module pyfaust:\n",
      "\n",
      "normalize(ord='fro', axis=1) method of pyfaust.Faust instance\n",
      "    Normalize F along the axis dimension using the ord-norm.\n",
      "    \n",
      "    Args:\n",
      "        ord: the norm order to use (see Faust.norm).\n",
      "        axis: if 1 the columns are normalized, if 0 the rows.\n",
      "    \n",
      "    Returns:\n",
      "        the normalized Faust\n",
      "    \n",
      "    <b/> See also: Faust.norm\n",
      "\n"
     ]
    }
   ],
   "source": [
    "# Consult the doc\n",
    "help(F.normalize)"
   ]
  },
  {
   "cell_type": "markdown",
   "metadata": {},
   "source": [
    "What's interesting here is the fact that```Faust.normalize```returns a Faust object. It's useful to rewrite algorithms like OMP upon FAµST API (as well as slicing as you'll see in next section).\n",
    "\n",
    "The normalization coded in C++ is memory optimized by not constructed the dense matrix to retrieve any column or row. In the same goal the factors composing the Faust object NF are not duplicated in memory, they're used as is with an additional factor giving the appropriate scaling."
   ]
  },
  {
   "cell_type": "code",
   "execution_count": 240,
   "metadata": {},
   "outputs": [
    {
     "data": {
      "text/plain": [
       "Faust size 10x10, density 2.5, nnz_sum 250, 5 factor(s): \n",
       "- FACTOR 0 (real) SPARSE, size 10x10, density 0.5, nnz 50\n",
       "- FACTOR 1 (real) SPARSE, size 10x10, density 0.5, nnz 50\n",
       "- FACTOR 2 (real) SPARSE, size 10x10, density 0.5, nnz 50\n",
       "- FACTOR 3 (real) DENSE, size 10x10, density 0.5, nnz 50\n",
       "- FACTOR 4 (real) DENSE, size 10x10, density 0.5, nnz 50"
      ]
     },
     "execution_count": 240,
     "metadata": {},
     "output_type": "execute_result"
    }
   ],
   "source": [
    "F"
   ]
  },
  {
   "cell_type": "code",
   "execution_count": 241,
   "metadata": {},
   "outputs": [
    {
     "data": {
      "text/plain": [
       "Faust size 10x10, density 2.6, nnz_sum 260, 6 factor(s): \n",
       "- FACTOR 0 (real) SPARSE, size 10x10, density 0.5, nnz 50\n",
       "- FACTOR 1 (real) SPARSE, size 10x10, density 0.5, nnz 50\n",
       "- FACTOR 2 (real) SPARSE, size 10x10, density 0.5, nnz 50\n",
       "- FACTOR 3 (real) DENSE, size 10x10, density 0.5, nnz 50\n",
       "- FACTOR 4 (real) DENSE, size 10x10, density 0.5, nnz 50\n",
       "- FACTOR 5 (real) SPARSE, size 10x10, density 0.1, nnz 10"
      ]
     },
     "execution_count": 241,
     "metadata": {},
     "output_type": "execute_result"
    }
   ],
   "source": [
    "NF"
   ]
  },
  {
   "cell_type": "code",
   "execution_count": 242,
   "metadata": {},
   "outputs": [
    {
     "data": {
      "text/plain": [
       "matrix([[0.02252205, 0.        , 0.        , 0.        , 0.        ,\n",
       "         0.        , 0.        , 0.        , 0.        , 0.        ],\n",
       "        [0.        , 0.05162494, 0.        , 0.        , 0.        ,\n",
       "         0.        , 0.        , 0.        , 0.        , 0.        ],\n",
       "        [0.        , 0.        , 0.04585192, 0.        , 0.        ,\n",
       "         0.        , 0.        , 0.        , 0.        , 0.        ],\n",
       "        [0.        , 0.        , 0.        , 0.03348355, 0.        ,\n",
       "         0.        , 0.        , 0.        , 0.        , 0.        ],\n",
       "        [0.        , 0.        , 0.        , 0.        , 0.09323306,\n",
       "         0.        , 0.        , 0.        , 0.        , 0.        ],\n",
       "        [0.        , 0.        , 0.        , 0.        , 0.        ,\n",
       "         0.06496424, 0.        , 0.        , 0.        , 0.        ],\n",
       "        [0.        , 0.        , 0.        , 0.        , 0.        ,\n",
       "         0.        , 0.02781806, 0.        , 0.        , 0.        ],\n",
       "        [0.        , 0.        , 0.        , 0.        , 0.        ,\n",
       "         0.        , 0.        , 0.03020248, 0.        , 0.        ],\n",
       "        [0.        , 0.        , 0.        , 0.        , 0.        ,\n",
       "         0.        , 0.        , 0.        , 0.03488806, 0.        ],\n",
       "        [0.        , 0.        , 0.        , 0.        , 0.        ,\n",
       "         0.        , 0.        , 0.        , 0.        , 0.02071012]])"
      ]
     },
     "execution_count": 242,
     "metadata": {},
     "output_type": "execute_result"
    }
   ],
   "source": [
    "NF.get_factor(5).todense()"
   ]
  },
  {
   "cell_type": "code",
   "execution_count": 243,
   "metadata": {},
   "outputs": [
    {
     "data": {
      "text/plain": [
       "1.3515604385849657e-15"
      ]
     },
     "execution_count": 243,
     "metadata": {},
     "output_type": "execute_result"
    }
   ],
   "source": [
    "cumerr = 0\n",
    "for i in range(0,F.shape[1]): \n",
    "    cumerr += norm(NF.todense()[:,i]-F.todense()[:,i]/norm(F.todense()[:,i]))\n",
    "cumerr"
   ]
  },
  {
   "cell_type": "markdown",
   "metadata": {},
   "source": [
    "And as you see it works!"
   ]
  },
  {
   "cell_type": "markdown",
   "metadata": {},
   "source": [
    "### 2.6 Faust Concatenation"
   ]
  },
  {
   "cell_type": "markdown",
   "metadata": {},
   "source": [
    "You're probably aware of numpy arrays concatenation otherwise look this example."
   ]
  },
  {
   "cell_type": "code",
   "execution_count": 244,
   "metadata": {},
   "outputs": [
    {
     "data": {
      "text/plain": [
       "array([[0.05677133, 0.50300101, 0.96906622, 0.75729618, 0.32473056],\n",
       "       [0.75604179, 0.07592   , 0.38007509, 0.14656769, 0.79131236],\n",
       "       [0.32951012, 0.42831526, 0.41631373, 0.04308862, 0.93425761],\n",
       "       [0.75728007, 0.9777935 , 0.73302798, 0.20653527, 0.63505049],\n",
       "       [0.59559144, 0.3389465 , 0.53366506, 0.83145064, 0.04132732],\n",
       "       [1.        , 0.        , 0.        , 0.        , 0.        ],\n",
       "       [0.        , 1.        , 0.        , 0.        , 0.        ],\n",
       "       [0.        , 0.        , 1.        , 0.        , 0.        ],\n",
       "       [0.        , 0.        , 0.        , 1.        , 0.        ],\n",
       "       [0.        , 0.        , 0.        , 0.        , 1.        ]])"
      ]
     },
     "execution_count": 244,
     "metadata": {},
     "output_type": "execute_result"
    }
   ],
   "source": [
    "from numpy.random import rand\n",
    "from numpy import eye, concatenate\n",
    "M = rand(5,5)\n",
    "I = eye(5,5)\n",
    "concatenate((M,I))"
   ]
  },
  {
   "cell_type": "code",
   "execution_count": 246,
   "metadata": {},
   "outputs": [
    {
     "data": {
      "text/plain": [
       "array([[0.05677133, 0.50300101, 0.96906622, 0.75729618, 0.32473056,\n",
       "        1.        , 0.        , 0.        , 0.        , 0.        ],\n",
       "       [0.75604179, 0.07592   , 0.38007509, 0.14656769, 0.79131236,\n",
       "        0.        , 1.        , 0.        , 0.        , 0.        ],\n",
       "       [0.32951012, 0.42831526, 0.41631373, 0.04308862, 0.93425761,\n",
       "        0.        , 0.        , 1.        , 0.        , 0.        ],\n",
       "       [0.75728007, 0.9777935 , 0.73302798, 0.20653527, 0.63505049,\n",
       "        0.        , 0.        , 0.        , 1.        , 0.        ],\n",
       "       [0.59559144, 0.3389465 , 0.53366506, 0.83145064, 0.04132732,\n",
       "        0.        , 0.        , 0.        , 0.        , 1.        ]])"
      ]
     },
     "execution_count": 246,
     "metadata": {},
     "output_type": "execute_result"
    }
   ],
   "source": [
    "# it was vertical concatenation, now let's concatenate horizontally\n",
    "concatenate((M,I), axis=1)"
   ]
  },
  {
   "cell_type": "markdown",
   "metadata": {},
   "source": [
    "As you I'm sure you guessed that likewise you can concatenate Faust objects."
   ]
  },
  {
   "cell_type": "code",
   "execution_count": 250,
   "metadata": {},
   "outputs": [
    {
     "data": {
      "text/plain": [
       "Faust size 20x10, density 2.6, nnz_sum 520, 6 factor(s): \n",
       "- FACTOR 0 (real) SPARSE, size 20x20, density 0.25, nnz 100\n",
       "- FACTOR 1 (real) SPARSE, size 20x20, density 0.25, nnz 100\n",
       "- FACTOR 2 (real) SPARSE, size 20x20, density 0.25, nnz 100\n",
       "- FACTOR 3 (real) SPARSE, size 20x20, density 0.25, nnz 100\n",
       "- FACTOR 4 (real) SPARSE, size 20x20, density 0.25, nnz 100\n",
       "- FACTOR 5 (real) SPARSE, size 20x10, density 0.1, nnz 20"
      ]
     },
     "execution_count": 250,
     "metadata": {},
     "output_type": "execute_result"
    }
   ],
   "source": [
    "F.concatenate(F)"
   ]
  },
  {
   "cell_type": "code",
   "execution_count": 251,
   "metadata": {},
   "outputs": [],
   "source": [
    "C = F.concatenate(F, axis=1)"
   ]
  },
  {
   "cell_type": "code",
   "execution_count": 252,
   "metadata": {},
   "outputs": [
    {
     "data": {
      "text/plain": [
       "matrix([[0., 0., 0., 0., 0., 0., 0., 0., 0., 0., 0., 0., 0., 0., 0., 0.,\n",
       "         0., 0., 0., 0.],\n",
       "        [0., 0., 0., 0., 0., 0., 0., 0., 0., 0., 0., 0., 0., 0., 0., 0.,\n",
       "         0., 0., 0., 0.],\n",
       "        [0., 0., 0., 0., 0., 0., 0., 0., 0., 0., 0., 0., 0., 0., 0., 0.,\n",
       "         0., 0., 0., 0.],\n",
       "        [0., 0., 0., 0., 0., 0., 0., 0., 0., 0., 0., 0., 0., 0., 0., 0.,\n",
       "         0., 0., 0., 0.],\n",
       "        [0., 0., 0., 0., 0., 0., 0., 0., 0., 0., 0., 0., 0., 0., 0., 0.,\n",
       "         0., 0., 0., 0.],\n",
       "        [0., 0., 0., 0., 0., 0., 0., 0., 0., 0., 0., 0., 0., 0., 0., 0.,\n",
       "         0., 0., 0., 0.],\n",
       "        [0., 0., 0., 0., 0., 0., 0., 0., 0., 0., 0., 0., 0., 0., 0., 0.,\n",
       "         0., 0., 0., 0.],\n",
       "        [0., 0., 0., 0., 0., 0., 0., 0., 0., 0., 0., 0., 0., 0., 0., 0.,\n",
       "         0., 0., 0., 0.],\n",
       "        [0., 0., 0., 0., 0., 0., 0., 0., 0., 0., 0., 0., 0., 0., 0., 0.,\n",
       "         0., 0., 0., 0.],\n",
       "        [0., 0., 0., 0., 0., 0., 0., 0., 0., 0., 0., 0., 0., 0., 0., 0.,\n",
       "         0., 0., 0., 0.]])"
      ]
     },
     "execution_count": 252,
     "metadata": {},
     "output_type": "execute_result"
    }
   ],
   "source": [
    "C.todense()-concatenate((F.todense(), F.todense()),axis=1)"
   ]
  },
  {
   "cell_type": "markdown",
   "metadata": {},
   "source": [
    "The difference of the two concatenations is full of zeros, so of course it works!\n",
    "\n",
    "As you noticed the Faust concatenation is stable, you give two Fausts and you get a Faust again.\n",
    "Besides, it's possible to concatenate an arbitrary number of Faust objects.\n"
   ]
  },
  {
   "cell_type": "code",
   "execution_count": 253,
   "metadata": {},
   "outputs": [
    {
     "data": {
      "text/plain": [
       "Faust size 10x70, density 2.72857, nnz_sum 1910, 9 factor(s): \n",
       "- FACTOR 0 (real) SPARSE, size 10x20, density 0.1, nnz 20\n",
       "- FACTOR 1 (real) SPARSE, size 20x30, density 0.05, nnz 30\n",
       "- FACTOR 2 (real) SPARSE, size 30x40, density 0.0333333, nnz 40\n",
       "- FACTOR 3 (real) SPARSE, size 40x70, density 0.025, nnz 70\n",
       "- FACTOR 4 (real) SPARSE, size 70x70, density 0.0714286, nnz 350\n",
       "- FACTOR 5 (real) SPARSE, size 70x70, density 0.0714286, nnz 350\n",
       "- FACTOR 6 (real) SPARSE, size 70x70, density 0.0714286, nnz 350\n",
       "- FACTOR 7 (real) SPARSE, size 70x70, density 0.0714286, nnz 350\n",
       "- FACTOR 8 (real) SPARSE, size 70x70, density 0.0714286, nnz 350"
      ]
     },
     "execution_count": 253,
     "metadata": {},
     "output_type": "execute_result"
    }
   ],
   "source": [
    "F.concatenate(F, C, C, F, axis=1)"
   ]
  },
  {
   "cell_type": "markdown",
   "metadata": {},
   "source": [
    "As an exercise, you can write the factors of the Faust ```F.concatenate(F)```, F being any Faust. \n",
    "\n",
    "**Hint**: the block-diagonal matrices are around here."
   ]
  },
  {
   "cell_type": "markdown",
   "metadata": {},
   "source": [
    "### 2.7 Faust Indexing and Slicing"
   ]
  },
  {
   "cell_type": "markdown",
   "metadata": {},
   "source": [
    "Sometimes you need to consult the Faust's dense matrix or even an element of it (by the way, take in note that it's costful).\n",
    "\n",
    "Let's access a Faust item:"
   ]
  },
  {
   "cell_type": "code",
   "execution_count": 254,
   "metadata": {},
   "outputs": [
    {
     "data": {
      "text/plain": [
       "6.492809504838681"
      ]
     },
     "execution_count": 254,
     "metadata": {},
     "output_type": "execute_result"
    }
   ],
   "source": [
    "F[2,3]"
   ]
  },
  {
   "cell_type": "raw",
   "metadata": {},
   "source": [
    "Why is costful? Because it computes the whole product to access one item."
   ]
  },
  {
   "cell_type": "code",
   "execution_count": 255,
   "metadata": {},
   "outputs": [
    {
     "name": "stdout",
     "output_type": "stream",
     "text": [
      "33.4 µs ± 3.54 µs per loop (mean ± std. dev. of 7 runs, 10000 loops each)\n"
     ]
    }
   ],
   "source": [
    "timeit F[2,3]"
   ]
  },
  {
   "cell_type": "code",
   "execution_count": 256,
   "metadata": {},
   "outputs": [
    {
     "name": "stdout",
     "output_type": "stream",
     "text": [
      "146 ns ± 4.83 ns per loop (mean ± std. dev. of 7 runs, 10000000 loops each)\n"
     ]
    }
   ],
   "source": [
    "timeit FD[2,3]"
   ]
  },
  {
   "cell_type": "markdown",
   "metadata": {},
   "source": [
    "It's totally the same syntax as numpy but much slower so use it with care. \n",
    "\n",
    "The more advanced slicing operation uses also the same syntax as numpy:"
   ]
  },
  {
   "cell_type": "code",
   "execution_count": 257,
   "metadata": {},
   "outputs": [
    {
     "data": {
      "text/plain": [
       "Faust size 3x7, density 9.52381, nnz_sum 200, 5 factor(s): \n",
       "- FACTOR 0 (real) SPARSE, size 3x10, density 0.5, nnz 15\n",
       "- FACTOR 1 (real) SPARSE, size 10x10, density 0.5, nnz 50\n",
       "- FACTOR 2 (real) SPARSE, size 10x10, density 0.5, nnz 50\n",
       "- FACTOR 3 (real) DENSE, size 10x10, density 0.5, nnz 50\n",
       "- FACTOR 4 (real) DENSE, size 10x7, density 0.5, nnz 35"
      ]
     },
     "execution_count": 257,
     "metadata": {},
     "output_type": "execute_result"
    }
   ],
   "source": [
    "F[2:5, 3:10]"
   ]
  },
  {
   "cell_type": "markdown",
   "metadata": {},
   "source": [
    "Here again, the result is another Faust. But this is not a full copy, it makes profit of memory views implemented behind in C++. Solely the first and last factors of the sliced Faust are new in memory, the other are just referenced from the initial Faust F. So use it with no worry for a Faust with a lot of factors!\n"
   ]
  },
  {
   "cell_type": "markdown",
   "metadata": {},
   "source": [
    "The numpy's fancy indexing has also been implemented in the FAµST C++ core, let's try it:"
   ]
  },
  {
   "cell_type": "code",
   "execution_count": 258,
   "metadata": {},
   "outputs": [
    {
     "data": {
      "text/plain": [
       "True"
      ]
     },
     "execution_count": 258,
     "metadata": {},
     "output_type": "execute_result"
    }
   ],
   "source": [
    "FI = F[[1,3,2],:]\n",
    "Faust.isFaust(FI)"
   ]
  },
  {
   "cell_type": "markdown",
   "metadata": {},
   "source": [
    "Again, it's a Faust but is it really working? Verify!"
   ]
  },
  {
   "cell_type": "code",
   "execution_count": 259,
   "metadata": {},
   "outputs": [
    {
     "data": {
      "text/plain": [
       "True"
      ]
     },
     "execution_count": 259,
     "metadata": {},
     "output_type": "execute_result"
    }
   ],
   "source": [
    "(FI.todense()[0] == F.todense()[1]).all() and \\\n",
    "(FI.todense()[1] == F.todense()[3]).all() and \\\n",
    "(FI.todense()[2] == F.todense()[2]).all()"
   ]
  },
  {
   "cell_type": "markdown",
   "metadata": {},
   "source": [
    "Yes it is!"
   ]
  },
  {
   "cell_type": "markdown",
   "metadata": {},
   "source": [
    "-----"
   ]
  },
  {
   "cell_type": "markdown",
   "metadata": {},
   "source": [
    "This is the notebook's end, you have now a global view of what the Faust class is able and what kind of high-level algorithms it is ready for. You might be interested to read other notebooks, just go back to the page where you got this one."
   ]
  }
 ],
 "metadata": {
  "kernelspec": {
   "display_name": "Python 3",
   "language": "python",
   "name": "python3"
  },
  "language_info": {
   "codemirror_mode": {
    "name": "ipython",
    "version": 3
   },
   "file_extension": ".py",
   "mimetype": "text/x-python",
   "name": "python",
   "nbconvert_exporter": "python",
   "pygments_lexer": "ipython3",
   "version": "3.6.8"
  }
 },
 "nbformat": 4,
 "nbformat_minor": 2
}
