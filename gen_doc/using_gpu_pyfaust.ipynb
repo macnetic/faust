{
 "cells": [
  {
   "cell_type": "markdown",
   "metadata": {},
   "source": [
    "# Using The GPU FAµST API\n",
    "\n",
    "In this notebook we'll see quickly how to leverage the GPU computing power with pyfaust.  \n",
    "Since pyfaust 2.9.0 the API has been modified to make the GPU available directly from the python wrapper.\n",
    "Indeed, a GPU plug-in (aka ``gpu_mod``) has been developed for this purpose.  \n",
    "\n",
    "The first question you might ask is: does it work on my computer? Here is the answer: the loading of this plug-in is quite transparent, if an NVIDIA GPU is available and CUDA is properly installed on your system, you have normally nothing to do except installing pyfaust to get the GPU implementations at your fingertips. We'll see at the end of this notebook how to load manually the plug-in and how to get further information in case of an error. \n",
    "\n",
    "It is worthy to note two drawbacks about the pyfaust GPU support:\n",
    "- Mac OS X is not supported because NVIDIA has stopped to support this OS.\n",
    "- On Windows and Linux, the pyfaust GPU support is currently limited to CUDA 9.2 version.\n",
    "\n",
    "In addition to these drawbacks, please notice that the GPU module support is still considered in beta status as the code is relatively young and still evolving. However the API shouldn't change / evolve that much in a near future."
   ]
  },
  {
   "cell_type": "markdown",
   "metadata": {},
   "source": [
    "### Creating a GPU Faust object\n",
    "\n",
    "Let's start with some basic Faust creation on the GPU. Almost all the ways of creating a Faust object in CPU memory are also available to create a GPU Faust.  \n",
    "First of all, creating a Faust using the constructor works seamlessly on GPU, the only need is to specify the ``dev`` keyword argument, as follows:\n"
   ]
  },
  {
   "cell_type": "code",
   "execution_count": null,
   "metadata": {},
   "outputs": [],
   "source": [
    "from pyfaust import Faust\n",
    "from numpy.random import rand\n",
    "M, N = rand(10,10), rand(10,15)\n",
    "gpuF = Faust([M, N], dev='gpu')\n",
    "gpuF"
   ]
  },
  {
   "cell_type": "markdown",
   "metadata": {},
   "source": [
    "It's clearly indicated in the output that the Faust object is instantiated in GPU memory (the N and M numpy arrays are copied from the CPU to the GPU memory). However it's also possible to check this programmatically:\n",
    "\n"
   ]
  },
  {
   "cell_type": "code",
   "execution_count": null,
   "metadata": {},
   "outputs": [],
   "source": [
    "gpuF.device"
   ]
  },
  {
   "cell_type": "markdown",
   "metadata": {},
   "source": [
    "While for a CPU Faust you'll get:"
   ]
  },
  {
   "cell_type": "code",
   "execution_count": null,
   "metadata": {},
   "outputs": [],
   "source": [
    "Faust([M, N], dev='cpu').device"
   ]
  },
  {
   "cell_type": "markdown",
   "metadata": {},
   "source": [
    "In ``gpuF`` the factors are dense matrices but it's totally possible to instantiate sparse matrices on the GPU as you can do on CPU side."
   ]
  },
  {
   "cell_type": "code",
   "execution_count": null,
   "metadata": {},
   "outputs": [],
   "source": [
    "from pyfaust import Faust\n",
    "from scipy.sparse import random, csr_matrix\n",
    "S, T = csr_matrix(random(10, 15, density=0.25)), csr_matrix(random(15, 10, density=0.05))\n",
    "sparse_gpuF = Faust([S, T], dev='gpu')\n",
    "sparse_gpuF"
   ]
  },
  {
   "cell_type": "markdown",
   "metadata": {},
   "source": [
    "You can also create a GPU Faust by explicitly copying a CPU Faust to the GPU memory. Actually, at anytime you can copy a CPU Faust to GPU and conversely. The ``clone()`` member function is here precisely for this purpose. Below we copy ``gpuF`` to CPU and back again to GPU in the new Faust ``gpuF2``."
   ]
  },
  {
   "cell_type": "code",
   "execution_count": null,
   "metadata": {},
   "outputs": [],
   "source": [
    "cpuF = gpuF.clone('cpu')\n",
    "gpuF2 = cpuF.clone('gpu')\n",
    "gpuF2"
   ]
  },
  {
   "cell_type": "markdown",
   "metadata": {},
   "source": [
    "## Generating a GPU Faust\n",
    "\n",
    "Many of the functions for generating a Faust object on CPU are available on GPU too. It is always the same, you precise the ``dev`` argument by assigning the ``'gpu'`` value and you'll get a GPU Faust instead of a CPU Faust.\n",
    "\n",
    "For example, the code below will successively create a random GPU Faust, a Hadamard transform GPU Faust and finally an identity GPU Faust.\n",
    "Note that the [dft](https://faustgrp.gitlabpages.inria.fr/faust/last-doc/html/namespacepyfaust.html#aa29a92f23ffb210ad9bdcdc4c740c2b2) function is not yet available as the complex GPU support is not yet linked into the pyfaust wrapper (even if the C++ core is already complex-compatible)."
   ]
  },
  {
   "cell_type": "code",
   "execution_count": null,
   "metadata": {},
   "outputs": [],
   "source": [
    "from pyfaust import rand  as frand, eye as feye, wht\n",
    "print(\"Random GPU Faust:\", frand(10,10, num_factors=11, dev='gpu'))\n",
    "print(\"Hadamard GPU Faust:\", wht(32, dev='gpu'))\n",
    "print(\"Identity GPU Faust:\", feye(16, dev='gpu'))"
   ]
  },
  {
   "cell_type": "markdown",
   "metadata": {},
   "source": [
    "### Manipulating GPU Fausts and CPU interoperability\n",
    "\n",
    "Once you've created GPU Faust objects, you can perform operations on them staying in GPU world (that is, with no array transfer to CPU memory). That's of course not always possible.\n",
    "For example, let's consider Faust-scalar multiplication and Faust-matrix product. In the first case the scalar is copied to the GPU memory and likewise in the second case the matrix is copied from CPU to GPU in order to proceed to the computation. However in both cases the Faust factors stay into GPU memory and don't move during the computation."
   ]
  },
  {
   "cell_type": "code",
   "execution_count": null,
   "metadata": {},
   "outputs": [],
   "source": [
    "# Faust-scalar multiplication\n",
    "2*gpuF"
   ]
  },
  {
   "cell_type": "markdown",
   "metadata": {},
   "source": [
    "As you see the first factor's address has changed in the result compared to what it was in ``gpuF``. Indeed, when you make a scalar multiplication only one factor is multiplied, the others don't change, they are shared between the Faust being multiplied and the resulting Faust. This is an optimization and to go further in this direction the factor chosen to by multiplied is the smallest in memory (not necessarily the first one)."
   ]
  },
  {
   "cell_type": "code",
   "execution_count": null,
   "metadata": {},
   "outputs": [],
   "source": [
    "# Faust-matrix product (the matrix is copied to GPU \n",
    "# then the multiplication is performed on GPU)\n",
    "gpuF@rand(gpuF.shape[1],15)"
   ]
  },
  {
   "cell_type": "markdown",
   "metadata": {},
   "source": [
    "On the contrary, and that matters for optimization, there is no CPU-GPU transfer at all when you create another GPU Faust named for example ``gpuF2`` on the GPU and decide to multiply the two of them like this:"
   ]
  },
  {
   "cell_type": "code",
   "execution_count": null,
   "metadata": {},
   "outputs": [],
   "source": [
    "from pyfaust import rand as frand\n",
    "gpuF2 = frand(gpuF.shape[1],18, dev='gpu')\n",
    "gpuF3 = gpuF@gpuF2\n",
    "gpuF3"
   ]
  },
  {
   "cell_type": "markdown",
   "metadata": {},
   "source": [
    "Besides, it's important to note that ``gpuF3`` factors are not duplicated in memory because they already exist for ``gpuF`` and ``gpuF2``, that's an extra optimization: ``gpuF3`` is just a memory view of the factors of ``gpuF`` and ``gpuF2`` (the same GPU arrays are shared between ``Faust`` objects). That works pretty well the same for CPU ``Faust`` objects.\n",
    "\n",
    "Finally, please notice that CPU Faust objects are not directly interoperable with GPU Fausts objects. You can try, it'll end up with an error."
   ]
  },
  {
   "cell_type": "code",
   "execution_count": null,
   "metadata": {},
   "outputs": [],
   "source": [
    "cpuF = frand(5,5,5, dev='cpu')\n",
    "gpuF = frand(5,5,6, dev='gpu')\n",
    "try:\n",
    "    print(\"A first try to multiply a CPU Faust with a GPU one...\")\n",
    "    cpuF@gpuF\n",
    "except:\n",
    "    print(\"it doesn't work, you must either convert cpuF to a GPU Faust or gpuF to a CPU Faust before.\")\n",
    "print(\"A second try using conversion as needed...\")\n",
    "print(cpuF.clone('gpu')@gpuF) # this is what you should do\n",
    "print(\"Now it works!\")"
   ]
  },
  {
   "cell_type": "markdown",
   "metadata": {},
   "source": [
    "### Benchmarking your GPU with pyfaust!\n",
    "\n",
    "Of course when we run some code on GPU rather than on CPU, it is clearly to enhance the performances. So let's try your GPU and find out if it is worth it or not compared to your CPU.\n",
    "\n",
    "First, measure how much time it takes on CPU to compute a Faust norm and the dense array corresponding to the product of its factors:\n",
    "\n"
   ]
  },
  {
   "cell_type": "code",
   "execution_count": null,
   "metadata": {},
   "outputs": [],
   "source": [
    "from pyfaust import rand as frand\n",
    "cpuF = frand(1024, 1024, num_factors=10, fac_type='dense')\n",
    "%timeit cpuF.norm(2)\n",
    "%timeit cpuF.toarray()"
   ]
  },
  {
   "cell_type": "markdown",
   "metadata": {},
   "source": [
    "Now let's make some GPU heat with norms and matrix products!"
   ]
  },
  {
   "cell_type": "code",
   "execution_count": null,
   "metadata": {},
   "outputs": [],
   "source": [
    "gpuF = cpuF.clone(dev='gpu')\n",
    "%timeit gpuF.norm(2)\n",
    "%timeit gpuF.toarray()"
   ]
  },
  {
   "cell_type": "markdown",
   "metadata": {},
   "source": [
    "Of course not all GPUs are equal, below are the results I got using a Tesla V100:\n",
    "```\n",
    "6.85 ms ± 9.06 µs per loop (mean ± std. dev. of 7 runs, 100 loops each)\n",
    "6.82 ms ± 90.1 µs per loop (mean ± std. dev. of 7 runs, 100 loops each)\n",
    "\n",
    "```\n",
    "\n",
    "Likewise let's compare the performance obtained for a sparse Faust:"
   ]
  },
  {
   "cell_type": "code",
   "execution_count": null,
   "metadata": {},
   "outputs": [],
   "source": [
    "from pyfaust import rand as frand\n",
    "cpuF2 = frand(1024, 1024, num_factors=10, fac_type='sparse', density=.2)\n",
    "gpuF2 = cpuF2.clone(dev='gpu')\n",
    "print(\"CPU times:\")\n",
    "%timeit cpuF2.norm(2)\n",
    "%timeit cpuF2.toarray()\n",
    "print(\"GPU times:\")\n",
    "%timeit gpuF2.norm(2)\n",
    "%timeit gpuF2.toarray()"
   ]
  },
  {
   "cell_type": "markdown",
   "metadata": {},
   "source": [
    "On a Tesla V100 it gives these results:\n",
    "```\n",
    "9.86 ms ± 3 ms per loop (mean ± std. dev. of 7 runs, 1 loop each)\n",
    "13.8 ms ± 39.4 µs per loop (mean ± std. dev. of 7 runs, 100 loops each)\n",
    "```"
   ]
  },
  {
   "cell_type": "markdown",
   "metadata": {},
   "source": [
    "### Running some FAµST algorithms on GPU\n",
    "\n",
    "Some of the FAµST algorithms implemented in the C++ core are now also available in pure GPU mode.\n",
    "For example, let's compare the factorization times taken by the hierarchical factorization when launched on CPU and GPU.\n",
    "When running on GPU, the matrix to factorize is copied in GPU memory and almost all operations executed during the algorithm don't imply the CPU in any manner (the only exception at this stage of development is the proximal operators that only run on CPU).\n",
    "\n",
    "**Warning: THE COMPUTATION CAN LAST THIRTY MINUTES OR SO ON CPU**"
   ]
  },
  {
   "cell_type": "code",
   "execution_count": null,
   "metadata": {},
   "outputs": [],
   "source": [
    "def factorize_MEG(dev='cpu'):\n",
    "    from pyfaust.fact import hierarchical\n",
    "    from scipy.io import loadmat\n",
    "    from pyfaust.demo import get_data_dirpath\n",
    "    from time import time\n",
    "    from numpy.linalg import norm\n",
    "    d = loadmat(get_data_dirpath()+'/matrix_MEG.mat')\n",
    "    MEG = d['matrix'].T\n",
    "    num_facts = 9\n",
    "    k = 10\n",
    "    s = 8\n",
    "    t_start = time()\n",
    "    MEG16 = hierarchical(MEG, ['rectmat', num_facts, k, s], backend=2020, on_gpu=dev=='gpu', full_gpu=dev=='gpu')\n",
    "    total_time = time()-t_start\n",
    "    err = norm(MEG16.toarray()-MEG)/norm(MEG)\n",
    "    return MEG16, total_time, err"
   ]
  },
  {
   "cell_type": "code",
   "execution_count": null,
   "metadata": {},
   "outputs": [],
   "source": [
    "gpuMEG16, gpu_time, gpu_err = factorize_MEG(dev='gpu')\n",
    "print(\"GPU time, error:\", gpu_time, gpu_err)"
   ]
  },
  {
   "cell_type": "code",
   "execution_count": null,
   "metadata": {},
   "outputs": [],
   "source": [
    "cpuMEG16, cpu_time, cpu_err = factorize_MEG(dev='cpu')\n",
    "print(\"CPU time, error:\", cpu_time, cpu_err)"
   ]
  },
  {
   "cell_type": "markdown",
   "metadata": {},
   "source": [
    "Depending on you GPU card and CPU the results may vary, so below are showed some results obtained on specific hardware.\n",
    "\n",
    "<table align=\"left\">\n",
    "    <tr align=\"center\">\n",
    "        <th>Implementation</th> \n",
    "        <th> Hardware </th>\n",
    "        <th> Time </th> \n",
    "        <th>Error Faust vs MEG matrix </th>\n",
    "    </tr>\n",
    "    <tr>\n",
    "        <td>CPU</td>\n",
    "        <td>Intel(R) Xeon(R) CPU E5-2620 0 @ 2.00GHz</td>\n",
    "        <td>2230.77</td>\n",
    "        <td>.129</td>\n",
    "    </tr>\n",
    "    <tr>\n",
    "        <td>GPU</td>\n",
    "        <td>NVIDIA GTX980</td>\n",
    "        <td>465.42</td>\n",
    "        <td>.129</td>\n",
    "    </tr>\n",
    "    <tr>\n",
    "        <td>GPU</td>\n",
    "        <td>NVIDIA Tesla V100</td>\n",
    "        <td>321.50</td>\n",
    "        <td>.129</td>\n",
    "    </tr>\n",
    "    </table>"
   ]
  },
  {
   "cell_type": "markdown",
   "metadata": {},
   "source": [
    "### Manually loading the pyfaust GPU plug-in\n",
    "\n",
    "If something goes wrong when trying to use the GPU pyfaust extension, here is how to manually load the plug-in and obtain more information.\n",
    "\n",
    "The key is the function [enable_gpu_mod](https://faustgrp.gitlabpages.inria.fr/faust/last-doc/html/namespacepyfaust.html#aea03fff2525fc834f2a56e63fd30a54f). This function allows to give another try to ``gpu_mod`` loading with the verbose mode enabled."
   ]
  },
  {
   "cell_type": "code",
   "execution_count": null,
   "metadata": {},
   "outputs": [],
   "source": [
    "import pyfaust\n",
    "pyfaust.enable_gpu_mod(silent=False, fatal=True)"
   ]
  },
  {
   "cell_type": "markdown",
   "metadata": {},
   "source": [
    "Afterward you can call ``pyfaust.is_gpu_mod_enabled()`` to verify if it works in your script.\n",
    "\n",
    "Below I copy outputs that show what it should look like when it doesn't work:\n",
    "\n",
    "1) If you asked fatal error:\n",
    "\n",
    "```\n",
    "python -c \"import pyfaust; pyfaust.enable_gpu_mod(silent=False, fatal=True)\"\n",
    "WARNING: you must call enable_gpu_mod() before using GPUModHandler singleton.\n",
    "loading libgm\n",
    "libcublas.so.9.2: cannot open shared object file: No such file or directory\n",
    "[...]\n",
    "Exception: Can't load gpu_mod library, maybe the path (/home/test/venv_pyfaust-2.10.14/lib/python3.7/site-packages/pyfaust/lib/libgm.so) is not correct or the backend (cuda) is not installed or configured properly so the libraries are not found.\n",
    "```\n",
    "\n",
    "2) If you just want a warning:\n",
    "\n",
    "```\n",
    "python -c \"import pyfaust; pyfaust.enable_gpu_mod(silent=False)\"\n",
    "WARNING: you must call enable_gpu_mod() before using GPUModHandler singleton.\n",
    "loading libgm\n",
    "libcublas.so.9.2: cannot open shared object file: No such file or directory\n",
    "```\n"
   ]
  },
  {
   "cell_type": "markdown",
   "metadata": {},
   "source": [
    "------------------------------------------------------------"
   ]
  },
  {
   "cell_type": "markdown",
   "metadata": {},
   "source": [
    "\n",
    "**Note**: this notebook was executed using the following pyfaust version:"
   ]
  },
  {
   "cell_type": "code",
   "execution_count": null,
   "metadata": {},
   "outputs": [],
   "source": [
    "import pyfaust\n",
    "pyfaust.version()"
   ]
  },
  {
   "cell_type": "markdown",
   "metadata": {},
   "source": [
    "Thanks for reading this notebook! Many other are available at [faust.inria.fr](https://faust.inria.fr)."
   ]
  }
 ],
 "metadata": {
  "kernelspec": {
   "display_name": "Python 3",
   "language": "python",
   "name": "python3"
  },
  "language_info": {
   "codemirror_mode": {
    "name": "ipython",
    "version": 3
   },
   "file_extension": ".py",
   "mimetype": "text/x-python",
   "name": "python",
   "nbconvert_exporter": "python",
   "pygments_lexer": "ipython3",
   "version": "3.7.3"
  }
 },
 "nbformat": 4,
 "nbformat_minor": 4
}
