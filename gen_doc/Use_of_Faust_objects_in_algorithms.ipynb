{
 "cells": [
  {
   "cell_type": "markdown",
   "metadata": {},
   "source": [
    "# Using the FAµST API in Algorithms\n",
    "\n",
    "After the little tour we've done in the previous notebooks, about the [creation of Faust objects](#creation_links), and their [manipulation](#manip_links), we shall see in this third notebook how the FAµST API can be deployed seamlessly in algorithms.\n",
    "Our example, already mentioned in the [second notebook](#manip_links), will be the Orthogonal Matching Pursuit algorithm (OMP).\n",
    "\n",
    "This algorithm comes up in the dictionary learning problem. Assuming that the reader is already familiar with this problem we will not treat the theory behind.\n",
    "There is not so much to say so let's go straight to the code example."
   ]
  },
  {
   "cell_type": "markdown",
   "metadata": {},
   "source": [
    "### 1. The Toy OMP Algorithm Implementation"
   ]
  },
  {
   "cell_type": "code",
   "execution_count": null,
   "metadata": {},
   "outputs": [],
   "source": [
    "from pyfaust import *\n",
    "from numpy import zeros, copy, argmax\n",
    "\n",
    "def tomp(y, D, niter):\n",
    "    nrows, ncols = D.shape\n",
    "    x = zeros((ncols,1))\n",
    "    supp = []\n",
    "    res = copy(y)\n",
    "    i = 0\n",
    "    K = min(nrows, ncols)\n",
    "    while (len(supp) < K and i < niter):\n",
    "        j = argmax(abs(D.T@res))\n",
    "        supp += [j] \n",
    "        x[supp,:] = pinv(D[:,supp])@y\n",
    "        res = y-D[:,supp]@x[supp,:]\n",
    "        i += 1\n",
    "    return x"
   ]
  },
  {
   "cell_type": "markdown",
   "metadata": {},
   "source": [
    "The most important point to notice in this code is that except the import part in the header, all the code seems to be a natural numpy implementation of OMP.  \n",
    "This is in fact the core philosophy of the FAµST API, as explained in previous notebooks and also in the API documentation, we made sure that a Faust can be seen as a numpy array. Hence this code is in fact totally compatible with the two APIs: the function argument D, which is the dictionary, can be indifferently a ``pyfaust.Faust`` object or a numpy array.  \n",
    "A secondary point is that this implementation is more like a toy concept (as indicated by the \"t\" in the function name). A more advanced and optimized version is introduced in the [last part of this notebook](#4.-An-OMP-Cholesky-Implementation). In particular this version allows to define the algorithm stopping criterion according to the error tolerance the user wants.\n",
    "\n",
    "Next we will test this implementation in both cases. But first, let us define a test case."
   ]
  },
  {
   "cell_type": "markdown",
   "metadata": {},
   "source": [
    "### 2. The Test Case Dictionary"
   ]
  },
  {
   "cell_type": "markdown",
   "metadata": {},
   "source": [
    "For convenience, we shall set up a dictionary which guarantees uniqueness of sufficiently sparse representations.\n",
    "The dictionary is the concatenation of an identity matrix and a Hadamard matrix, and because we work with Faust objects, this concatenation will be a Faust object.\n",
    "\n",
    "Below is the block matrix of our dictionary:  \n",
    "$\n",
    "D =\n",
    "\\left[\n",
    "\\begin{array}{c|c}\n",
    "I_n & H_n \\\\\n",
    "\\end{array}\n",
    "\\right]\n",
    "$\n",
    "\n",
    "$I_n$ is the identity matrix and $H_n$ the orthonormal Hadamard matrix, with n being a power of two.\n",
    "\n",
    "The condition on which the uniqueness of the sparse representation $x$ of a vector $y$  is ensured is defined by the following inequality:  \n",
    "$ \\| x \\|_0 < (1 + 1/\\mu)/2 $ where $\\mu$ denotes the coherence of the dictionary and in the case of our specially crafted dictionary $\\mu = {1 \\over \\sqrt n}$.\n",
    "\n",
    "So let's construct the Faust of D, compute y for a sparse enough x and test our OMP implementation to find out if we effectively retrieve this unique x as we should according to this theorem.\n",
    "\n",
    "Note that, for a better view and understanding you might consult this article [[1]](#[1])."
   ]
  },
  {
   "cell_type": "code",
   "execution_count": null,
   "metadata": {
    "scrolled": true
   },
   "outputs": [],
   "source": [
    "from pyfaust import eye, wht\n",
    "n = 128\n",
    "FD = hstack((eye(n), wht(n)))\n",
    "D = FD.toarray()\n",
    "print(D)"
   ]
  },
  {
   "cell_type": "markdown",
   "metadata": {},
   "source": [
    "Now that we have our dictionary both defined as a Faust (FD) and as a matrix (D), let's construct our reference sparse vector x, we'll call it $x_0$."
   ]
  },
  {
   "cell_type": "code",
   "execution_count": null,
   "metadata": {},
   "outputs": [],
   "source": [
    "from numpy import zeros, count_nonzero\n",
    "from numpy.random import randn, permutation as randperm\n",
    "from math import floor, sqrt\n",
    "x0 = zeros((2*n, 1)) # NB: FD.shape[1] == 2*n\n",
    "nnz = floor(.5*(1+sqrt(n)))\n",
    "nonzero_inds = randperm(2*n)[:nnz]\n",
    "# we got nnz indices, now build the vector x0\n",
    "x0[nonzero_inds,0] = randn()\n",
    "print(\"l0 norm of x0: \", count_nonzero(x0))"
   ]
  },
  {
   "cell_type": "markdown",
   "metadata": {},
   "source": [
    "It remains to compute $y$."
   ]
  },
  {
   "cell_type": "code",
   "execution_count": null,
   "metadata": {},
   "outputs": [],
   "source": [
    "y = FD@x0"
   ]
  },
  {
   "cell_type": "markdown",
   "metadata": {},
   "source": [
    "Our test case is complete, we are fully prepared to run the OMP algorithm using a well-defined dictionary as a Faust or as a numpy array, this should retrieve our $x_0$ from the vector y. Let's try!"
   ]
  },
  {
   "cell_type": "markdown",
   "metadata": {},
   "source": [
    "### 3. Running the Algorithm"
   ]
  },
  {
   "cell_type": "code",
   "execution_count": null,
   "metadata": {},
   "outputs": [],
   "source": [
    "x = tomp(y, FD, nnz)\n",
    "from numpy import allclose\n",
    "assert(allclose(x,x0))\n",
    "print(\"We succeeded to retrieve x0, OMP works!\")"
   ]
  },
  {
   "cell_type": "markdown",
   "metadata": {},
   "source": [
    "We tested OMP on a Faust, go ahead and verify what we were aiming at in the first part of the notebook: is this OMP implementation really working identically on a Faust and a numpy array?"
   ]
  },
  {
   "cell_type": "code",
   "execution_count": null,
   "metadata": {},
   "outputs": [],
   "source": [
    "x = tomp(y, D, nnz)\n",
    "assert(allclose(x,x0))\n",
    "print(\"We succeeded to retrieve x0, OMP works!\")"
   ]
  },
  {
   "cell_type": "markdown",
   "metadata": {},
   "source": [
    "We can conclude that the algorithm is indeed available to both numpy and Faust worlds, and we can imagine surely that other algorithms are reachable through the FAµST API. That's anyway in that purpose that the FAµST library will be extended if needed in the future."
   ]
  },
  {
   "cell_type": "markdown",
   "metadata": {},
   "source": [
    "### 4. An OMP-Cholesky Implementation\n",
    "\n",
    "Speaking of the OMP algorithm and the possibility to implement other optimization algorithms with FAµST, it would be a pity not to mention that the library is delivered with another implementation of OMP.  \n",
    "This implementation is actually an optimized version which takes advantage of the Cholesky factorization to simplify the least-square problem to solve at each iteration.\n",
    "This algorithm is implemented into the ``tools`` module of pyfaust."
   ]
  },
  {
   "cell_type": "code",
   "execution_count": null,
   "metadata": {},
   "outputs": [],
   "source": [
    "from pyfaust.tools import omp\n",
    "help(omp)"
   ]
  },
  {
   "cell_type": "markdown",
   "metadata": {},
   "source": [
    "This implementation is integrated into pyfaust as a tool for the Brain Source Localization (BSL) demo which is documented [here](https://faustgrp.gitlabpages.inria.fr/faust/last-doc/html/classpyfaust_1_1demo_1_1bsl.html).  \n",
    "To show off a little, let's run this demo.\n",
    "\n",
    "**Hint**: the demo takes a few minutes, it you find it too annoying to wait all this time you can jump to the next cell and render the precomputed data by changing the boolean ``use_precomputed_data`` to ``True``."
   ]
  },
  {
   "cell_type": "code",
   "execution_count": null,
   "metadata": {
    "scrolled": true
   },
   "outputs": [],
   "source": [
    "%%capture\n",
    "# It will take some time (sorry), many Faust-s are compared to the original MEG matrix\n",
    "# However running this cell is not mandatory, it'll be skipped if you switch use_precomputed_data to True in the next code cell\n",
    "from pyfaust.demo import bsl\n",
    "bsl.run()"
   ]
  },
  {
   "cell_type": "code",
   "execution_count": null,
   "metadata": {},
   "outputs": [],
   "source": [
    "%%capture --no-display\n",
    "%matplotlib inline\n",
    "from pyfaust.demo import bsl\n",
    "bsl.fig_time_cmp(use_precomputed_data=False)"
   ]
  },
  {
   "cell_type": "markdown",
   "metadata": {},
   "source": [
    "What we see in this figure is that it takes a few dozens of milliseconds (the median time) to compute the BSL experiment on the dense matrix M. This is well above the time it takes with Faust approximates $\\hat M_6$ to $\\hat M_{26}$ in which the numbers 6 and 26 denote the Faust [RCG](https://faustgrp.gitlabpages.inria.fr/faust/last-doc/html/classpyfaust_1_1Faust.html#a6a51a05c20041504a0b8f2a73dd8d05a). The greater the RCG the better the computation time is, as we already saw in the [notebook about Faust manipulations](#manip_links)."
   ]
  },
  {
   "cell_type": "markdown",
   "metadata": {},
   "source": [
    "As a complementary test, let's verify that the two runs of ``omp()`` on FD and D we constructed before for the toy OMP give the same results even if the vector to retrieve is not very sparse. Here for instance, $ \\| x_1 \\|_0 = 98 $"
   ]
  },
  {
   "cell_type": "code",
   "execution_count": null,
   "metadata": {},
   "outputs": [],
   "source": [
    "nnz = 98\n",
    "x1 = zeros((2*n, 1))\n",
    "nnz_inds = randperm(2*n)[:nnz]\n",
    "x1[nnz_inds, 0] = [randn() for i in range(0,nnz)]\n",
    "y = FD@x1\n",
    "x2 = omp(y, D, maxiter=nnz)\n",
    "x3 = omp(y, FD, maxiter=nnz)\n",
    "# verify if the solutions differ\n",
    "print(\"Are x2 and x3 solutions almost equal?\", norm(x2-x3)/norm(x3) < 10**-12)\n",
    "print(\"Is x1 retrieved into x2?\", allclose(x1,x2))\n",
    "print(\"Is x1 retrieved into x3?\", allclose(x1,x3))"
   ]
  },
  {
   "cell_type": "markdown",
   "metadata": {},
   "source": [
    "As expected, we didn't retrieve our starting x1 (the reason is the condition already discussed in [2.](#2.-The-Test-Case-Dictionary)). However let's mention that here again (like it was with the toy OMP) it works the same with the Faust API or with numpy.\n",
    "\n",
    "Finally, let's check the computation time for applying our dictionary to a vector both for the numpy and Faust versions. Although, in order to avoid major differences in results calculated on distinct computer configurations the comparison is performed on a larger dimension than before."
   ]
  },
  {
   "cell_type": "code",
   "execution_count": null,
   "metadata": {},
   "outputs": [],
   "source": [
    "from numpy.random import randn\n",
    "def dirac_hadamard(n):\n",
    "      FD = hstack((eye(n), wht(n)))\n",
    "      return FD\n",
    "n = 1024\n",
    "FD = dirac_hadamard(n)\n",
    "D = FD.toarray()\n",
    "x = randn(2*n,1)\n",
    "%timeit D@x\n",
    "%timeit FD@x"
   ]
  },
  {
   "cell_type": "markdown",
   "metadata": {},
   "source": [
    "For a dimension as smaller as 128, it's possible on particular machines to obtain a slower FD multiplication comparatively to the D multiplication.  \n",
    "This is essentially because the speedup offered by Faust appears rather for higher matrix dimensions.  \n",
    "Let us illustrate the speedup more generally by repeating the experiment for various dimensions n."
   ]
  },
  {
   "cell_type": "code",
   "execution_count": null,
   "metadata": {
    "scrolled": true
   },
   "outputs": [],
   "source": [
    "%matplotlib inline\n",
    "from numpy.random import randn\n",
    "from numpy import array\n",
    "from pyfaust import eye, wht\n",
    "from time import process_time\n",
    "from matplotlib.pyplot import (plot, show, \n",
    "                               legend, semilogy, \n",
    "                               xlabel, ylabel, \n",
    "                               title, scatter)\n",
    "\n",
    "\n",
    "\n",
    "d_times = []\n",
    "fd_times = []\n",
    "dims = []\n",
    "num_muls = 100\n",
    "for n in [2**i for i in range(8,13)]:\n",
    "      FD = dirac_hadamard(n)\n",
    "      D = FD.toarray()\n",
    "      x = randn(2*n,1)\n",
    "      dims += [n]\n",
    "      t = process_time()\n",
    "      [D@x for i in range(0,num_muls)]\n",
    "      d_times += [process_time()-t]\n",
    "      t = process_time()\n",
    "      [FD@x for i in range(0,num_muls)]\n",
    "      fd_times += [process_time()-t]\n",
    "p1 = semilogy(dims, fd_times, label=\"FD*x times\")\n",
    "p2 = semilogy(dims, d_times, label=\"D*x times\")\n",
    "xlabel(\"dimension\")\n",
    "ylabel(\"time\")\n",
    "legend()\n",
    "title(\"D*x and FD*x time comparison\")\n",
    "show()"
   ]
  },
  {
   "cell_type": "markdown",
   "metadata": {},
   "source": [
    "As shown for dimensions n above 1024 an actual speedup occurs, the speedup figure below confirms this result.\n",
    "Improving such a speedup and decreasing the dimensions where it occurs is part of the roadmap for future developments of pyfaust."
   ]
  },
  {
   "cell_type": "code",
   "execution_count": null,
   "metadata": {},
   "outputs": [],
   "source": [
    "scatter(dims, array(d_times)/array(fd_times), label=\"speedup\")\n",
    "title(\"Speedup factor of FD*x relatively to D*x\")\n",
    "show()"
   ]
  },
  {
   "cell_type": "markdown",
   "metadata": {},
   "source": [
    "***The third notebook is ending here***, I hope you'll be interested in trying yourself to write another algorithm with the FAµST API and maybe discovering any current limitation. Don't hesitate to [contact](https://faust.inria.fr/contact) us in that case, we'll appreciate any feedback!"
   ]
  },
  {
   "cell_type": "markdown",
   "metadata": {},
   "source": [
    "### Links\n",
    "\n",
    "<a name=\"creation_links\">Faust creation (1st) notebook: </a> [html](https://faustgrp.gitlabpages.inria.fr/faust/last-doc/html/Faust_creation.html), [ipynb](https://faustgrp.gitlabpages.inria.fr/faust/last-doc/html/Faust_creation.ipynb)  \n",
    "<a name=\"manip_links\">Faust manipulation (2nd) notebook:</a> [html](https://faustgrp.gitlabpages.inria.fr/faust/last-doc/html/Faust_manipulation.html), [ipynb](https://faustgrp.gitlabpages.inria.fr/faust/last-doc/html/Faust_manipulation.ipynb)  \n",
    "<a name=\"[1]\">[1]</a> [Tropp, J. A. (2004). Greed is Good: Algorithmic Results for Sparse Approximation. IEEE Transactions on Information Theory, 50(10), 2231–2242](http://doi.org/10.1109/TIT.2004.834793)."
   ]
  },
  {
   "cell_type": "markdown",
   "metadata": {},
   "source": [
    "**Note**: this notebook was executed using the following pyfaust version:"
   ]
  },
  {
   "cell_type": "code",
   "execution_count": null,
   "metadata": {},
   "outputs": [],
   "source": [
    "import pyfaust\n",
    "pyfaust.version()"
   ]
  }
 ],
 "metadata": {
  "kernelspec": {
   "display_name": "Python 3 (ipykernel)",
   "language": "python",
   "name": "python3"
  },
  "language_info": {
   "codemirror_mode": {
    "name": "ipython",
    "version": 3
   },
   "file_extension": ".py",
   "mimetype": "text/x-python",
   "name": "python",
   "nbconvert_exporter": "python",
   "pygments_lexer": "ipython3",
   "version": "3.10.4"
  }
 },
 "nbformat": 4,
 "nbformat_minor": 2
}
