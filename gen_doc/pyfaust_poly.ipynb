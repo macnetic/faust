{
 "cells": [
  {
   "cell_type": "markdown",
   "id": "6f8cc8a4",
   "metadata": {},
   "source": [
    "# Using the poly module\n",
    "\n",
    "A new module has been added to pyfaust version 3.1.x. Its name is ``poly`` and as expected it is dedicated to a kind of Fausts that are defined according to series of polynomials. \n",
    "\n",
    "In this notebook we'll see how to use the main functions of this module then we'll introduce one precise use case with the action of exponential matrix on a vector / matrix.\n",
    "\n",
    "**NOTE**: all the functions introduced in this notebook are available on GPU, using the ``dev='gpu'`` argument.\n",
    "\n",
    "## 1. The basis function\n",
    "\n",
    "Firstly, the ``poly`` module allows to define a polynomial basis (a ``FaustPoly``) using the function ``pyfaust.poly.basis``. Currently, only Chebyshev polynomials are supported but others are yet to come. Below is the prototype of the function:\n",
    "\n",
    "```basis(L, K, basis_name, dev='cpu', T0=None)```\n",
    "\n",
    "In the next, we shall see a simple example but I let you consult the documentation by typing ``help(pyfaust.poly.basis)`` to get more details.  \n",
    "\n",
    "For instance, if you want to instantiate a basis Faust of dimension K+1 (in the example below K=5) on L, which by the way must be a ``scipy.sparse.csr_matrix`` at least square (and most likely symmetric positive definite in much use cases),  you'll make this call to the function:\n"
   ]
  },
  {
   "cell_type": "code",
   "execution_count": null,
   "id": "d077b727",
   "metadata": {},
   "outputs": [],
   "source": [
    "from pyfaust.poly import basis\n",
    "from scipy.sparse import random\n",
    "d = 128\n",
    "L = random(d, d, .2, format='csr')\n",
    "L = L@L.T\n",
    "K = 5\n",
    "F = basis(L, K=K, basis_name='chebyshev')\n",
    "F"
   ]
  },
  {
   "cell_type": "markdown",
   "id": "7f0533a8",
   "metadata": {},
   "source": [
    "As you can see, the last factor is followed by the mention ``identity matrix flag``. It means that this factor is the identity matrix. This is not suprising, because the 0-degree Chebyshev polynomial is the identity. However, note that the ``T0`` optional argument of the function is here to trick the basis by using another matrix than the identity even if eventually it might not be a proper basis it can be useful if you want to apply this basis on a vector or a matrix (hence you'll set ``T0`` as this vector/matrix instead of multiplying the basis by this vector/matrix).  \n",
    "\n",
    "So how should we understand this Faust? You can see it as a vertical concatenation of polynomials. Indeed, the basis is composed of K+1 polynomials, the 0-degree polynomial is at the top of the stack (i.e. ``F[:d,:]`` is the identity):"
   ]
  },
  {
   "cell_type": "code",
   "execution_count": null,
   "id": "95b00e50",
   "metadata": {},
   "outputs": [],
   "source": [
    "F[:d,:].toarray()"
   ]
  },
  {
   "cell_type": "markdown",
   "id": "dda9bfcc",
   "metadata": {},
   "source": [
    "This first 0-degree polynomial is followed by the next degree polynomials: hence ``F[d:d*2, :]`` is the 1-degree polynomial, ``F[d*2:d*3, :]`` is the 2-degree polynomial and so on...\n",
    "\n",
    "For details about the Chebyshev polynomials, including their definition by a recurrence relationship (that is used here behind the scene), you can look at this [wikipedia article](https://en.wikipedia.org/wiki/Chebyshev_polynomials)."
   ]
  },
  {
   "cell_type": "markdown",
   "id": "f2c4274c",
   "metadata": {},
   "source": [
    "One of the most important thing to note about a polynomial basis Faust is that the multiplication by a vector or a matrix is specialized in order to optimize the performance obtained compared to the generic Faust-vector/matrix multiplication. Indeed, due to the particular structure of the polynomial basis Faust, the multiplication can be optimized.\n",
    "\n",
    "Let's verify that is true! In the code below F is cloned to a classic Faust G and the time of the multiplication by a matrix is measured in both cases (with F, the basis Faust and G its classic Faust copy). Note that ``Faust.clone`` function is not used because in this case it would return a polynomial basis Faust (after all that's the role of ``clone`` to preserve the Faust properties!). To get a classic Faust the only way is to copy the Faust factor by factor."
   ]
  },
  {
   "cell_type": "code",
   "execution_count": null,
   "id": "efaf2c4f",
   "metadata": {},
   "outputs": [],
   "source": [
    "from numpy.random import rand\n",
    "from pyfaust import Faust\n",
    "factors = [F.factors(i) for i in range(F.numfactors())]\n",
    "G = Faust(factors)\n",
    "X = rand(F.shape[1],100)\n",
    "%timeit F@X\n",
    "%timeit G@X"
   ]
  },
  {
   "cell_type": "markdown",
   "id": "4a6cbefc",
   "metadata": {},
   "source": [
    "Now let's verify the multiplication result is accurate:"
   ]
  },
  {
   "cell_type": "code",
   "execution_count": null,
   "id": "7f031472",
   "metadata": {},
   "outputs": [],
   "source": [
    "from numpy.linalg import norm\n",
    "print(\"err=\", norm(F@X-G@X)/norm(F@X))"
   ]
  },
  {
   "cell_type": "markdown",
   "id": "ef58bba3",
   "metadata": {},
   "source": [
    "As you see it's alright."
   ]
  },
  {
   "cell_type": "markdown",
   "id": "bc2683cd",
   "metadata": {},
   "source": [
    "## 2. The poly function\n",
    "\n",
    "The second function of the ``pyfaust.poly`` module is ``poly``. This function purpose is to compute a linear combination of polynomials composing a ``FaustPoly`` (it can also be viewed as a way to compute a polynomial). So passing the ``FaustPoly`` and the linear combination coefficients (one per polynomial, in ascending degree order) you'll obtain:"
   ]
  },
  {
   "cell_type": "code",
   "execution_count": null,
   "id": "2f50fe04",
   "metadata": {},
   "outputs": [],
   "source": [
    "from pyfaust.poly import poly\n",
    "from numpy import array\n",
    "coeffs = rand(K+1)*100\n",
    "lc_F = poly(coeffs, F)\n",
    "lc_F"
   ]
  },
  {
   "cell_type": "markdown",
   "id": "e88d2b0b",
   "metadata": {},
   "source": [
    "To be explicit about ``lc_F`` let's show how to rebuild it manually using G (which again is a classic Faust equal to F)."
   ]
  },
  {
   "cell_type": "code",
   "execution_count": null,
   "id": "fb13f8f8",
   "metadata": {},
   "outputs": [],
   "source": [
    "from scipy.sparse import eye\n",
    "from scipy.sparse import hstack\n",
    "from pyfaust import Faust\n",
    "lc_G = coeffs[0]*G[:d,:]\n",
    "for i in range(1, K+1):\n",
    "    lc_G += coeffs[i]*G[d*i:d*(i+1),:]\n",
    "print(\"error lc_G/lc_F:\", (lc_F-lc_G).norm()/(lc_G).norm())"
   ]
  },
  {
   "cell_type": "markdown",
   "id": "2a321a8b",
   "metadata": {},
   "source": [
    "Here again the ``FaustPoly`` operation is optimized compared to the ``Faust`` one. Speaking of which, there is ways to do even more optimized because the ``poly`` function is kind of matrix type agnostic, or precisely, it accepts a ``FaustPoly`` or a ``numpy.ndarray`` as the basis argument. Doing with the latter an optimized implementation is used whose the memory footprint is smaller than the one consumed with a ``FaustPoly``. It can be particulary efficient when the use cases (as we'll see in [3.]()) consist to apply a linear combination of F to a vector x as it's shown below."
   ]
  },
  {
   "cell_type": "code",
   "execution_count": null,
   "id": "5bf4ca1a",
   "metadata": {},
   "outputs": [],
   "source": [
    "x = rand(F.shape[1])\n",
    "way1 = lambda: poly(coeffs, F)@x # first way to do as we've done above\n",
    "way2 = lambda: poly(coeffs, F@x) # second way to do (that is quicker)\n",
    "way3 = lambda: poly(coeffs, F, X=x) # third way to do (it's even quicker)"
   ]
  },
  {
   "cell_type": "code",
   "execution_count": null,
   "id": "1a438a30",
   "metadata": {},
   "outputs": [],
   "source": [
    "%timeit way1()"
   ]
  },
  {
   "cell_type": "code",
   "execution_count": null,
   "id": "279c52d5",
   "metadata": {},
   "outputs": [],
   "source": [
    "%timeit way2()"
   ]
  },
  {
   "cell_type": "code",
   "execution_count": null,
   "id": "3a0d5e60",
   "metadata": {},
   "outputs": [],
   "source": [
    "%timeit way3()"
   ]
  },
  {
   "cell_type": "markdown",
   "id": "d3319d60",
   "metadata": {},
   "source": [
    "Depending on the situation the ``way2`` or ``way3`` might be the quickest but they are always both quicker than ``way1``.\n",
    "\n",
    "Just in case let's verify all ways give the same results."
   ]
  },
  {
   "cell_type": "code",
   "execution_count": null,
   "id": "9b0c7188",
   "metadata": {},
   "outputs": [],
   "source": [
    "print(\"err way2 =\", norm(poly(coeffs, F)@x-poly(coeffs, F@x))/norm(poly(coeffs, F)@x))"
   ]
  },
  {
   "cell_type": "code",
   "execution_count": null,
   "id": "cc3834b0",
   "metadata": {},
   "outputs": [],
   "source": [
    "print(\"err way3 =\", norm(poly(coeffs, F)@x-poly(coeffs, F, X=x))/norm(poly(coeffs, F)@x))"
   ]
  },
  {
   "cell_type": "markdown",
   "id": "90c1042a",
   "metadata": {},
   "source": [
    "All sounds good! We shall now introduce one use case of Chebyshev polynomial series in FAµST that allow to get interesting results compared to what we can do in the numpy/scipy ecosystem. But to note a last thing before going ahead to the part [3.]() is that the function poly is a little more complicated that it looks like, for more details I invite you to consult the [API documentation](https://faustgrp.gitlabpages.inria.fr/faust/last-doc/html/namespacepyfaust_1_1poly.html#afc6e14fb360a1650cddf8a7646b9209c)."
   ]
  },
  {
   "cell_type": "markdown",
   "id": "e66108e8",
   "metadata": {},
   "source": [
    "## 3. Computing the action of the exponential of a matrix on a vector\n",
    "\n"
   ]
  },
  {
   "cell_type": "markdown",
   "id": "be5be836",
   "metadata": {},
   "source": [
    "In the next, we'll see how to compute action of the exponential matrix on a vector x. However this time we'll do the comparison with the scipy function [``scipy.sparse.linalg.expm_multiply``](https://docs.scipy.org/doc/scipy/reference/generated/scipy.sparse.linalg.expm_multiply.html).\n",
    "The both functions are intended to compute the action of the exponential matrix on a vector or matrix. Recalling that it consists to compute $exp(t A)x$ without computing directly the exponential let's compare the use, performance and accuracy of these functions.  \n",
    "The main difference between the two of them, is that in pyfaust the time points are passed directly as a list to the function, while the scipy version accepts only on ``np.linspace`` style arguments (to define the points as a regular space)."
   ]
  },
  {
   "cell_type": "code",
   "execution_count": null,
   "id": "82c7c82d",
   "metadata": {},
   "outputs": [],
   "source": [
    "from scipy.sparse.linalg import expm_multiply as scipy_expm_multiply\n",
    "from pyfaust.poly import expm_multiply\n",
    "from numpy import exp, linspace\n",
    "from numpy.linalg import norm\n",
    "from numpy.random import rand\n",
    "from scipy.sparse import random\n",
    "S = random(1024, 1024, .002, format='csr')\n",
    "A = S@S.T\n",
    "X = rand(A.shape[1], 1)\n",
    "pts_args = {'start':-.5, 'stop':-.2, 'num':1000}\n",
    "pts = linspace(**pts_args)\n",
    "y1 = expm_multiply(A, X, pts)\n",
    "y2 = scipy_expm_multiply(A, X, **pts_args)\n",
    "print(\"pyfaust error:\", norm(y1-y2)/norm(y2))\n",
    "%timeit expm_multiply(A, X, pts)\n",
    "%timeit scipy_expm_multiply(A, X, **pts_args)"
   ]
  },
  {
   "cell_type": "markdown",
   "id": "c4312be4",
   "metadata": {},
   "source": [
    "It is rather good for ``pyfaust`` but note that there is some drawbacks to its ``expm_multiply`` implementation. You'll find them among other details in the [API documentation](https://faustgrp.gitlabpages.inria.fr/faust/last-doc/html/namespacepyfaust_1_1poly.html#aebbce7977632e3c85260738604f01104)."
   ]
  },
  {
   "cell_type": "markdown",
   "id": "dcf619c8",
   "metadata": {},
   "source": [
    "Thanks for reading this notebook! Many other are available at [faust.inria.fr](https://faust.inria.fr).\n",
    "\n",
    "**Note**: this notebook was executed using the following pyfaust version:"
   ]
  },
  {
   "cell_type": "code",
   "execution_count": null,
   "id": "325a2040",
   "metadata": {},
   "outputs": [],
   "source": [
    "import pyfaust\n",
    "pyfaust.version()"
   ]
  }
 ],
 "metadata": {
  "kernelspec": {
   "display_name": "Python 3 (ipykernel)",
   "language": "python",
   "name": "python3"
  },
  "language_info": {
   "codemirror_mode": {
    "name": "ipython",
    "version": 3
   },
   "file_extension": ".py",
   "mimetype": "text/x-python",
   "name": "python",
   "nbconvert_exporter": "python",
   "pygments_lexer": "ipython3",
   "version": "3.11.5"
  }
 },
 "nbformat": 4,
 "nbformat_minor": 5
}
