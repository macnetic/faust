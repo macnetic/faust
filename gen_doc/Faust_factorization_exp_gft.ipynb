{
 "cells": [
  {
   "cell_type": "markdown",
   "id": "infectious-performance",
   "metadata": {},
   "source": [
    "### 2.2 The Hierarchical PALM4MSA based FGFT Algorithms\n",
    "\n",
    "To finish this notebook briefly, we won't go into further details about the second algorithm for computing approximate FGFTs because it's an extension of the algorithms discussed in [1](#1.-The-Hierarchical-PALM4MSA-Algorithm) and besides this algorithm is considered experimental (and therefore is not included in pyfaust release).\n",
    "\n",
    "However, you'll find below a copy of the main example of [fgft_palm()](https://faustgrp.gitlabpages.inria.fr/faust/last-doc/html/namespacepyfaust_1_1fact.html#a82967b7913a66c945f32b7bd1ec6625a). This function is the entry point of the algorithm and again it's very similar to what you've seen above.\n",
    "You can try to unroll it progressively and understand how it tries to do the same thing as the eigtj() on another Laplacian matrix.\n",
    "It's much more complicated to configure but starting from an example you'll be able to write your own FGFT calculation.\n",
    "\n",
    "About the Laplacian matrix used in the code, note that pyfaust embeds some data examples (matrices in matlab v7 format) but depending on how you installed the package you may need to download them. It's not a big deal normally because ```get_data_dirpath()``` should handle it automatically (otherwise please read the [help doc](https://faustgrp.gitlabpages.inria.fr/faust/last-doc/html/FAQ.html)). Note that depending on your connection the download can take some time."
   ]
  },
  {
   "cell_type": "code",
   "execution_count": null,
   "id": "purple-donor",
   "metadata": {},
   "outputs": [],
   "source": [
    "from pyfaust.fact import fgft_palm\n",
    "from pyfaust.factparams import *\n",
    "from pyfaust.demo import get_data_dirpath\n",
    "from os.path import sep\n",
    "from scipy.io import loadmat, savemat\n",
    "from numpy.linalg import eig, eigh, norm\n",
    "from numpy import sort, argsort, log2, size, copy, diag\n",
    "d = loadmat(sep.join((get_data_dirpath(),'Laplacian_256_ring.mat')))\n",
    "Lap = d['Lap'].astype('float')\n",
    "D, U = eig(Lap)\n",
    "indices = argsort(D)\n",
    "D = D[indices].astype('float')\n",
    "U = U[:,indices].astype('float')\n",
    "print(D.shape, type(D))\n",
    "print(\"eig(Lap), U error:\", norm(Lap.dot(U)-U.dot(diag(D))))\n",
    "dim = Lap.shape[0]\n",
    "nfacts = int(round(log2(dim))-3)\n",
    "over_sp = 1.5 # sparsity overhead\n",
    "dec_fact = .5 # decrease of the residum sparsity\n",
    "fact_cons, res_cons = [], []\n",
    "for j in range(1, nfacts):\n",
    "        fact_cons += [ ConstraintInt('sp',dim,dim,\n",
    "        min(int(round(dec_fact**j*dim**2*over_sp)),size(Lap)))\n",
    "    ]\n",
    "        res_cons += [\n",
    "                ConstraintInt('sp',\n",
    "            dim,\n",
    "            dim,\n",
    "            min(int(round(2*dim*over_sp)),size(Lap)))\n",
    "        ]\n",
    "params = ParamsHierarchical(fact_cons,\n",
    "        res_cons,\n",
    "        StoppingCriterion(num_its=50),\n",
    "        StoppingCriterion(num_its=100),\n",
    "        step_size=1.0000e-06,\n",
    "        constant_step_size=True,\n",
    "        init_lambda=1.0,\n",
    "        is_fact_side_left=False)\n",
    "Lap = Lap.astype(float)\n",
    "Uhat,Dhat = fgft_palm(Lap, U, params, init_D=D)\n",
    "err_U = (Uhat-U).norm()/norm(U)\n",
    "err_Lap = norm(Uhat.toarray()@diag(Dhat)@Uhat.T.toarray()-Lap)/norm(Lap)\n",
    "print(norm(diag(Dhat), 2))\n",
    "print(\"err_U:\", err_U)"
   ]
  }
 ],
 "metadata": {
  "kernelspec": {
   "display_name": "Python 3",
   "language": "python",
   "name": "python3"
  },
  "language_info": {
   "codemirror_mode": {
    "name": "ipython",
    "version": 3
   },
   "file_extension": ".py",
   "mimetype": "text/x-python",
   "name": "python",
   "nbconvert_exporter": "python",
   "pygments_lexer": "ipython3",
   "version": "3.7.9"
  }
 },
 "nbformat": 4,
 "nbformat_minor": 5
}
