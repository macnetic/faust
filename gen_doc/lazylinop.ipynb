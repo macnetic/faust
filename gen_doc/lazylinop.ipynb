{
 "cells": [
  {
   "cell_type": "markdown",
   "metadata": {},
   "source": [
    "# Using LazyLinearOp-s\n",
    "\n",
    "The ``LazyLinearOp`` class defines a kind of linear operator extending the scipy [LinearOperator](https://docs.scipy.org/doc/scipy/reference/generated/scipy.sparse.linalg.LinearOperator.html) class.\n",
    "\n",
    "Starting from a ``numpy`` array, a ``scipy`` matrix, a ``Faust`` object, or potentially many other compatible linear operators with efficient implementatons, this class follows the *lazy evaluation paradigm*. \n",
    "\n",
    "In short, one can *aggregate low-level ``LazyLinearOp`` objects into higher-level ones* using classical operations (addition, concatenation, adjoint, real part, slicing, etc.), without actually building arrays. The actual effect of these operations is delayed until the resulting linear operator is actually applied to a vector (or to a collection of vectors, seen as a matrix).\n",
    "\n",
    "The main interest of this paradigm is to enable the construction of processing pipelines that exploit as building blocks efficient implementations of ``low-level'' linear operators.\n",
    "\n",
    "LazyLinearOperators are complementary to other “lazy” objects such as LazyTensors in [Kheops](https://www.kernel-operations.io/keops/_auto_tutorials/a_LazyTensors/plot_lazytensors_a.html), or the ones of [lazyarray](https://lazyarray.readthedocs.io/en/latest/index.html), [WeldNumpy](https://www.weld.rs/weldnumpy/]) libraries,  which, to the best of our knowledge, primarily provide compact descriptions of arrays which entries can be evaluated efficiently on the fly.\n",
    "\n",
    "## This notebook\n",
    "In this notebook we shall see how to create a ``LazyLinearOp`` instance, create more complex instances using various lazy operations, and finally how to apply the resulting instance on vectors or matrices. We assume the reader is familiar with at least ``numpy`` arrays and their operations.\n"
   ]
  },
  {
   "cell_type": "markdown",
   "metadata": {},
   "source": [
    "### 1. How to create and use a LazyLinearOp\n",
    "\n",
    "In order to create this kind of object, you simply need to use the ``aslazylinearoperator`` function. This function receives an object that represents a linear operator, for instance a ``Faust`` (but it can also be a ``numpy`` array or a ``scipy`` matrix). Besides, note that there is another way to create a LazyLinearOp using the kind of functions we call matmat or matvec as explained in 4.3 with the FFT use case.\n",
    "\n",
    "In the example below, the function ``aslazylinearoperator`` allows us to instantiate a ``LazyLinearOp`` that encapsulates a ``Faust``."
   ]
  },
  {
   "cell_type": "code",
   "execution_count": null,
   "metadata": {},
   "outputs": [],
   "source": [
    "from pyfaust.lazylinop import aslazylinearoperator\n",
    "import pyfaust as pf\n",
    "import numpy as np\n",
    "n = 3000\n",
    "# create a random Faust\n",
    "F = pf.rand(n, n, density=.001)\n",
    "# create a LazyLinearOp upon it\n",
    "lF = aslazylinearoperator(F)\n",
    "print(lF)"
   ]
  },
  {
   "cell_type": "markdown",
   "metadata": {},
   "source": [
    "As said earlier, it is also possible to create  ``LazyLinearOp`` operators based on ``numpy`` arrays or ``scipy`` matrices."
   ]
  },
  {
   "cell_type": "code",
   "execution_count": null,
   "metadata": {},
   "outputs": [],
   "source": [
    "from scipy.sparse import random\n",
    "from numpy.random import rand\n",
    "S = random(n, n, .2, format='csc') # scipy matrix\n",
    "lS = aslazylinearoperator(S)\n",
    "M = rand(n, n) + rand(n,n)*1j # numpy complex array\n",
    "lM = aslazylinearoperator(M)"
   ]
  },
  {
   "cell_type": "markdown",
   "metadata": {},
   "source": [
    "It's worth noting that a ``LazyLinearOp`` must have two dimensions. Trying to instantiate a ``LazyLinearOp`` from a vector (defined with one dimension) would raise an exception, as the example below shows."
   ]
  },
  {
   "cell_type": "code",
   "execution_count": null,
   "metadata": {},
   "outputs": [],
   "source": [
    "try:\n",
    "    lMSF_imag@aslazylinearoperator(np.random.rand(n))\n",
    "except:\n",
    "    print(\"A LazyLinearOp must have two dimensions\")"
   ]
  },
  {
   "cell_type": "markdown",
   "metadata": {},
   "source": [
    "As a matter of fact, vectors can be interpreted as matrices but there is always an ambiguity whether this matrix has a single row or a single column."
   ]
  },
  {
   "cell_type": "markdown",
   "metadata": {},
   "source": [
    "Then we can start to build more complex ``LazyLinearOp`` objects using various operations. For example, let's multiply ``lF`` by a scalar:"
   ]
  },
  {
   "cell_type": "code",
   "execution_count": null,
   "metadata": {},
   "outputs": [],
   "source": [
    "lF = 2 * lF\n",
    "print(lF)"
   ]
  },
  {
   "cell_type": "markdown",
   "metadata": {},
   "source": [
    "As you can see the result is still a ``LazyLinearOp`` after the scalar multiplication. That's the principle of the lazy evaluation we mentioned in the beginning of this notebook. No operation is really computed, only the track of the operations is kept in a new ``LazyLinearOp`` object.  \n",
    "Let's continue with other possible operations. For example, a matrix multiplication and then a concatenation."
   ]
  },
  {
   "cell_type": "code",
   "execution_count": null,
   "metadata": {},
   "outputs": [],
   "source": [
    "import pyfaust.lazylinop as lp\n",
    "lFs = lF @ lF\n",
    "print(\"lF shape before concatenation:\", lFs.shape)\n",
    "lFc = lp.vstack((lFs, lFs))\n",
    "print(\"lF shape after concatenation:\", lFc.shape)"
   ]
  },
  {
   "cell_type": "markdown",
   "metadata": {},
   "source": [
    "Note that we know the ``shape`` of the resulting LazyLinearOp without the need to evaluate it.  \n",
    "\n",
    " Let's try other operations with ``lM`` and ``lS``, all ``LazyLinearOp`` are compatible with each other provided their ``shape``s are compatible."
   ]
  },
  {
   "cell_type": "code",
   "execution_count": null,
   "metadata": {},
   "outputs": [],
   "source": [
    "lMSF =  lFc[:n, :] @ (2 * lM.conj().T @ lS)\n",
    "# then get back the imaginary part of the LazyLinearOp\n",
    "lMSF_imag = lMSF.imag"
   ]
  },
  {
   "cell_type": "markdown",
   "metadata": {},
   "source": [
    "\n",
    "For a tour of all supported operations on ``LazyLinearOp`` objects please take a look at : [LazyLinearOp reference](https://faustgrp.gitlabpages.inria.fr/faust/last-doc/html/classpyfaust_1_1lazylinop_1_1LazyLinearOp.html).\n",
    "Let us mention most importantly:\n",
    "* lazy scalar multiplication\n",
    "* lazy addition\n",
    "* lazy operator multiplication \n",
    "* lazy operator concatenation\n",
    "* lazy slicing\n",
    "* lazy real/imaginary part \n",
    "* lazy operator tranpose / conjugate / transconjugate\n"
   ]
  },
  {
   "cell_type": "markdown",
   "metadata": {},
   "source": [
    "### 2. Applying a LazyLinearOp to a vector or a matrix\n",
    "\n",
    "Now that we've seen how to create and operate a ``LazyLinearOp`` let's see how to apply it to a vector or a matrix, represented by a ``numpy`` array.\n"
   ]
  },
  {
   "cell_type": "code",
   "execution_count": null,
   "metadata": {},
   "outputs": [],
   "source": [
    "import numpy as np\n",
    "v = np.arange(n)\n",
    "lMSF_imag@v"
   ]
  },
  {
   "cell_type": "markdown",
   "metadata": {},
   "source": [
    "Note the difference with the lazy multiplication by the another random vector taken as A ``LazyLinearOp``."
   ]
  },
  {
   "cell_type": "code",
   "execution_count": null,
   "metadata": {},
   "outputs": [],
   "source": [
    "lMSF_imag@aslazylinearoperator(np.random.rand(n,1))"
   ]
  },
  {
   "cell_type": "markdown",
   "metadata": {},
   "source": [
    "Instead of computing the resulting vector it gives another ``LazyLinearOp``.\n",
    "\n",
    "The vector doesn't have to be dense, a sparse one can totally be used in the multiplication."
   ]
  },
  {
   "cell_type": "code",
   "execution_count": null,
   "metadata": {},
   "outputs": [],
   "source": [
    "from scipy.sparse import random as srand\n",
    "s = srand(n,1, density=0.25)\n",
    "lMSF_imag@s"
   ]
  },
  {
   "cell_type": "markdown",
   "metadata": {},
   "source": [
    "One can also simply *convert* a ``LazyLinearOp`` to an equivalent numpy array using ``LazyLinearOp.toarray``. An example will come next when we compare the resulting computation times."
   ]
  },
  {
   "cell_type": "markdown",
   "metadata": {},
   "source": [
    "### 3. Comparing computation times\n",
    "\n",
    "As a last step in this notebook, we shall verify how much computation time it takes to use a ``LazyLinearOp`` compared to a numpy array. Of course it depends on the underlying objects used behind (in the operations encoded in the ``LazyLinearOp``). Here we make the measurement on ``lFs`` which was initialized before upon a Faust object."
   ]
  },
  {
   "cell_type": "code",
   "execution_count": null,
   "metadata": {
    "scrolled": true
   },
   "outputs": [],
   "source": [
    "%timeit lFs@M\n",
    "%timeit lFs.toarray()\n",
    "FD = lFs.toarray() # FD is a numpy array\n",
    "%timeit FD@M\n",
    "print(\"consistent results:\", np.allclose(lFs@M, FD@M))"
   ]
  },
  {
   "cell_type": "markdown",
   "metadata": {},
   "source": [
    "Great! As expected ``lFs`` is faster to apply than its numpy array counterpart ``FD``."
   ]
  },
  {
   "cell_type": "markdown",
   "metadata": {},
   "source": [
    "### 4. Higher-level operations on LazyLinearOp"
   ]
  },
  {
   "cell_type": "markdown",
   "metadata": {},
   "source": [
    "Because a ``LazyLinearOp`` is a kind of scipy ``LinearOperator``, it is straightforward to use many operations provided by scipy on this type of object.\n",
    "\n",
    "#### 4.1 The SVD\n",
    "\n",
    "For example, let's try a SVD decomposition on a ``LazyLinearOp`` in one hand and on a numpy array on the other hand."
   ]
  },
  {
   "cell_type": "code",
   "execution_count": null,
   "metadata": {},
   "outputs": [],
   "source": [
    "from scipy.sparse.linalg import svds\n",
    "lF = aslazylinearoperator(pf.rand(25, 25))\n",
    "U1, S1, Vh1 = svds(lF)\n",
    "U2, S2, Vh2 = svds(lF.toarray())\n",
    "np.allclose(U1 @ np.diag(S1) @ Vh1, U2 @ np.diag(S2) @ Vh2, atol=1e-8)"
   ]
  },
  {
   "cell_type": "markdown",
   "metadata": {},
   "source": [
    "It works the same!\n",
    "\n",
    "#### 4.2 The Kronecker product\n",
    "\n",
    "Another operation we can try is the Kronecker product. This time we will use the ``numpy.kron`` function on A and B numpy arrays and we will compare this function to the ``pyfaust.lazylinop.kron`` which computes the Kronecker product too but as a ``LazyLinearOp``. Precisely, we compare these functions on the multiplication of the Kronecker product by a vector."
   ]
  },
  {
   "cell_type": "code",
   "execution_count": null,
   "metadata": {},
   "outputs": [],
   "source": [
    "from pyfaust.lazylinop import kron as lkron\n",
    "import numpy as np\n",
    "from pyfaust import rand\n",
    "A = np.random.rand(100, 100)\n",
    "B = np.random.rand(100, 100)\n",
    "AxB = np.kron(A,B)\n",
    "lAxB = lkron(A, B)\n",
    "x = np.random.rand(AxB.shape[1], 1)\n",
    "np.allclose(AxB@x, lAxB@x)"
   ]
  },
  {
   "cell_type": "markdown",
   "metadata": {},
   "source": [
    "The two versions of kron give the same result. Now let's compare the computation times."
   ]
  },
  {
   "cell_type": "code",
   "execution_count": null,
   "metadata": {},
   "outputs": [],
   "source": [
    "%timeit AxB @ x"
   ]
  },
  {
   "cell_type": "code",
   "execution_count": null,
   "metadata": {},
   "outputs": [],
   "source": [
    "%timeit lAxB @ x"
   ]
  },
  {
   "cell_type": "markdown",
   "metadata": {},
   "source": [
    "The LazyLinearOp kron function is much faster! Indeed, it is optimized for ``LazyLinearOp-s``.\n",
    "\n",
    "#### 4.3 The FFT and its inverse as a LazyLinearOp\n",
    "\n",
    "Now let's explain how it is possible to create a ``LazyLinearOp`` not using a pre-defined operator like a Faust or a numpy array but a function that defines how to apply the operator on a vector (the kind of function we name matvec) or on a matrix (in which case the function is named matmat). Actually, this process mimics the scipy [LinearOperator](https://docs.scipy.org/doc/scipy/reference/generated/scipy.sparse.linalg.LinearOperator.html) constructor, so it works pretty the same for a ``LazyLinearOp`` as we show in the example below for an operator that represents the FFT."
   ]
  },
  {
   "cell_type": "code",
   "execution_count": null,
   "metadata": {},
   "outputs": [],
   "source": [
    "from pyfaust import dft\n",
    "from pyfaust.lazylinop import LazyLinearOperator, aslazylinearoperator\n",
    "import numpy as np\n",
    "from scipy.fft import fft, ifft\n",
    "n = 1024\n",
    "lfft = LazyLinearOperator(matvec=lambda x: fft(x, axis=0), rmatvec=lambda x: n * ifft(x, axis=0), shape=(n, n))"
   ]
  },
  {
   "cell_type": "markdown",
   "metadata": {},
   "source": [
    "Hence, ``lfft`` is a ``LazyLinearOp`` defined upon the scipy ``fft`` and ``ifft`` functions. Here ``fft`` is the matvec function, it defines how to apply the ``lfft`` operator to a vector. Likewise, the ``ifft``, as a ``rmatvec`` function, defines how to apply the inverse of the lfft operator to a vector.\n",
    "The operator can totally be applied on matrices too. So, since we choose to apply the 1D FFT on columns instead of rows we set the axis argument of scipy fft to 0. The reason of the scaling by n of the ``ifft`` is to find on the scipy documentation [fft doc.](https://docs.scipy.org/doc/scipy/reference/generated/scipy.fft.fft.html#scipy.fft.fft) (look at the norm argument). For more details about the ``LazyLinearOperator`` constructor, please look at the [API documentation](https://faustgrp.gitlabpages.inria.fr/faust/last-doc/html/namespacepyfaust_1_1lazylinop.html).\n",
    "\n",
    "We can compare this ``lfft`` operator to the equivalent operator based this time on the DFT Faust."
   ]
  },
  {
   "cell_type": "code",
   "execution_count": null,
   "metadata": {},
   "outputs": [],
   "source": [
    "F = dft(n, normed=False)\n",
    "lF = aslazylinearoperator(F)"
   ]
  },
  {
   "cell_type": "markdown",
   "metadata": {},
   "source": [
    "The two operators give the same results when applying them to a vector."
   ]
  },
  {
   "cell_type": "code",
   "execution_count": null,
   "metadata": {},
   "outputs": [],
   "source": [
    "x = np.random.rand(n)\n",
    "np.allclose(lfft @ x, lF @ x)"
   ]
  },
  {
   "cell_type": "markdown",
   "metadata": {},
   "source": [
    "\n",
    "This notebook comes to its end. We've seen quickly how to create and evaluate ``LazyLinearOp`` objects based on numpy arrays, scipy matrices, or a Faust objects. We've also seen how to define them upon ``matmat`` and ``matvec`` functions. We've tried a bunch of operations we can call on this kind of objects. For more information about ``LazyLinearOp`` objects you can take a look to the API documentation [here](https://faustgrp.gitlabpages.inria.fr/faust/last-doc/html/namespacepyfaust_1_1lazylinop.html).\n",
    "\n",
    "**NOTE**: this notebook was executed using the pyfaust version:"
   ]
  },
  {
   "cell_type": "code",
   "execution_count": null,
   "metadata": {},
   "outputs": [],
   "source": [
    "pf.version()"
   ]
  }
 ],
 "metadata": {
  "kernelspec": {
   "display_name": "Python 3",
   "language": "python",
   "name": "python3"
  },
  "language_info": {
   "codemirror_mode": {
    "name": "ipython",
    "version": 3
   },
   "file_extension": ".py",
   "mimetype": "text/x-python",
   "name": "python",
   "nbconvert_exporter": "python",
   "pygments_lexer": "ipython3",
   "version": "3.10.8"
  }
 },
 "nbformat": 4,
 "nbformat_minor": 4
}
