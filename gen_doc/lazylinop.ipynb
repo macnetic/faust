{
 "cells": [
  {
   "cell_type": "markdown",
   "metadata": {},
   "source": [
    "# Using LazyLinearOp-s\n",
    "\n",
    "The ``LazyLinearOp`` class is a kind of linear operator (indeed, it extends the scipy [LinearOperator](https://docs.scipy.org/doc/scipy/reference/generated/scipy.sparse.linalg.LinearOperator.html) class) for which the operations you make are delayed until you choose to evaluate them.\n",
    "\n",
    "This class is intended to lower the computational cost in situations where many operations are made on linear operators but eventually not all of them will be used / evaluated.\n",
    "Theoretically, it might also be useful to distribute the calculations around many computation units.\n",
    "\n",
    "In this notebook we shall see how to create a ``LazyLinearOp`` instance, make operations on it and finally how to evaluate it to get the real result of these operations. We assume the reader is familiar with at least numpy arrays and their operations."
   ]
  },
  {
   "cell_type": "markdown",
   "metadata": {},
   "source": [
    "### 1. Creating a LazyLinearOp\n",
    "\n",
    "In order to create this kind of object, you simply need to use the ``asLazyLinearOp`` function. This function receives an object that represents a linear operator, for instance a ``Faust`` (but it can also be a numpy array or a scipy matrix). The function instantiates a ``LazyLinearOp`` that encapsulates the ``Faust`` you gave."
   ]
  },
  {
   "cell_type": "code",
   "execution_count": null,
   "metadata": {},
   "outputs": [],
   "source": [
    "from pyfaust.lazylinop import asLazyLinearOp\n",
    "import pyfaust as pf\n",
    "# create a random Faust\n",
    "F = pf.rand(4096, 4096, density=.001)\n",
    "# create a LazyLinearOp upon it\n",
    "lF = asLazyLinearOp(F)\n",
    "print(lF)"
   ]
  },
  {
   "cell_type": "markdown",
   "metadata": {},
   "source": [
    "As said earlier, it is also possible to create a ``LazyLinearOp`` upon numpy arrays or scipy matrices."
   ]
  },
  {
   "cell_type": "code",
   "execution_count": null,
   "metadata": {},
   "outputs": [],
   "source": [
    "from scipy.sparse import random\n",
    "from numpy.random import rand\n",
    "S = random(4096, 4096, .2, format='csr') # scipy matrix\n",
    "lS = asLazyLinearOp(S)\n",
    "M = rand(4096, 4096)*1j # numpy complex array\n",
    "lM = asLazyLinearOp(M)"
   ]
  },
  {
   "cell_type": "markdown",
   "metadata": {},
   "source": [
    "Then we can start to do some operations on these new objects. For example, let's multiply ``lF`` by a scalar:"
   ]
  },
  {
   "cell_type": "code",
   "execution_count": null,
   "metadata": {},
   "outputs": [],
   "source": [
    "lF = 2 * lF\n",
    "print(lF)"
   ]
  },
  {
   "cell_type": "markdown",
   "metadata": {},
   "source": [
    "As you can see it stays a ``LazyLinearOp`` after the scalar multiplication. That's the principle of the lazy evaluation we talked about at the beginning of this notebook. No operation is really computed, only the track of the operations asked is kept in a new LazyLinearOp object.  \n",
    "Let's continue asking other operations. For example, a matrix multiplication and then a concatenation."
   ]
  },
  {
   "cell_type": "code",
   "execution_count": null,
   "metadata": {},
   "outputs": [],
   "source": [
    "import pyfaust.lazylinop as lp\n",
    "lFs = lF @ lF\n",
    "print(\"lF shape before concatenation:\", lFs.shape)\n",
    "lFc = lp.vstack((lFs, lFs))\n",
    "print(\"lF shape after concatenation:\", lFc.shape)"
   ]
  },
  {
   "cell_type": "markdown",
   "metadata": {},
   "source": [
    "Note that we know the shape of the resulting LazyLinearOp without the need to evaluate it.  \n",
    "\n",
    " Let's try other operations with ``lM`` and ``lS``, all ``LazyLinearOp`` are compatible with each other."
   ]
  },
  {
   "cell_type": "code",
   "execution_count": null,
   "metadata": {},
   "outputs": [],
   "source": [
    "lMSF = (2 * lM.conj().T + lS) @ lFc[:4096, :]\n",
    "# then get back the imaginary part of the LazyLinearOp\n",
    "lMSF_imag = lMSF.imag"
   ]
  },
  {
   "cell_type": "markdown",
   "metadata": {},
   "source": [
    "Note that we know the shape of the resulting ``LazyLinearOp`` without the need to evaluate it.  \n",
    "\n",
    "For a tour of all supported operations on ``LazyLinearOp`` objects please take a look at : [LazyLinearOp reference](https://faustgrp.gitlabpages.inria.fr/faust/last-doc/html/classpyfaust_1_1lazylinop_1_1LazyLinearOp.html)."
   ]
  },
  {
   "cell_type": "markdown",
   "metadata": {},
   "source": [
    "### 2. Evaluating a LazyLinearOp\n",
    "\n",
    "Now that we've seen how to create and operate a ``LazyLinearOp`` let's see how to get the evaluation done, that is obtaining the real results of our operations.\n",
    "\n",
    "There are several ways to get these results. The most important way is to multiply the ``LazyLinearOp`` by a dense matrix (a numpy array) or a vector."
   ]
  },
  {
   "cell_type": "code",
   "execution_count": null,
   "metadata": {},
   "outputs": [],
   "source": [
    "import numpy as np\n",
    "lMSF_imag@np.random.rand(4096)"
   ]
  },
  {
   "cell_type": "markdown",
   "metadata": {},
   "source": [
    "The other ways to evaluate is to call ``LazyLinearOp.eval`` or ``LazyLinearOp.toarray`` on our object. The former function returns an object whose type depends on the operations made so far on the starting object. The latter function returns always a numpy array which is the result of the same operations."
   ]
  },
  {
   "cell_type": "markdown",
   "metadata": {},
   "source": [
    "### 3. Checking the computation times\n",
    "\n",
    "As a last step in this notebook, we shall verify how much computation time it takes to use a ``LazyLinearOperator`` compared to a numpy array. Of course it depends on the underlying objects used behind (in the operations encoded in the ``LazyLinearOperator``). Here we make the measurement on ``lFs`` which was initialized before upon a Faust object."
   ]
  },
  {
   "cell_type": "code",
   "execution_count": null,
   "metadata": {},
   "outputs": [],
   "source": [
    "%timeit lFs@M\n",
    "%timeit lFs.toarray()\n",
    "FD = lFs.toarray() # FD is a numpy array\n",
    "%timeit FD@M\n",
    "print(\"consistent results:\", np.allclose(lFs@M, FD@M))"
   ]
  },
  {
   "cell_type": "markdown",
   "metadata": {},
   "source": [
    "Great! As excepted ``lFs`` is faster than its numpy array counterpart ``FD``."
   ]
  },
  {
   "cell_type": "markdown",
   "metadata": {},
   "source": [
    "\n",
    "This notebook comes to its end. We've seen quickly how to create and evaluate a ``LazyLinearOp`` objects based on a Faust object, numpy array or scipy matrices. For more information about ``LazyLinearOp`` objects you can take a look to the API documentation [here](TODO).\n",
    "\n",
    "**NOTE**: this notebook was executed using the pyfaust version:"
   ]
  },
  {
   "cell_type": "code",
   "execution_count": null,
   "metadata": {},
   "outputs": [],
   "source": [
    "pf.version()"
   ]
  }
 ],
 "metadata": {
  "kernelspec": {
   "display_name": "Python 3",
   "language": "python",
   "name": "python3"
  },
  "language_info": {
   "codemirror_mode": {
    "name": "ipython",
    "version": 3
   },
   "file_extension": ".py",
   "mimetype": "text/x-python",
   "name": "python",
   "nbconvert_exporter": "python",
   "pygments_lexer": "ipython3",
   "version": "3.10.7"
  }
 },
 "nbformat": 4,
 "nbformat_minor": 4
}
