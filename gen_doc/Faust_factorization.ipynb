{
 "cells": [
  {
   "cell_type": "markdown",
   "metadata": {},
   "source": [
    "# Using the FAµST Factorization Wrappers\n",
    "\n",
    "Previous notebooks already addressed a part of the [pyfaust's](https://faustgrp.gitlabpages.inria.fr/faust/last-doc/html/namespacepyfaust.html) functionalities however ``pyfaust.fact`` which is a central module was not covered. It is mainly dedicated to the algorithms that (approximately) factorize a dense matrix into a [Faust](https://faustgrp.gitlabpages.inria.fr/faust/last-doc/html/classpyfaust_1_1Faust.html) object.\n",
    "This is the subject covered (partly) in this notebook. \n",
    "\n",
    "You will see how to launch the algorithms easily, how to feed them with your own complex set of parameters, how to run them for only few steps when possible, how to use a variant or another, how to enable debugging information, etc.\n",
    "\n",
    "**NOTE**: the notebook is made to be executed sequentially, otherwise, skipping some cells, you would end up on an import error.\n",
    "\n",
    "\n",
    "### Table of Contents\n",
    "\n",
    "[**1. The Hierarchical PALM4MSA Algorithm**](#1.-The-Hierarchical-PALM4MSA-Algorithm)<br/>\n",
    "[1.1 Generating a Hadamard Matrix](#1.1-Generating-a-Hadamard-Matrix)<br/>\n",
    "[1.2 Factorizing a Hadamard Matrix](#1.2-Factorizing-a-Hadamard-Matrix)<br/>\n",
    "[1.2.1 Defining the Constraints](#1.2.1-Defining-the-Constraints)<br/>\n",
    "[1.2.2 Setting the Rest of the Parameters and Running the Algorithm](#1.2.2-Setting-the-Rest-of-the-Parameters-and-Running-the-Algorithm)<br/>\n",
    "\n",
    "[**2. The FGFT Algorithms**](#2.-The-FGFT-Algorithms)<br/>\n",
    "[2.1 The Givens / Jacobi Truncated Algorithms](#2.1-The-Givens-/-Jacobi-Truncated-Algorithms)<br/>\n",
    "[2.2 The Hierarchical PALM4SMA based FGFT Algorithms](#2.2-The-Hierarchical-PALM4SMA-based-FGFT-Algorithms)<br/>"
   ]
  },
  {
   "cell_type": "markdown",
   "metadata": {},
   "source": [
    "## 1. The Hierarchical PALM4MSA Algorithm"
   ]
  },
  {
   "cell_type": "markdown",
   "metadata": {},
   "source": [
    "### 1.1 Generating a Hadamard Matrix\n",
    "\n",
    "Before to tackle Hadamard matrices factorization, let's introduce one pyfaust's function which is actually directly related: [wht](https://faustgrp.gitlabpages.inria.fr/faust/last-doc/html/namespacepyfaust.html#a7dca1d7342d67faaf765f6c80ce16008).  \n",
    "This method allows you to generate sparse Hadamard transforms. "
   ]
  },
  {
   "cell_type": "code",
   "execution_count": null,
   "metadata": {},
   "outputs": [],
   "source": [
    "%matplotlib inline\n",
    "import matplotlib.pyplot as plt\n",
    "from pyfaust import wht\n",
    "from numpy.linalg import norm\n",
    "from numpy.random import rand\n",
    "# generate a Hadamard Faust of size 32x32\n",
    "FH = wht(32, normed=False) # normed=False is to avoid column normalization\n",
    "H = FH.toarray() # the dense matrix version\n",
    "FH.imshow()\n",
    "plt.show()"
   ]
  },
  {
   "cell_type": "code",
   "execution_count": null,
   "metadata": {},
   "outputs": [],
   "source": [
    "from numpy import count_nonzero\n",
    "count_nonzero(H)"
   ]
  },
  {
   "cell_type": "markdown",
   "metadata": {},
   "source": [
    "All the factors are the same, let's print the first one."
   ]
  },
  {
   "cell_type": "code",
   "execution_count": null,
   "metadata": {},
   "outputs": [],
   "source": [
    "plt.imshow(FH.factors(0).toarray())\n",
    "plt.show()"
   ]
  },
  {
   "cell_type": "markdown",
   "metadata": {},
   "source": [
    "You might want to verify if $H$ is a proper Hadamard matrix."
   ]
  },
  {
   "cell_type": "code",
   "execution_count": null,
   "metadata": {},
   "outputs": [],
   "source": [
    "from numpy import matrix, array\n",
    "import numpy as np\n",
    "is_hadamard = True\n",
    "for _H in [H, H.T]:\n",
    "    is_hadamard = is_hadamard and array([ (_H[i,:].dot(_H[j,:]) == 0).all() \\\n",
    "                                         for i in range(0, _H.shape[0]-1) \\\n",
    "                                         for j in range(i+1, _H.shape[0]) ]).all()\n",
    "is_hadamard = is_hadamard and (np.where(abs(H)==1, H, 0) == H).all()\n",
    "is_hadamard"
   ]
  },
  {
   "cell_type": "markdown",
   "metadata": {},
   "source": [
    "The ugly code above basically verifies that all column or row vectors are mutually orthogonal and made only of -1, 0 and 1 coefficients, that is exactly the Hadamard matrix definition. The response is yes, so we can go ahead."
   ]
  },
  {
   "cell_type": "markdown",
   "metadata": {},
   "source": [
    "### 1.2 Factorizing a Hadamard Matrix\n",
    "\n",
    "Let's begin by factorizing $H$ the easy way with the automatic parametrization provided by pyfaust.\n"
   ]
  },
  {
   "cell_type": "code",
   "execution_count": null,
   "metadata": {},
   "outputs": [],
   "source": [
    "from pyfaust import faust_fact\n",
    "FH2 = faust_fact(H, 'hadamard')\n",
    "print(FH2)\n",
    "FH2.imshow(name='FH2')"
   ]
  },
  {
   "cell_type": "markdown",
   "metadata": {},
   "source": [
    "Interestingly, the FH2's factors are not the same as FH's but the resulting numpy array is exactly the same.\n",
    "Just to be sure let's verify the relative error against H."
   ]
  },
  {
   "cell_type": "code",
   "execution_count": null,
   "metadata": {},
   "outputs": [],
   "source": [
    "print('err=', (FH2-H).norm()/norm(H))"
   ]
  },
  {
   "cell_type": "markdown",
   "metadata": {},
   "source": [
    "Good! The argument ``'hadamard'`` of ``faust_fact`` is a shorthand to a set of parameters fitting the factorization of Hadamard matrices.\n",
    "\n",
    "Speaking about shorthand, ```faust_fact``` is an alias of [pyfaust.fact.hierarchical](file:///home/hinria/faust/build/doc/html/namespacepyfaust_1_1fact.html#ad2108e97e89a17da27ce480d65155eb4).\n",
    "This function implements the hiearchical factorization based on PALM4MSA. For details about the theory behind these algorithms you can read the thesis of [Luc Le Magoarou](https://tel.archives-ouvertes.fr/tel-01412558).\n",
    "\n",
    "We won't go into further details nevertheless it's important to see how to define the parameters manually in order to proceed to your own custom factorizations. For that purpose we need to describe approximately the algorithm but please keep in mind this is just an insight (for instance, the norms below are voluntarily not defined).\n",
    "\n",
    "Basically, the hierarchical algorithm works like this:\n",
    "\n",
    "- If you want to decompose a matrix $M$ in $J$ factors, the algorithm will iterate $(J-1)$ times. Each iteration follows two steps:<br/>\n",
    "**1.** (_local optimization_) At each iteration $i$, the currently considered matrix $R_{i-1}$ (with $R_0=M$) is decomposed in two factors by the PALM4MSA algorithm as respect to the minimization $\\| R_{i-1} - S_{i}R_{i} \\|$. <br/>$S_i$ is the resulting factor while $R_{i}$ is the _residual_ of our factorization.<br/>\n",
    "**2.** (_global optimization_) At the end of each iteration $i$, PALM4MSA is called again to ideally compute the $argmin_{\\{S_1, ..., S_i\\}, R_i}$ $\\|M - (\\prod_{j=1}^i S_j) R_i\\|$ \n",
    "- So ideally at the end of the iteration (J-1) you'll get something like $M \\approx \\prod_{i=1}^J S_i$ taking $S_J = R_{J-1} $.\n",
    "\n",
    "\n",
    "### 1.2.1 Defining the Constraints\n",
    "\n",
    "The explanation above is eluding something essential: the sparsity constraints. Indeed, the purpose of the algorithm is not only to decompose a matrix but also to enhance its sparsity, as hinted by the FAµST acronym: Flexible Approximate Multi-layer Sparse Transform.\n",
    "\n",
    "So you'll need to feed the algorithm with sparsity constraints. In fact, you'll define one pair of constraints per iteration, the first is for the factor $S_{i}$ and the second for $R_i$ (the _residual_).\n",
    "\n",
    "The pyfaust API is here to help you define the constraints in one shot but you can if you want define constraints one by one as we'll see later.\n",
    "\n",
    "Let's unveil the factorization constraints to decompose the Hadamard matrix $H \\in \\mathbb R^{n \\times n}$.  \n",
    "Let's go back to the code and define our constraints as lists (provided by the module ```pyfaust.factparams```):  \n"
   ]
  },
  {
   "cell_type": "code",
   "execution_count": null,
   "metadata": {},
   "outputs": [],
   "source": [
    "from pyfaust.factparams import ConstraintList\n",
    "n = int(H.shape[0])\n",
    "S_constraints = ConstraintList('splincol', 2, n, n,\n",
    "                               'splincol', 2, n, n,\n",
    "                               'splincol', 2, n, n,\n",
    "                               'splincol', 2, n, n)\n",
    "R_constraints = ConstraintList('splincol', int(n/2), n, n,\n",
    "                               'splincol', int(n/4), n, n,\n",
    "                               'splincol', int(n/8), n, n,\n",
    "                               'splincol', int(n/16), n, n)"
   ]
  },
  {
   "cell_type": "markdown",
   "metadata": {},
   "source": [
    "The ```'splincol'``` constraint used here is for defining the maximum number of nonzeros elements to respect for any row or column of the considered matrix (here $S_i$ or $R_i$). \n",
    "Looking at ```S_constraints``` initialization, we see in the first line ```'splincol', 2, n, n```; the value 2 means we target 2 nonzeros per-column and per-row, the next arguments define the size of the matrix to constrain (its number of rows and columns). \n",
    "\n",
    "So in the example of ```S_constraints``` all the targeted matrices have a 0-norm equal to 2n.\n",
    "\n",
    "More generally in pyfaust, the constraints are defined in terms of norms, in our case of Hadamard factorization we used the following 0-norms:\n",
    "\n",
    "- $ \\forall i \\in \\{1,...,J-1\\}, \\|S_i\\|_0 = 2n  \\hspace{1cm} (C1) $\n",
    "- $ \\forall i \\in \\{1,...,J-1\\}, \\| R_i \\|_0 = {n^2 \\over 2^i}  \\hspace{1cm} (C2)$\n",
    "\n",
    "Enough of explanations! I let you decrypt why ```R_constraints``` correspond likewise to (C2).\n",
    "\n",
    "But wait a minute, what would happen if we have a set of one hundred constraints? Don't worry! The pyfaust API allows to alternatively set the constraints one by one:\n",
    "\n",
    "\n",
    "from pyfaust.factparams import ConstraintInt\n",
    "S_constraints = [ConstraintInt('splincol', n, n, 2) for i in range(0,4)]\n",
    "R_constraints = [ConstraintInt('splincol', n, n, int(n/2**i)) for i in range(1,5)]"
   ]
  },
  {
   "cell_type": "markdown",
   "metadata": {},
   "source": [
    "```S_constraints``` and ```R_constraints``` are still the exact same set of constraints as before.\n",
    "\n",
    "[ConstraintInt](https://faustgrp.gitlabpages.inria.fr/faust/last-doc/html/classpyfaust_1_1factparams_1_1ConstraintInt.html) is a family of integer constraints. More globally, there is a hierarchy of classes whose parent class is [ConstraintGeneric](https://faustgrp.gitlabpages.inria.fr/faust/last-doc/html/classpyfaust_1_1factparams_1_1ConstraintGeneric.html) where you'll find other kind of constraints ; [ConstraintMat](https://faustgrp.gitlabpages.inria.fr/faust/last-doc/html/classpyfaust_1_1factparams_1_1ConstraintMat.html), [ConstraintReal](https://faustgrp.gitlabpages.inria.fr/faust/last-doc/html/classpyfaust_1_1factparams_1_1ConstraintReal.html).\n",
    "\n",
    "The table [here](https://faustgrp.gitlabpages.inria.fr/faust/last-doc/html/constraint.png) can give you an idea of each constraint definition. Most constraints are associated to a proximal operator which projects the matrix into the set of matrices defined by the constraint or at least it tries to (because it's not necessarily possible).\n",
    "\n",
    "In the latest version of FAµST it's possible to ```project``` matrices from the wrappers themselves, let's try one ConstraintInt:"
   ]
  },
  {
   "cell_type": "code",
   "execution_count": null,
   "metadata": {},
   "outputs": [],
   "source": [
    "from pyfaust.factparams import ConstraintInt\n",
    "A = rand(10,10)\n",
    "A_ = ConstraintInt('sp', 10, 10, 18).project(A)\n",
    "print(\"A nnz:\", count_nonzero(A), \"A_ nnz:\", count_nonzero(A_))"
   ]
  },
  {
   "cell_type": "markdown",
   "metadata": {},
   "source": [
    "We asked for a sparsity of 18 nonzeros and that's what we got after calling ```project```.\n",
    "\n",
    "The function ```project``` can help you debug a factorization or even understand exactly how a _prox_ works for a specific constraint and matrix.\n",
    "\n",
    "Another API doc link completes the definition of constraints : [ConstraintName](https://faustgrp.gitlabpages.inria.fr/faust/last-doc/html/classpyfaust_1_1factparams_1_1ConstraintName.html)\n",
    "\n",
    "If you find it complicated to parameterize your own set of constraints, well, you are not the only one! You may be happy to know that it is one of the priorities of the development team to provide a simplified API for the factorization algorithms in an upcoming release\n",
    "\n",
    "\n",
    "### 1.2.2 Setting the Rest of the Parameters and Running the Algorithm\n",
    "\n",
    "OK, let's continue defining the algorithm parameters, the constraints are the most part of it. You have optional parameters too, but one key parameter is the stopping criterion of the PALM4MSA algorithm.\n",
    "You have to define two stopping criteria, one for the _local optimization_ and another for the _global optimization_."
   ]
  },
  {
   "cell_type": "code",
   "execution_count": null,
   "metadata": {},
   "outputs": [],
   "source": [
    "from pyfaust.factparams import StoppingCriterion\n",
    "loc_stop = StoppingCriterion(num_its=30)\n",
    "glob_stop = StoppingCriterion(num_its=30)"
   ]
  },
  {
   "cell_type": "markdown",
   "metadata": {},
   "source": [
    "The type of stopping criterion used here is the number of iterations of PALM4MSA, that is the number of times all the current factors ($R_i$ included) are updated either for the local or the global optimization. So, with the initialization of ```loc_stop``` and ```glob_stop``` above, if you ask J factors (through the number of constraints you set) you'd count a total of $(30+30)*(J-1)$ iterations of PALM4MSA. \n",
    "\n",
    "Ok, I think we're done with the algorithm parameters, we can pack them into one object and give it to ```faust_fact```.\n"
   ]
  },
  {
   "cell_type": "code",
   "execution_count": null,
   "metadata": {},
   "outputs": [],
   "source": [
    "from pyfaust.factparams import ParamsHierarchical\n",
    "params = ParamsHierarchical(S_constraints, R_constraints, loc_stop, glob_stop,\n",
    "                                is_update_way_R2L=True) # the argument order matters!\n",
    "# launch the factorization\n",
    "FH3 = faust_fact(H, params)\n",
    "FH3"
   ]
  },
  {
   "cell_type": "markdown",
   "metadata": {},
   "source": [
    "You might wonder what is the boolean ```is_update_way_R2L```. Its role is to define if the PALM4MSA algorithm will update the $S_i$ and last $R_i$ factors from the left to right (if ```False```) or toward the opposite direction (if ```True```). It does change the results of factorization!\n",
    "\n",
    "I must mention that there are several other optional arguments you'd want to play with for configuring, just dive into the [documentation](https://faustgrp.gitlabpages.inria.fr/faust/last-doc/html).\n",
    "\n",
    "You also might call the PALM4MSA algorithm directly (not the hierarchical algorithm which makes use of it), the function is [here](https://faustgrp.gitlabpages.inria.fr/faust/last-doc/html/namespacepyfaust_1_1fact.html#a62842439447dad2e2e696f2e695d6399). You can theoretically reproduce the hierarchical algorithm step by step calling ```fact_palm4msa()``` by yourself.\n",
    "\n",
    "Well, there would be a lot to say and show about these two pyfaust algorithms and their parameters but at least with this example, I hope, you got an insight of how it works."
   ]
  },
  {
   "cell_type": "markdown",
   "metadata": {},
   "source": [
    "## 2. The FGFT Algorithms\n",
    "\n",
    "Since version 2.4, FAµST is able to compute Fast Graph Fourier Transforms.\n",
    "FAµST includes two algorithms with this goal:\n",
    "- The first one is a variant of the hierarchical algorithm discussed in [1](#1.-The-Hierarchical-PALM4MSA-Algorithm).\n",
    "- The second one is a truncated version of the Jacobi algorithm for matrix diagonalization.\n",
    "\n",
    "The two of them are implemented in C++ and Python wrappers make them available from pyfaust.\n",
    "\n",
    "Here again the theory isn't what matters but feel free to take a look at the following papers:\n",
    "\n",
    "- Le Magoarou L., Gribonval R., Tremblay N., [“Approximate fast graph Fourier transforms via multi-layer sparse approximation“,Transactions on Signal and Information Processing over Networks](https://hal.inria.fr/hal-01416110)\n",
    "\n",
    "- Le Magoarou L. and Gribonval R., [\"Are there approximate Fast Fourier Transforms on graphs ?\", ICASSP, 2016](https://hal.inria.fr/hal-01254108)\n",
    "\n",
    "\n",
    "### 2.0 The pygsp Toolbox\n",
    "\n",
    "Since we're going to work with graph Laplacians it would be a pity not to plot things. The pygsp toolbox provides what you need to easily obtain Laplacians of different graph families. Please install the [package](https://pypi.org/project/PyGSP/) with pip (or maybe conda).\n",
    "\n",
    "Let's plot the Minnesota graph (on the right) and its associated Laplacian matrix (on the left).\n"
   ]
  },
  {
   "cell_type": "code",
   "execution_count": null,
   "metadata": {},
   "outputs": [],
   "source": [
    "from pygsp.graphs import minnesota\n",
    "import matplotlib.pyplot as plt\n",
    "G = minnesota.Minnesota()\n",
    "fig, axes = plt.subplots(1, 2)\n",
    "_ = axes[0].spy(G.L, markersize=2)\n",
    "_ = G.plot(ax=axes[1])\n",
    "plt.show()"
   ]
  },
  {
   "cell_type": "markdown",
   "metadata": {},
   "source": [
    "The goal of FGFT algorithms is to obtain an orthonormal Faust that nearly diagonalizes a symmetric matrix. In terms of graph signal processing, the considered symmetric matrix is typically a graph Laplacian $L$, and the Faust is expected to approximate the graph Fourier basis, i.e., the basis of eigenvectors of $L$. Given $L$, the algorithm outputs an orthonormal Faust $\\hat U$ and a diagonal factor $\\hat D$ such that: $L \\approx \\hat U \\hat D \\hat U^T$."
   ]
  },
  {
   "cell_type": "markdown",
   "metadata": {},
   "source": [
    "### 2.1 The Truncated Jacobi Algorithms"
   ]
  },
  {
   "cell_type": "markdown",
   "metadata": {},
   "source": [
    "Let's run the first algorithm (truncated Jacobi for eigen decomposition, hence the name ```eigtj```) on the Minnesota Laplacian example. You'll see it's really straightforward!"
   ]
  },
  {
   "cell_type": "code",
   "execution_count": null,
   "metadata": {},
   "outputs": [],
   "source": [
    "import matplotlib.pyplot as plt\n",
    "from pyfaust.fact import eigtj\n",
    "L = G.L.toarray()\n",
    "Uhat, Dhat = eigtj(L, J=L.shape[0]*5, t=int(L.shape[0]/2))\n",
    "Uhat.factors(range(0,min(10,Uhat.numfactors()))).imshow(name='Uhat0-9') # For the sake of visibility \n",
    "                                                                        # only the first nine factors of Uhat \n",
    "                                                                        # are displayed, as you can see they are\n",
    "                                                                        # sparse and Dhat is a diagonal matrix.\n",
    "_a = plt.matshow(Dhat.toarray())\n",
    "title = _a.axes.set_title('Dhat\\n')\n",
    "plt.show()"
   ]
  },
  {
   "cell_type": "markdown",
   "metadata": {},
   "source": [
    "\n",
    "\n",
    "Write some code to check the first factor of $\\hat U $ is orthogonal and then that $\\hat U$ itself is orthogonal (with a tolerance near to the machine espilon)."
   ]
  },
  {
   "cell_type": "code",
   "execution_count": null,
   "metadata": {},
   "outputs": [],
   "source": [
    "from numpy import eye\n",
    "Uhat0 = Uhat.factors(0)\n",
    "n = Uhat0.shape[0]\n",
    "((Uhat0*Uhat0.T).toarray() == eye(n)).all()"
   ]
  },
  {
   "cell_type": "code",
   "execution_count": null,
   "metadata": {},
   "outputs": [],
   "source": [
    "((Uhat*Uhat.T)-eye(n)).norm()"
   ]
  },
  {
   "cell_type": "markdown",
   "metadata": {},
   "source": [
    "Ignoring the fact that $\\hat U$ is approximate and maybe some slight numerical error, yes it is orthogonal."
   ]
  },
  {
   "cell_type": "code",
   "execution_count": null,
   "metadata": {},
   "outputs": [],
   "source": [
    "norm(Uhat*Dhat.toarray()*Uhat.T-L)/norm(L)"
   ]
  },
  {
   "cell_type": "markdown",
   "metadata": {},
   "source": [
    "Good! The Laplacian approximation defined by $\\hat U$ and $\\hat D$ seems not so bad according to the relative error. Do you want a smaller error ? It's time to read the [documentation](https://faustgrp.gitlabpages.inria.fr/faust/last-doc/html/namespacepyfaust_1_1fact.html#a82967b7913a66c945f32b7bd1ec6625a), the ```eigtj()```'s keyword argument ```J``` can help you in that goal.\n",
    "\n",
    "Is that all? No, we can evaluate the memory saving $\\hat U$ brings as a Faust relatively to the matrix U obtained by ```numpy.linalg.eig()```. "
   ]
  },
  {
   "cell_type": "code",
   "execution_count": null,
   "metadata": {},
   "outputs": [],
   "source": [
    "from numpy.linalg import eig\n",
    "from numpy import diag, count_nonzero\n",
    "D, U = eig(L)\n",
    "D = diag(D)\n",
    "print(norm(U@D@U.T-L)/norm(L))"
   ]
  },
  {
   "cell_type": "code",
   "execution_count": null,
   "metadata": {},
   "outputs": [],
   "source": [
    "Uhat.nnz_sum()"
   ]
  },
  {
   "cell_type": "code",
   "execution_count": null,
   "metadata": {},
   "outputs": [],
   "source": [
    "count_nonzero(U)"
   ]
  },
  {
   "cell_type": "markdown",
   "metadata": {},
   "source": [
    "The memory space to store $\\hat U$ is smaller since its number of nonzeros elements is less than that of $U$."
   ]
  },
  {
   "cell_type": "code",
   "execution_count": null,
   "metadata": {},
   "outputs": [],
   "source": [
    "x = rand(n,1)"
   ]
  },
  {
   "cell_type": "code",
   "execution_count": null,
   "metadata": {},
   "outputs": [],
   "source": [
    "timeit Uhat@x # note: @ and * are both the matrix product when a Faust is one of the operands"
   ]
  },
  {
   "cell_type": "code",
   "execution_count": null,
   "metadata": {},
   "outputs": [],
   "source": [
    "timeit U@x # note: * isn't equivalent to matrix product when using numpy arrays"
   ]
  },
  {
   "cell_type": "markdown",
   "metadata": {},
   "source": [
    "The execution time for Faust-vector multiplication is really better too (compared to the matrix-vector multiplication) !\n",
    "Applying the Graph Fourier Transform $\\hat U$ on x is faster."
   ]
  },
  {
   "cell_type": "markdown",
   "metadata": {},
   "source": [
    "### 2.2 The Hierarchical PALM4MSA based FGFT Algorithms\n",
    "\n",
    "To finish this notebook briefly, we won't go into further details about the second algorithm for computing approximate FGFTs because it's an extension of the algorithms discussed in [1](#1.-The-Hierarchical-PALM4MSA-Algorithm).\n",
    "\n",
    "However, you'll find below a copy of the main example of [fgft_palm()](https://faustgrp.gitlabpages.inria.fr/faust/last-doc/html/namespacepyfaust_1_1fact.html#a82967b7913a66c945f32b7bd1ec6625a). This function is the entry point of the algorithm and again it's very similar to what you've seen above.\n",
    "You can try to unroll it progressively and understand how it tries to do the same thing as the eigtj() on another Laplacian matrix.\n",
    "It's much more complicated to configure but starting from an example you'll be able to write your own FGFT calculation.\n",
    "\n",
    "About the Laplacian matrix used in the code, note that pyfaust embeds some data examples (matrices in matlab v7 format) but depending on how you installed the package you may need to download them. It's not a big deal normally because ```get_data_dirpath()``` should handle it automatically (otherwise please read the [help doc](https://faustgrp.gitlabpages.inria.fr/faust/last-doc/html/FAQ.html)). Note that depending on your connection the download can take some time.\n"
   ]
  },
  {
   "cell_type": "code",
   "execution_count": null,
   "metadata": {},
   "outputs": [],
   "source": [
    "from pyfaust.fact import fgft_palm\n",
    "from pyfaust.factparams import *\n",
    "from pyfaust.demo import get_data_dirpath\n",
    "from os.path import sep\n",
    "from scipy.io import loadmat, savemat\n",
    "from numpy.linalg import eig, eigh, norm\n",
    "from numpy import sort, argsort, log2, size, copy, diag\n",
    "d = loadmat(sep.join((get_data_dirpath(),'Laplacian_256_ring.mat')))\n",
    "Lap = d['Lap'].astype('float')\n",
    "D, U = eig(Lap)\n",
    "indices = argsort(D)\n",
    "D = D[indices].astype('float')\n",
    "U = U[:,indices].astype('float')\n",
    "print(D.shape, type(D))\n",
    "print(\"eig(Lap), U error:\", norm(Lap.dot(U)-U.dot(diag(D))))\n",
    "dim = Lap.shape[0]\n",
    "nfacts = int(round(log2(dim))-3)\n",
    "over_sp = 1.5 # sparsity overhead\n",
    "dec_fact = .5 # decrease of the residum sparsity\n",
    "fact_cons, res_cons = [], []\n",
    "for j in range(1, nfacts):\n",
    "        fact_cons += [ ConstraintInt('sp',dim,dim,\n",
    "        min(int(round(dec_fact**j*dim**2*over_sp)),size(Lap)))\n",
    "    ]\n",
    "        res_cons += [\n",
    "                ConstraintInt('sp',\n",
    "            dim,\n",
    "            dim,\n",
    "            min(int(round(2*dim*over_sp)),size(Lap)))\n",
    "        ]\n",
    "params = ParamsHierarchical(fact_cons,\n",
    "        res_cons,\n",
    "        StoppingCriterion(num_its=50),\n",
    "        StoppingCriterion(num_its=100),\n",
    "        step_size=1.0000e-06,\n",
    "        constant_step_size=True,\n",
    "        init_lambda=1.0,\n",
    "        is_fact_side_left=False)\n",
    "Lap = Lap.astype(float)\n",
    "Uhat,Dhat = fgft_palm(Lap, U, params, init_D=D)\n",
    "err_U = (Uhat-U).norm()/norm(U)\n",
    "err_Lap = norm(Uhat.todense()*diag(Dhat)*Uhat.T.todense()-Lap)/norm(Lap)\n",
    "print(norm(diag(Dhat), 2))\n",
    "print(\"err_U:\", err_U)"
   ]
  },
  {
   "cell_type": "markdown",
   "metadata": {},
   "source": [
    "------------------------------"
   ]
  },
  {
   "cell_type": "markdown",
   "metadata": {},
   "source": [
    "***The third notebook is ending here***, I hope you'll be interested to dig into pyfaust API and maybe even give some feedback later. The API has made a lot of progress lastly but it remains a work-in-progress and some bugs might appear here or there. Besides, the documentation and the API can always receive some enhancement so don't hesitate, any suggestion is welcome!"
   ]
  }
 ],
 "metadata": {
  "kernelspec": {
   "display_name": "Python 3",
   "language": "python",
   "name": "python3"
  },
  "language_info": {
   "codemirror_mode": {
    "name": "ipython",
    "version": 3
   },
   "file_extension": ".py",
   "mimetype": "text/x-python",
   "name": "python",
   "nbconvert_exporter": "python",
   "pygments_lexer": "ipython3",
   "version": "3.6.5"
  }
 },
 "nbformat": 4,
 "nbformat_minor": 2
}
